{
 "cells": [
  {
   "cell_type": "markdown",
   "metadata": {},
   "source": [
    "# 1.1 Clean and Examine\n",
    "This notebook contains the process used to import, examine, and clean the dataset containing COVID hospital cases by county. It also includes the process used to slim down the US gov's USA county shapefiles to only include the contiguous US states."
   ]
  },
  {
   "cell_type": "markdown",
   "metadata": {},
   "source": [
    "### 1.1.1 Import Packages"
   ]
  },
  {
   "cell_type": "code",
   "execution_count": 105,
   "metadata": {},
   "outputs": [],
   "source": [
    "import numpy as np #linear algebra\n",
    "import pandas as pd #data processing, CSV file I/O\n",
    "import matplotlib.pyplot as plt\n",
    "import seaborn as sns\n",
    "\n",
    "# Import libraries for reading geographic data\n",
    "import geopandas as gpd\n",
    "from shapely.geometry import Point, shape\n",
    "import requests\n",
    "import zipfile\n",
    "import io\n",
    "import os\n",
    "\n",
    "%matplotlib inline"
   ]
  },
  {
   "cell_type": "code",
   "execution_count": 106,
   "metadata": {},
   "outputs": [
    {
     "data": {
      "text/plain": [
       "'/Users/tiffanyflor/Dropbox/MyProjects/usacovidhosp/notebooks'"
      ]
     },
     "execution_count": 106,
     "metadata": {},
     "output_type": "execute_result"
    }
   ],
   "source": [
    "os.getcwd()"
   ]
  },
  {
   "cell_type": "code",
   "execution_count": 107,
   "metadata": {},
   "outputs": [
    {
     "name": "stdout",
     "output_type": "stream",
     "text": [
      "tl_2017_us_county.cpg\n",
      "tl_2017_us_county.shp\n",
      "Merged_Final.csv\n",
      "tl_2017_us_county.shx\n",
      ".gitkeep\n",
      "tl_2017_us_county.dbf\n",
      "tl_2017_us_county.prj\n"
     ]
    }
   ],
   "source": [
    "# List files in the raw data directory\n",
    "\n",
    "for dirname, _, filenames in os.walk('../data/raw/'):\n",
    "    for filename in filenames:\n",
    "        print(filename)"
   ]
  },
  {
   "cell_type": "markdown",
   "metadata": {},
   "source": [
    "### 1.1.2 Examine Data Set\n",
    "Import dataset as a pandas DataFrame. Examine metadata and univariate descriptive statistics."
   ]
  },
  {
   "cell_type": "code",
   "execution_count": 108,
   "metadata": {},
   "outputs": [],
   "source": [
    "# Merged_Final.csv --> contains USA hospitals with COVID by county\n",
    "# Put into dataframe\n",
    "df = pd.read_csv('../data/raw/Merged_Final.csv')"
   ]
  },
  {
   "cell_type": "code",
   "execution_count": 109,
   "metadata": {},
   "outputs": [
    {
     "data": {
      "text/html": [
       "<div>\n",
       "<style scoped>\n",
       "    .dataframe tbody tr th:only-of-type {\n",
       "        vertical-align: middle;\n",
       "    }\n",
       "\n",
       "    .dataframe tbody tr th {\n",
       "        vertical-align: top;\n",
       "    }\n",
       "\n",
       "    .dataframe thead th {\n",
       "        text-align: right;\n",
       "    }\n",
       "</style>\n",
       "<table border=\"1\" class=\"dataframe\">\n",
       "  <thead>\n",
       "    <tr style=\"text-align: right;\">\n",
       "      <th></th>\n",
       "      <th>County Name</th>\n",
       "      <th>Facility_Name</th>\n",
       "      <th>Full_Address</th>\n",
       "      <th>State</th>\n",
       "      <th>Total</th>\n",
       "      <th>latitudes</th>\n",
       "      <th>longitudes</th>\n",
       "    </tr>\n",
       "  </thead>\n",
       "  <tbody>\n",
       "    <tr>\n",
       "      <th>0</th>\n",
       "      <td>HOUSTON</td>\n",
       "      <td>SOUTHEAST ALABAMA MEDICAL CENTER</td>\n",
       "      <td>1108 ROSS CLARK CIRCLE,DOTHAN,HOUSTON,AL</td>\n",
       "      <td>AL</td>\n",
       "      <td>2427</td>\n",
       "      <td>31.215827</td>\n",
       "      <td>-85.363433</td>\n",
       "    </tr>\n",
       "    <tr>\n",
       "      <th>1</th>\n",
       "      <td>MARSHALL</td>\n",
       "      <td>MARSHALL MEDICAL CENTERS</td>\n",
       "      <td>2505 U S HIGHWAY 431 NORTH,BOAZ,MARSHALL,AL</td>\n",
       "      <td>AL</td>\n",
       "      <td>5104</td>\n",
       "      <td>34.601233</td>\n",
       "      <td>-87.123343</td>\n",
       "    </tr>\n",
       "    <tr>\n",
       "      <th>2</th>\n",
       "      <td>LAUDERDALE</td>\n",
       "      <td>NORTH ALABAMA MEDICAL CENTER</td>\n",
       "      <td>1701 VETERANS DRIVE,FLORENCE,LAUDERDALE,AL</td>\n",
       "      <td>AL</td>\n",
       "      <td>2120</td>\n",
       "      <td>34.805043</td>\n",
       "      <td>-87.650814</td>\n",
       "    </tr>\n",
       "    <tr>\n",
       "      <th>3</th>\n",
       "      <td>JEFFERSON</td>\n",
       "      <td>ST. VINCENT'S EAST</td>\n",
       "      <td>50 MEDICAL PARK EAST DRIVE,BIRMINGHAM,JEFFERSO...</td>\n",
       "      <td>AL</td>\n",
       "      <td>26142</td>\n",
       "      <td>33.564772</td>\n",
       "      <td>-86.760155</td>\n",
       "    </tr>\n",
       "    <tr>\n",
       "      <th>4</th>\n",
       "      <td>SHELBY</td>\n",
       "      <td>SHELBY BAPTIST MEDICAL CENTER</td>\n",
       "      <td>1000 FIRST STREET NORTH,ALABASTER,SHELBY,AL</td>\n",
       "      <td>AL</td>\n",
       "      <td>20720</td>\n",
       "      <td>33.075378</td>\n",
       "      <td>-86.519100</td>\n",
       "    </tr>\n",
       "  </tbody>\n",
       "</table>\n",
       "</div>"
      ],
      "text/plain": [
       "  County Name                     Facility_Name  \\\n",
       "0     HOUSTON  SOUTHEAST ALABAMA MEDICAL CENTER   \n",
       "1    MARSHALL          MARSHALL MEDICAL CENTERS   \n",
       "2  LAUDERDALE      NORTH ALABAMA MEDICAL CENTER   \n",
       "3   JEFFERSON                ST. VINCENT'S EAST   \n",
       "4      SHELBY     SHELBY BAPTIST MEDICAL CENTER   \n",
       "\n",
       "                                        Full_Address State  Total  latitudes  \\\n",
       "0           1108 ROSS CLARK CIRCLE,DOTHAN,HOUSTON,AL    AL   2427  31.215827   \n",
       "1        2505 U S HIGHWAY 431 NORTH,BOAZ,MARSHALL,AL    AL   5104  34.601233   \n",
       "2         1701 VETERANS DRIVE,FLORENCE,LAUDERDALE,AL    AL   2120  34.805043   \n",
       "3  50 MEDICAL PARK EAST DRIVE,BIRMINGHAM,JEFFERSO...    AL  26142  33.564772   \n",
       "4        1000 FIRST STREET NORTH,ALABASTER,SHELBY,AL    AL  20720  33.075378   \n",
       "\n",
       "   longitudes  \n",
       "0  -85.363433  \n",
       "1  -87.123343  \n",
       "2  -87.650814  \n",
       "3  -86.760155  \n",
       "4  -86.519100  "
      ]
     },
     "execution_count": 109,
     "metadata": {},
     "output_type": "execute_result"
    }
   ],
   "source": [
    "# View data\n",
    "df.head()"
   ]
  },
  {
   "cell_type": "code",
   "execution_count": 110,
   "metadata": {},
   "outputs": [
    {
     "data": {
      "text/plain": [
       "(4478, 7)"
      ]
     },
     "execution_count": 110,
     "metadata": {},
     "output_type": "execute_result"
    }
   ],
   "source": [
    "# Get rows and columns\n",
    "df.shape"
   ]
  },
  {
   "cell_type": "code",
   "execution_count": 111,
   "metadata": {},
   "outputs": [
    {
     "name": "stdout",
     "output_type": "stream",
     "text": [
      "<class 'pandas.core.frame.DataFrame'>\n",
      "RangeIndex: 4478 entries, 0 to 4477\n",
      "Data columns (total 7 columns):\n",
      " #   Column         Non-Null Count  Dtype  \n",
      "---  ------         --------------  -----  \n",
      " 0   County Name    4478 non-null   object \n",
      " 1   Facility_Name  4478 non-null   object \n",
      " 2   Full_Address   4478 non-null   object \n",
      " 3   State          4478 non-null   object \n",
      " 4   Total          4478 non-null   int64  \n",
      " 5   latitudes      4478 non-null   float64\n",
      " 6   longitudes     4478 non-null   float64\n",
      "dtypes: float64(2), int64(1), object(4)\n",
      "memory usage: 245.0+ KB\n"
     ]
    }
   ],
   "source": [
    "# List data types and counts\n",
    "df.info()"
   ]
  },
  {
   "cell_type": "code",
   "execution_count": 112,
   "metadata": {},
   "outputs": [
    {
     "data": {
      "text/html": [
       "<div>\n",
       "<style scoped>\n",
       "    .dataframe tbody tr th:only-of-type {\n",
       "        vertical-align: middle;\n",
       "    }\n",
       "\n",
       "    .dataframe tbody tr th {\n",
       "        vertical-align: top;\n",
       "    }\n",
       "\n",
       "    .dataframe thead th {\n",
       "        text-align: right;\n",
       "    }\n",
       "</style>\n",
       "<table border=\"1\" class=\"dataframe\">\n",
       "  <thead>\n",
       "    <tr style=\"text-align: right;\">\n",
       "      <th></th>\n",
       "      <th>Total</th>\n",
       "      <th>latitudes</th>\n",
       "      <th>longitudes</th>\n",
       "    </tr>\n",
       "  </thead>\n",
       "  <tbody>\n",
       "    <tr>\n",
       "      <th>count</th>\n",
       "      <td>4478.000000</td>\n",
       "      <td>4478.000000</td>\n",
       "      <td>4478.000000</td>\n",
       "    </tr>\n",
       "    <tr>\n",
       "      <th>mean</th>\n",
       "      <td>13635.779812</td>\n",
       "      <td>37.942630</td>\n",
       "      <td>-93.095641</td>\n",
       "    </tr>\n",
       "    <tr>\n",
       "      <th>std</th>\n",
       "      <td>27010.816470</td>\n",
       "      <td>5.383805</td>\n",
       "      <td>14.995810</td>\n",
       "    </tr>\n",
       "    <tr>\n",
       "      <th>min</th>\n",
       "      <td>0.000000</td>\n",
       "      <td>18.372500</td>\n",
       "      <td>-159.671259</td>\n",
       "    </tr>\n",
       "    <tr>\n",
       "      <th>25%</th>\n",
       "      <td>497.000000</td>\n",
       "      <td>34.001714</td>\n",
       "      <td>-99.310467</td>\n",
       "    </tr>\n",
       "    <tr>\n",
       "      <th>50%</th>\n",
       "      <td>3581.000000</td>\n",
       "      <td>38.773624</td>\n",
       "      <td>-90.291356</td>\n",
       "    </tr>\n",
       "    <tr>\n",
       "      <th>75%</th>\n",
       "      <td>14835.000000</td>\n",
       "      <td>41.682943</td>\n",
       "      <td>-82.382111</td>\n",
       "    </tr>\n",
       "    <tr>\n",
       "      <th>max</th>\n",
       "      <td>159045.000000</td>\n",
       "      <td>58.329259</td>\n",
       "      <td>-66.046000</td>\n",
       "    </tr>\n",
       "  </tbody>\n",
       "</table>\n",
       "</div>"
      ],
      "text/plain": [
       "               Total    latitudes   longitudes\n",
       "count    4478.000000  4478.000000  4478.000000\n",
       "mean    13635.779812    37.942630   -93.095641\n",
       "std     27010.816470     5.383805    14.995810\n",
       "min         0.000000    18.372500  -159.671259\n",
       "25%       497.000000    34.001714   -99.310467\n",
       "50%      3581.000000    38.773624   -90.291356\n",
       "75%     14835.000000    41.682943   -82.382111\n",
       "max    159045.000000    58.329259   -66.046000"
      ]
     },
     "execution_count": 112,
     "metadata": {},
     "output_type": "execute_result"
    }
   ],
   "source": [
    "# Summary statistics for numerical columns\n",
    "df.describe(include=[np.number])"
   ]
  },
  {
   "cell_type": "code",
   "execution_count": 113,
   "metadata": {},
   "outputs": [
    {
     "data": {
      "text/html": [
       "<div>\n",
       "<style scoped>\n",
       "    .dataframe tbody tr th:only-of-type {\n",
       "        vertical-align: middle;\n",
       "    }\n",
       "\n",
       "    .dataframe tbody tr th {\n",
       "        vertical-align: top;\n",
       "    }\n",
       "\n",
       "    .dataframe thead th {\n",
       "        text-align: right;\n",
       "    }\n",
       "</style>\n",
       "<table border=\"1\" class=\"dataframe\">\n",
       "  <thead>\n",
       "    <tr style=\"text-align: right;\">\n",
       "      <th></th>\n",
       "      <th>County Name</th>\n",
       "      <th>Facility_Name</th>\n",
       "      <th>Full_Address</th>\n",
       "      <th>State</th>\n",
       "    </tr>\n",
       "  </thead>\n",
       "  <tbody>\n",
       "    <tr>\n",
       "      <th>count</th>\n",
       "      <td>4478</td>\n",
       "      <td>4478</td>\n",
       "      <td>4478</td>\n",
       "      <td>4478</td>\n",
       "    </tr>\n",
       "    <tr>\n",
       "      <th>unique</th>\n",
       "      <td>1273</td>\n",
       "      <td>4341</td>\n",
       "      <td>4476</td>\n",
       "      <td>51</td>\n",
       "    </tr>\n",
       "    <tr>\n",
       "      <th>top</th>\n",
       "      <td>LOS ANGELES</td>\n",
       "      <td>MEMORIAL HOSPITAL</td>\n",
       "      <td>47 SOUTH FOURTH ST,ROLLING FORK,SHARKEY,MS</td>\n",
       "      <td>TX</td>\n",
       "    </tr>\n",
       "    <tr>\n",
       "      <th>freq</th>\n",
       "      <td>90</td>\n",
       "      <td>12</td>\n",
       "      <td>2</td>\n",
       "      <td>407</td>\n",
       "    </tr>\n",
       "  </tbody>\n",
       "</table>\n",
       "</div>"
      ],
      "text/plain": [
       "        County Name      Facility_Name  \\\n",
       "count          4478               4478   \n",
       "unique         1273               4341   \n",
       "top     LOS ANGELES  MEMORIAL HOSPITAL   \n",
       "freq             90                 12   \n",
       "\n",
       "                                      Full_Address State  \n",
       "count                                         4478  4478  \n",
       "unique                                        4476    51  \n",
       "top     47 SOUTH FOURTH ST,ROLLING FORK,SHARKEY,MS    TX  \n",
       "freq                                             2   407  "
      ]
     },
     "execution_count": 113,
     "metadata": {},
     "output_type": "execute_result"
    }
   ],
   "source": [
    "# Summary statistics for object and categorical columns\n",
    "df.describe(include=[np.object, pd.Categorical])"
   ]
  },
  {
   "cell_type": "markdown",
   "metadata": {},
   "source": [
    "### 1.1.3 Clean Data\n",
    "Drop unnecessary rows and remove duplicates. Reset index for a clean dataframe."
   ]
  },
  {
   "cell_type": "code",
   "execution_count": 114,
   "metadata": {},
   "outputs": [
    {
     "data": {
      "text/plain": [
       "51"
      ]
     },
     "execution_count": 114,
     "metadata": {},
     "output_type": "execute_result"
    }
   ],
   "source": [
    "# Check out the number of states listed\n",
    "df['State'].nunique()"
   ]
  },
  {
   "cell_type": "code",
   "execution_count": 115,
   "metadata": {},
   "outputs": [
    {
     "data": {
      "text/plain": [
       "array(['AL', 'AK', 'AZ', 'AR', 'CA', 'CO', 'CT', 'DE', 'FL', 'GA', 'HI',\n",
       "       'ID', 'IL', 'IN', 'IA', 'KS', 'KY', 'LA', 'ME', 'MD', 'MA', 'MI',\n",
       "       'MN', 'MS', 'MO', 'MT', 'NE', 'NV', 'NH', 'NJ', 'NM', 'NY', 'NC',\n",
       "       'ND', 'OH', 'OK', 'OR', 'PA', 'PR', 'RI', 'SC', 'SD', 'TN', 'TX',\n",
       "       'UT', 'VT', 'VA', 'WA', 'WV', 'WI', 'WY'], dtype=object)"
      ]
     },
     "execution_count": 115,
     "metadata": {},
     "output_type": "execute_result"
    }
   ],
   "source": [
    "# Notice it includes Puerto Rico\n",
    "df['State'].unique()"
   ]
  },
  {
   "cell_type": "code",
   "execution_count": 116,
   "metadata": {},
   "outputs": [
    {
     "data": {
      "text/plain": [
       "(4460, 7)"
      ]
     },
     "execution_count": 116,
     "metadata": {},
     "output_type": "execute_result"
    }
   ],
   "source": [
    "# Since we are only concerned with the 50 US states, we'll drop rows containing PR\n",
    "df = df[df.State != 'PR']\n",
    "df.shape"
   ]
  },
  {
   "cell_type": "code",
   "execution_count": 117,
   "metadata": {},
   "outputs": [
    {
     "data": {
      "text/plain": [
       "101 CIRCLE DRIVE,HILLSBORO,HILL,TX                 2\n",
       "47 SOUTH FOURTH ST,ROLLING FORK,SHARKEY,MS         2\n",
       "1500 S MAIN ST,FORT WORTH,TARRANT,TX               1\n",
       "751 NE BLAKELY DR,ISSAQUAH,KING,WA                 1\n",
       "3001 BROADMOOR BLVD NE,RIO RANCHO,SANDOVAL,NM      1\n",
       "                                                  ..\n",
       "172 KINSLEY ST,NASHUA,HILLSBOROUGH,NH              1\n",
       "501 NORTH LANSDOWNE AVE,DREXEL HILL,DELAWARE,PA    1\n",
       "1501 SOUTH DIXIE STREET,HORSE CAVE,HART,KY         1\n",
       "41 EAST POST R0AD,WHITE PLAINS,WESTCHESTER,NY      1\n",
       "9191 GRANT ST,THORNTON,ADAMS,CO                    1\n",
       "Name: Full_Address, Length: 4458, dtype: int64"
      ]
     },
     "execution_count": 117,
     "metadata": {},
     "output_type": "execute_result"
    }
   ],
   "source": [
    "# Check for duplicate hospitals\n",
    "df['Full_Address'].value_counts()"
   ]
  },
  {
   "cell_type": "code",
   "execution_count": 118,
   "metadata": {},
   "outputs": [
    {
     "data": {
      "text/html": [
       "<div>\n",
       "<style scoped>\n",
       "    .dataframe tbody tr th:only-of-type {\n",
       "        vertical-align: middle;\n",
       "    }\n",
       "\n",
       "    .dataframe tbody tr th {\n",
       "        vertical-align: top;\n",
       "    }\n",
       "\n",
       "    .dataframe thead th {\n",
       "        text-align: right;\n",
       "    }\n",
       "</style>\n",
       "<table border=\"1\" class=\"dataframe\">\n",
       "  <thead>\n",
       "    <tr style=\"text-align: right;\">\n",
       "      <th></th>\n",
       "      <th>County Name</th>\n",
       "      <th>Facility_Name</th>\n",
       "      <th>Full_Address</th>\n",
       "      <th>State</th>\n",
       "      <th>Total</th>\n",
       "      <th>latitudes</th>\n",
       "      <th>longitudes</th>\n",
       "    </tr>\n",
       "  </thead>\n",
       "  <tbody>\n",
       "    <tr>\n",
       "      <th>2158</th>\n",
       "      <td>SHARKEY</td>\n",
       "      <td>SHARKEY ISSAQUENA COMMUNITY HOSPITAL</td>\n",
       "      <td>47 SOUTH FOURTH ST,ROLLING FORK,SHARKEY,MS</td>\n",
       "      <td>MS</td>\n",
       "      <td>65</td>\n",
       "      <td>34.004727</td>\n",
       "      <td>-90.070306</td>\n",
       "    </tr>\n",
       "    <tr>\n",
       "      <th>2212</th>\n",
       "      <td>SHARKEY</td>\n",
       "      <td>SHARKEY ISSAQUENA COMMUNITY HOSPITAL</td>\n",
       "      <td>47 SOUTH FOURTH ST,ROLLING FORK,SHARKEY,MS</td>\n",
       "      <td>MS</td>\n",
       "      <td>65</td>\n",
       "      <td>34.004727</td>\n",
       "      <td>-90.070306</td>\n",
       "    </tr>\n",
       "  </tbody>\n",
       "</table>\n",
       "</div>"
      ],
      "text/plain": [
       "     County Name                         Facility_Name  \\\n",
       "2158     SHARKEY  SHARKEY ISSAQUENA COMMUNITY HOSPITAL   \n",
       "2212     SHARKEY  SHARKEY ISSAQUENA COMMUNITY HOSPITAL   \n",
       "\n",
       "                                    Full_Address State  Total  latitudes  \\\n",
       "2158  47 SOUTH FOURTH ST,ROLLING FORK,SHARKEY,MS    MS     65  34.004727   \n",
       "2212  47 SOUTH FOURTH ST,ROLLING FORK,SHARKEY,MS    MS     65  34.004727   \n",
       "\n",
       "      longitudes  \n",
       "2158  -90.070306  \n",
       "2212  -90.070306  "
      ]
     },
     "execution_count": 118,
     "metadata": {},
     "output_type": "execute_result"
    }
   ],
   "source": [
    "# Examine hospitals with more than one listing\n",
    "df[df['Full_Address'] == '47 SOUTH FOURTH ST,ROLLING FORK,SHARKEY,MS']"
   ]
  },
  {
   "cell_type": "code",
   "execution_count": 119,
   "metadata": {},
   "outputs": [
    {
     "data": {
      "text/html": [
       "<div>\n",
       "<style scoped>\n",
       "    .dataframe tbody tr th:only-of-type {\n",
       "        vertical-align: middle;\n",
       "    }\n",
       "\n",
       "    .dataframe tbody tr th {\n",
       "        vertical-align: top;\n",
       "    }\n",
       "\n",
       "    .dataframe thead th {\n",
       "        text-align: right;\n",
       "    }\n",
       "</style>\n",
       "<table border=\"1\" class=\"dataframe\">\n",
       "  <thead>\n",
       "    <tr style=\"text-align: right;\">\n",
       "      <th></th>\n",
       "      <th>County Name</th>\n",
       "      <th>Facility_Name</th>\n",
       "      <th>Full_Address</th>\n",
       "      <th>State</th>\n",
       "      <th>Total</th>\n",
       "      <th>latitudes</th>\n",
       "      <th>longitudes</th>\n",
       "    </tr>\n",
       "  </thead>\n",
       "  <tbody>\n",
       "    <tr>\n",
       "      <th>3725</th>\n",
       "      <td>HILL</td>\n",
       "      <td>HILL REGIONAL HOSPITAL</td>\n",
       "      <td>101 CIRCLE DRIVE,HILLSBORO,HILL,TX</td>\n",
       "      <td>TX</td>\n",
       "      <td>239</td>\n",
       "      <td>31.269893</td>\n",
       "      <td>-98.943568</td>\n",
       "    </tr>\n",
       "    <tr>\n",
       "      <th>3947</th>\n",
       "      <td>HILL</td>\n",
       "      <td>HILL REGIONAL HOSPITAL</td>\n",
       "      <td>101 CIRCLE DRIVE,HILLSBORO,HILL,TX</td>\n",
       "      <td>TX</td>\n",
       "      <td>239</td>\n",
       "      <td>31.269893</td>\n",
       "      <td>-98.943568</td>\n",
       "    </tr>\n",
       "  </tbody>\n",
       "</table>\n",
       "</div>"
      ],
      "text/plain": [
       "     County Name           Facility_Name                        Full_Address  \\\n",
       "3725        HILL  HILL REGIONAL HOSPITAL  101 CIRCLE DRIVE,HILLSBORO,HILL,TX   \n",
       "3947        HILL  HILL REGIONAL HOSPITAL  101 CIRCLE DRIVE,HILLSBORO,HILL,TX   \n",
       "\n",
       "     State  Total  latitudes  longitudes  \n",
       "3725    TX    239  31.269893  -98.943568  \n",
       "3947    TX    239  31.269893  -98.943568  "
      ]
     },
     "execution_count": 119,
     "metadata": {},
     "output_type": "execute_result"
    }
   ],
   "source": [
    "df[df['Full_Address'] == '101 CIRCLE DRIVE,HILLSBORO,HILL,TX']"
   ]
  },
  {
   "cell_type": "code",
   "execution_count": 120,
   "metadata": {},
   "outputs": [
    {
     "data": {
      "text/html": [
       "<div>\n",
       "<style scoped>\n",
       "    .dataframe tbody tr th:only-of-type {\n",
       "        vertical-align: middle;\n",
       "    }\n",
       "\n",
       "    .dataframe tbody tr th {\n",
       "        vertical-align: top;\n",
       "    }\n",
       "\n",
       "    .dataframe thead th {\n",
       "        text-align: right;\n",
       "    }\n",
       "</style>\n",
       "<table border=\"1\" class=\"dataframe\">\n",
       "  <thead>\n",
       "    <tr style=\"text-align: right;\">\n",
       "      <th></th>\n",
       "      <th>County Name</th>\n",
       "      <th>Facility_Name</th>\n",
       "      <th>Full_Address</th>\n",
       "      <th>State</th>\n",
       "      <th>Total</th>\n",
       "      <th>latitudes</th>\n",
       "      <th>longitudes</th>\n",
       "    </tr>\n",
       "  </thead>\n",
       "  <tbody>\n",
       "    <tr>\n",
       "      <th>2155</th>\n",
       "      <td>HINDS</td>\n",
       "      <td>MERIT HEALTH CENTRAL</td>\n",
       "      <td>1850 CHADWICK DR,JACKSON,HINDS,MS</td>\n",
       "      <td>MS</td>\n",
       "      <td>3691</td>\n",
       "      <td>32.287775</td>\n",
       "      <td>-90.254940</td>\n",
       "    </tr>\n",
       "    <tr>\n",
       "      <th>2156</th>\n",
       "      <td>WAYNE</td>\n",
       "      <td>WAYNE GENERAL HOSPITAL</td>\n",
       "      <td>950 MATTHEW DR,WAYNESBORO,WAYNE,MS</td>\n",
       "      <td>MS</td>\n",
       "      <td>29753</td>\n",
       "      <td>31.673138</td>\n",
       "      <td>-88.634152</td>\n",
       "    </tr>\n",
       "    <tr>\n",
       "      <th>2157</th>\n",
       "      <td>FORREST</td>\n",
       "      <td>FORREST GENERAL HOSPITAL</td>\n",
       "      <td>6051 US HIGHWAY 49,HATTIESBURG,FORREST,MS</td>\n",
       "      <td>MS</td>\n",
       "      <td>1197</td>\n",
       "      <td>33.079453</td>\n",
       "      <td>-89.858575</td>\n",
       "    </tr>\n",
       "    <tr>\n",
       "      <th>2158</th>\n",
       "      <td>SHARKEY</td>\n",
       "      <td>SHARKEY ISSAQUENA COMMUNITY HOSPITAL</td>\n",
       "      <td>47 SOUTH FOURTH ST,ROLLING FORK,SHARKEY,MS</td>\n",
       "      <td>MS</td>\n",
       "      <td>65</td>\n",
       "      <td>34.004727</td>\n",
       "      <td>-90.070306</td>\n",
       "    </tr>\n",
       "    <tr>\n",
       "      <th>2159</th>\n",
       "      <td>LAUDERDALE</td>\n",
       "      <td>ANDERSON REGIONAL MEDICAL CENTER SOUTH CAMPUS</td>\n",
       "      <td>1102 CONSTITUTION AVENUE,MERIDIAN,LAUDERDALE,MS</td>\n",
       "      <td>MS</td>\n",
       "      <td>2120</td>\n",
       "      <td>31.686577</td>\n",
       "      <td>-88.652958</td>\n",
       "    </tr>\n",
       "    <tr>\n",
       "      <th>2160</th>\n",
       "      <td>WASHINGTON</td>\n",
       "      <td>DELTA REGIONAL MEDICAL CENTER</td>\n",
       "      <td>1400 E UNION ST,GREENVILLE,WASHINGTON,MS</td>\n",
       "      <td>MS</td>\n",
       "      <td>17929</td>\n",
       "      <td>33.410527</td>\n",
       "      <td>-91.035356</td>\n",
       "    </tr>\n",
       "    <tr>\n",
       "      <th>2161</th>\n",
       "      <td>ADAMS</td>\n",
       "      <td>MERIT HEALTH NATCHEZ</td>\n",
       "      <td>52 SERGEANT PRENTISS DRIVE,NATCHEZ,ADAMS,MS</td>\n",
       "      <td>MS</td>\n",
       "      <td>7059</td>\n",
       "      <td>31.867069</td>\n",
       "      <td>-90.443150</td>\n",
       "    </tr>\n",
       "    <tr>\n",
       "      <th>2162</th>\n",
       "      <td>MARION</td>\n",
       "      <td>MARION GENERAL HOSPITAL</td>\n",
       "      <td>1560 SUMRALL RD,COLUMBIA,MARION,MS</td>\n",
       "      <td>MS</td>\n",
       "      <td>22462</td>\n",
       "      <td>31.255953</td>\n",
       "      <td>-89.805607</td>\n",
       "    </tr>\n",
       "  </tbody>\n",
       "</table>\n",
       "</div>"
      ],
      "text/plain": [
       "     County Name                                  Facility_Name  \\\n",
       "2155       HINDS                           MERIT HEALTH CENTRAL   \n",
       "2156       WAYNE                         WAYNE GENERAL HOSPITAL   \n",
       "2157     FORREST                       FORREST GENERAL HOSPITAL   \n",
       "2158     SHARKEY           SHARKEY ISSAQUENA COMMUNITY HOSPITAL   \n",
       "2159  LAUDERDALE  ANDERSON REGIONAL MEDICAL CENTER SOUTH CAMPUS   \n",
       "2160  WASHINGTON                  DELTA REGIONAL MEDICAL CENTER   \n",
       "2161       ADAMS                           MERIT HEALTH NATCHEZ   \n",
       "2162      MARION                        MARION GENERAL HOSPITAL   \n",
       "\n",
       "                                         Full_Address State  Total  latitudes  \\\n",
       "2155                1850 CHADWICK DR,JACKSON,HINDS,MS    MS   3691  32.287775   \n",
       "2156               950 MATTHEW DR,WAYNESBORO,WAYNE,MS    MS  29753  31.673138   \n",
       "2157        6051 US HIGHWAY 49,HATTIESBURG,FORREST,MS    MS   1197  33.079453   \n",
       "2158       47 SOUTH FOURTH ST,ROLLING FORK,SHARKEY,MS    MS     65  34.004727   \n",
       "2159  1102 CONSTITUTION AVENUE,MERIDIAN,LAUDERDALE,MS    MS   2120  31.686577   \n",
       "2160         1400 E UNION ST,GREENVILLE,WASHINGTON,MS    MS  17929  33.410527   \n",
       "2161      52 SERGEANT PRENTISS DRIVE,NATCHEZ,ADAMS,MS    MS   7059  31.867069   \n",
       "2162               1560 SUMRALL RD,COLUMBIA,MARION,MS    MS  22462  31.255953   \n",
       "\n",
       "      longitudes  \n",
       "2155  -90.254940  \n",
       "2156  -88.634152  \n",
       "2157  -89.858575  \n",
       "2158  -90.070306  \n",
       "2159  -88.652958  \n",
       "2160  -91.035356  \n",
       "2161  -90.443150  \n",
       "2162  -89.805607  "
      ]
     },
     "execution_count": 120,
     "metadata": {},
     "output_type": "execute_result"
    }
   ],
   "source": [
    "# Review areas around index to determine if there is an obvious order to hospital input\n",
    "df.iloc[2155:2163]"
   ]
  },
  {
   "cell_type": "code",
   "execution_count": 121,
   "metadata": {},
   "outputs": [],
   "source": [
    "# No obvious pattern found\n",
    "# Drop 2nd occurence of each duplicate\n",
    "df.drop([2212,3947], inplace=True)"
   ]
  },
  {
   "cell_type": "code",
   "execution_count": 122,
   "metadata": {},
   "outputs": [
    {
     "data": {
      "text/html": [
       "<div>\n",
       "<style scoped>\n",
       "    .dataframe tbody tr th:only-of-type {\n",
       "        vertical-align: middle;\n",
       "    }\n",
       "\n",
       "    .dataframe tbody tr th {\n",
       "        vertical-align: top;\n",
       "    }\n",
       "\n",
       "    .dataframe thead th {\n",
       "        text-align: right;\n",
       "    }\n",
       "</style>\n",
       "<table border=\"1\" class=\"dataframe\">\n",
       "  <thead>\n",
       "    <tr style=\"text-align: right;\">\n",
       "      <th></th>\n",
       "      <th>County Name</th>\n",
       "      <th>Facility_Name</th>\n",
       "      <th>Full_Address</th>\n",
       "      <th>State</th>\n",
       "      <th>Total</th>\n",
       "      <th>latitudes</th>\n",
       "      <th>longitudes</th>\n",
       "    </tr>\n",
       "  </thead>\n",
       "  <tbody>\n",
       "    <tr>\n",
       "      <th>2211</th>\n",
       "      <td>TIPPAH</td>\n",
       "      <td>TIPPAH COUNTY HOSPITAL</td>\n",
       "      <td>1005 CITY AVE NORTH,RIPLEY,TIPPAH,MS</td>\n",
       "      <td>MS</td>\n",
       "      <td>193</td>\n",
       "      <td>34.739039</td>\n",
       "      <td>-88.950607</td>\n",
       "    </tr>\n",
       "    <tr>\n",
       "      <th>2213</th>\n",
       "      <td>RANKIN</td>\n",
       "      <td>BRENTWOOD BEHAVIORAL HEALTHCARE OF MS</td>\n",
       "      <td>3531 EAST LAKELAND DRIVE,FLOWOOD,RANKIN,MS</td>\n",
       "      <td>MS</td>\n",
       "      <td>1459</td>\n",
       "      <td>32.357990</td>\n",
       "      <td>-90.011870</td>\n",
       "    </tr>\n",
       "  </tbody>\n",
       "</table>\n",
       "</div>"
      ],
      "text/plain": [
       "     County Name                          Facility_Name  \\\n",
       "2211      TIPPAH                 TIPPAH COUNTY HOSPITAL   \n",
       "2213      RANKIN  BRENTWOOD BEHAVIORAL HEALTHCARE OF MS   \n",
       "\n",
       "                                    Full_Address State  Total  latitudes  \\\n",
       "2211        1005 CITY AVE NORTH,RIPLEY,TIPPAH,MS    MS    193  34.739039   \n",
       "2213  3531 EAST LAKELAND DRIVE,FLOWOOD,RANKIN,MS    MS   1459  32.357990   \n",
       "\n",
       "      longitudes  \n",
       "2211  -88.950607  \n",
       "2213  -90.011870  "
      ]
     },
     "execution_count": 122,
     "metadata": {},
     "output_type": "execute_result"
    }
   ],
   "source": [
    "# Check rows have been dropped\n",
    "df.loc[2211:2213]"
   ]
  },
  {
   "cell_type": "code",
   "execution_count": 123,
   "metadata": {},
   "outputs": [
    {
     "data": {
      "text/html": [
       "<div>\n",
       "<style scoped>\n",
       "    .dataframe tbody tr th:only-of-type {\n",
       "        vertical-align: middle;\n",
       "    }\n",
       "\n",
       "    .dataframe tbody tr th {\n",
       "        vertical-align: top;\n",
       "    }\n",
       "\n",
       "    .dataframe thead th {\n",
       "        text-align: right;\n",
       "    }\n",
       "</style>\n",
       "<table border=\"1\" class=\"dataframe\">\n",
       "  <thead>\n",
       "    <tr style=\"text-align: right;\">\n",
       "      <th></th>\n",
       "      <th>County Name</th>\n",
       "      <th>Facility_Name</th>\n",
       "      <th>Full_Address</th>\n",
       "      <th>State</th>\n",
       "      <th>Total</th>\n",
       "      <th>latitudes</th>\n",
       "      <th>longitudes</th>\n",
       "    </tr>\n",
       "  </thead>\n",
       "  <tbody>\n",
       "    <tr>\n",
       "      <th>3945</th>\n",
       "      <td>HAMILTON</td>\n",
       "      <td>HAMILTON GENERAL HOSPITAL</td>\n",
       "      <td>400 N BROWN, BUILDING 1,HAMILTON,HAMILTON,TX</td>\n",
       "      <td>TX</td>\n",
       "      <td>15125</td>\n",
       "      <td>31.703875</td>\n",
       "      <td>-98.113448</td>\n",
       "    </tr>\n",
       "    <tr>\n",
       "      <th>3946</th>\n",
       "      <td>HOUSTON</td>\n",
       "      <td>CROCKETT MEDICAL CENTER</td>\n",
       "      <td>1100 E LOOP 304,CROCKETT,HOUSTON,TX</td>\n",
       "      <td>TX</td>\n",
       "      <td>2427</td>\n",
       "      <td>31.322152</td>\n",
       "      <td>-95.437114</td>\n",
       "    </tr>\n",
       "    <tr>\n",
       "      <th>3948</th>\n",
       "      <td>TARRANT</td>\n",
       "      <td>COOK CHILDRENS MEDICAL CENTER</td>\n",
       "      <td>801 SEVENTH AVENUE,FORT WORTH,TARRANT,TX</td>\n",
       "      <td>TX</td>\n",
       "      <td>21617</td>\n",
       "      <td>30.851827</td>\n",
       "      <td>-95.187186</td>\n",
       "    </tr>\n",
       "  </tbody>\n",
       "</table>\n",
       "</div>"
      ],
      "text/plain": [
       "     County Name                  Facility_Name  \\\n",
       "3945    HAMILTON      HAMILTON GENERAL HOSPITAL   \n",
       "3946     HOUSTON        CROCKETT MEDICAL CENTER   \n",
       "3948     TARRANT  COOK CHILDRENS MEDICAL CENTER   \n",
       "\n",
       "                                      Full_Address State  Total  latitudes  \\\n",
       "3945  400 N BROWN, BUILDING 1,HAMILTON,HAMILTON,TX    TX  15125  31.703875   \n",
       "3946           1100 E LOOP 304,CROCKETT,HOUSTON,TX    TX   2427  31.322152   \n",
       "3948      801 SEVENTH AVENUE,FORT WORTH,TARRANT,TX    TX  21617  30.851827   \n",
       "\n",
       "      longitudes  \n",
       "3945  -98.113448  \n",
       "3946  -95.437114  \n",
       "3948  -95.187186  "
      ]
     },
     "execution_count": 123,
     "metadata": {},
     "output_type": "execute_result"
    }
   ],
   "source": [
    "df.loc[3945:3948]\n",
    "# Notice that the index and iloc do not match anymore so we had to use loc\n",
    "# and now have to reset index"
   ]
  },
  {
   "cell_type": "code",
   "execution_count": 124,
   "metadata": {},
   "outputs": [
    {
     "data": {
      "text/html": [
       "<div>\n",
       "<style scoped>\n",
       "    .dataframe tbody tr th:only-of-type {\n",
       "        vertical-align: middle;\n",
       "    }\n",
       "\n",
       "    .dataframe tbody tr th {\n",
       "        vertical-align: top;\n",
       "    }\n",
       "\n",
       "    .dataframe thead th {\n",
       "        text-align: right;\n",
       "    }\n",
       "</style>\n",
       "<table border=\"1\" class=\"dataframe\">\n",
       "  <thead>\n",
       "    <tr style=\"text-align: right;\">\n",
       "      <th></th>\n",
       "      <th>County Name</th>\n",
       "      <th>Facility_Name</th>\n",
       "      <th>Full_Address</th>\n",
       "      <th>State</th>\n",
       "      <th>Total</th>\n",
       "      <th>latitudes</th>\n",
       "      <th>longitudes</th>\n",
       "    </tr>\n",
       "  </thead>\n",
       "  <tbody>\n",
       "    <tr>\n",
       "      <th>3945</th>\n",
       "      <td>KERR</td>\n",
       "      <td>KERRVILLE STATE HOSP</td>\n",
       "      <td>721 THOMPSON DR,KERRVILLE,KERR,TX</td>\n",
       "      <td>TX</td>\n",
       "      <td>255</td>\n",
       "      <td>30.045887</td>\n",
       "      <td>-99.157744</td>\n",
       "    </tr>\n",
       "    <tr>\n",
       "      <th>3946</th>\n",
       "      <td>WICHITA</td>\n",
       "      <td>RED RIVER HOSPITAL</td>\n",
       "      <td>1505 8TH ST,WICHITA FALLS,WICHITA,TX</td>\n",
       "      <td>TX</td>\n",
       "      <td>709</td>\n",
       "      <td>33.906316</td>\n",
       "      <td>-98.501335</td>\n",
       "    </tr>\n",
       "    <tr>\n",
       "      <th>3947</th>\n",
       "      <td>HARRIS</td>\n",
       "      <td>WEST OAKS HOSPITAL</td>\n",
       "      <td>6500 HORNWOOD,HOUSTON,HARRIS,TX</td>\n",
       "      <td>TX</td>\n",
       "      <td>56280</td>\n",
       "      <td>29.708962</td>\n",
       "      <td>-95.496980</td>\n",
       "    </tr>\n",
       "  </tbody>\n",
       "</table>\n",
       "</div>"
      ],
      "text/plain": [
       "     County Name         Facility_Name                          Full_Address  \\\n",
       "3945        KERR  KERRVILLE STATE HOSP     721 THOMPSON DR,KERRVILLE,KERR,TX   \n",
       "3946     WICHITA    RED RIVER HOSPITAL  1505 8TH ST,WICHITA FALLS,WICHITA,TX   \n",
       "3947      HARRIS    WEST OAKS HOSPITAL       6500 HORNWOOD,HOUSTON,HARRIS,TX   \n",
       "\n",
       "     State  Total  latitudes  longitudes  \n",
       "3945    TX    255  30.045887  -99.157744  \n",
       "3946    TX    709  33.906316  -98.501335  \n",
       "3947    TX  56280  29.708962  -95.496980  "
      ]
     },
     "execution_count": 124,
     "metadata": {},
     "output_type": "execute_result"
    }
   ],
   "source": [
    "# Reset index\n",
    "df.reset_index(drop=True, inplace=True)\n",
    "\n",
    "# Check index has been reset\n",
    "df.iloc[3945:3948]"
   ]
  },
  {
   "cell_type": "markdown",
   "metadata": {},
   "source": [
    "### 1.1.3 Reduce Memory Usage\n",
    "Change data types of columns"
   ]
  },
  {
   "cell_type": "code",
   "execution_count": 125,
   "metadata": {},
   "outputs": [
    {
     "data": {
      "text/plain": [
       "County Name       object\n",
       "Facility_Name     object\n",
       "Full_Address      object\n",
       "State             object\n",
       "Total              int64\n",
       "latitudes        float64\n",
       "longitudes       float64\n",
       "dtype: object"
      ]
     },
     "execution_count": 125,
     "metadata": {},
     "output_type": "execute_result"
    }
   ],
   "source": [
    "# Inspect the data types of each column\n",
    "df.dtypes"
   ]
  },
  {
   "cell_type": "code",
   "execution_count": 126,
   "metadata": {},
   "outputs": [
    {
     "data": {
      "text/plain": [
       "Index               128\n",
       "County Name      286237\n",
       "Facility_Name    381694\n",
       "Full_Address     432295\n",
       "State            263022\n",
       "Total             35664\n",
       "latitudes         35664\n",
       "longitudes        35664\n",
       "dtype: int64"
      ]
     },
     "execution_count": 126,
     "metadata": {},
     "output_type": "execute_result"
    }
   ],
   "source": [
    "# Find memory usage of each column\n",
    "original_mem = df.memory_usage(deep=True)\n",
    "original_mem"
   ]
  },
  {
   "cell_type": "code",
   "execution_count": 127,
   "metadata": {},
   "outputs": [
    {
     "data": {
      "text/plain": [
       "County Name      0.285554\n",
       "Facility_Name    0.969717\n",
       "Full_Address     1.000000\n",
       "State            0.011216\n",
       "dtype: float64"
      ]
     },
     "execution_count": 127,
     "metadata": {},
     "output_type": "execute_result"
    }
   ],
   "source": [
    "# We know from our examination above that State only has 50 unique values\n",
    "# It can be changed to a categorical variable\n",
    "# Can anything else? Find the percentage of unique values in each category\n",
    "df.select_dtypes(include=['object']).nunique()/df.select_dtypes(include=['object']).count()"
   ]
  },
  {
   "cell_type": "code",
   "execution_count": 128,
   "metadata": {},
   "outputs": [
    {
     "data": {
      "text/plain": [
       "County Name        object\n",
       "Facility_Name      object\n",
       "Full_Address       object\n",
       "State            category\n",
       "Total               int64\n",
       "latitudes         float64\n",
       "longitudes        float64\n",
       "dtype: object"
      ]
     },
     "execution_count": 128,
     "metadata": {},
     "output_type": "execute_result"
    }
   ],
   "source": [
    "# We see that County Name has about 29% unique values,\n",
    "# Facility has 97%, Full_Address has 100%, and State has 1%\n",
    "# The best candidate for categorical is the State column\n",
    "df['State'] = df['State'].astype('category')\n",
    "df.dtypes"
   ]
  },
  {
   "cell_type": "code",
   "execution_count": 130,
   "metadata": {},
   "outputs": [
    {
     "data": {
      "text/plain": [
       "County Name      category\n",
       "Facility_Name      object\n",
       "Full_Address       object\n",
       "State            category\n",
       "Total               int64\n",
       "latitudes         float64\n",
       "longitudes        float64\n",
       "dtype: object"
      ]
     },
     "execution_count": 130,
     "metadata": {},
     "output_type": "execute_result"
    }
   ],
   "source": [
    "# Let's try out County Name to see if it's worth it\n",
    "df['County Name'] = df['County Name'].astype('category')\n",
    "df.dtypes"
   ]
  },
  {
   "cell_type": "code",
   "execution_count": 131,
   "metadata": {},
   "outputs": [
    {
     "data": {
      "text/plain": [
       "Index               128\n",
       "County Name      131453\n",
       "Facility_Name    381694\n",
       "Full_Address     432295\n",
       "State              9968\n",
       "Total             35664\n",
       "latitudes         35664\n",
       "longitudes        35664\n",
       "dtype: int64"
      ]
     },
     "execution_count": 131,
     "metadata": {},
     "output_type": "execute_result"
    }
   ],
   "source": [
    "# compute new memory usage\n",
    "new_mem = df.memory_usage(deep=True)\n",
    "new_mem"
   ]
  },
  {
   "cell_type": "code",
   "execution_count": 132,
   "metadata": {},
   "outputs": [
    {
     "data": {
      "text/plain": [
       "Index            1.000000\n",
       "County Name      0.459245\n",
       "Facility_Name    1.000000\n",
       "Full_Address     1.000000\n",
       "State            0.037898\n",
       "Total            1.000000\n",
       "latitudes        1.000000\n",
       "longitudes       1.000000\n",
       "dtype: float64"
      ]
     },
     "execution_count": 132,
     "metadata": {},
     "output_type": "execute_result"
    }
   ],
   "source": [
    "# Compare original with updated memory usage\n",
    "new_mem/original_mem"
   ]
  },
  {
   "cell_type": "markdown",
   "metadata": {},
   "source": [
    "State has shrunk to 3.8% of it's original size.<br>\n",
    "County Name has shrunk to 46% of it's original size"
   ]
  },
  {
   "cell_type": "markdown",
   "metadata": {},
   "source": [
    "### 1.1.4 Import and Examine County Shapefile"
   ]
  },
  {
   "cell_type": "code",
   "execution_count": 98,
   "metadata": {},
   "outputs": [
    {
     "data": {
      "text/plain": [
       "Index            1.000000\n",
       "County Name      0.459245\n",
       "Facility_Name    1.000000\n",
       "Full_Address     1.000000\n",
       "State            0.037898\n",
       "Total            1.000000\n",
       "latitudes        1.000000\n",
       "longitudes       1.000000\n",
       "dtype: float64"
      ]
     },
     "execution_count": 98,
     "metadata": {},
     "output_type": "execute_result"
    }
   ],
   "source": []
  },
  {
   "cell_type": "code",
   "execution_count": null,
   "metadata": {},
   "outputs": [],
   "source": []
  }
 ],
 "metadata": {
  "kernelspec": {
   "display_name": "CovHosEnv",
   "language": "python",
   "name": "covhosenv"
  },
  "language_info": {
   "codemirror_mode": {
    "name": "ipython",
    "version": 3
   },
   "file_extension": ".py",
   "mimetype": "text/x-python",
   "name": "python",
   "nbconvert_exporter": "python",
   "pygments_lexer": "ipython3",
   "version": "3.8.2"
  }
 },
 "nbformat": 4,
 "nbformat_minor": 4
}
