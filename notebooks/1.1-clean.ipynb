{
 "cells": [
  {
   "cell_type": "markdown",
   "metadata": {},
   "source": [
    "# 1. Examine and Clean\n",
    "This notebook contains the process used to import, examine, and clean the dataset containing COVID hospital cases by county. It also includes the process used to slim down the US gov's USA county shapefiles to only include the contiguous US states."
   ]
  },
  {
   "cell_type": "markdown",
   "metadata": {},
   "source": [
    "### 1.0.1 Import Packages"
   ]
  },
  {
   "cell_type": "code",
   "execution_count": 105,
   "metadata": {},
   "outputs": [],
   "source": [
    "import numpy as np #linear algebra\n",
    "import pandas as pd #data processing, CSV file I/O\n",
    "import matplotlib.pyplot as plt\n",
    "import seaborn as sns\n",
    "\n",
    "# Import libraries for reading geographic data\n",
    "import geopandas as gpd\n",
    "from shapely.geometry import Point, shape\n",
    "import requests\n",
    "import zipfile\n",
    "import io\n",
    "import os\n",
    "\n",
    "%matplotlib inline"
   ]
  },
  {
   "cell_type": "code",
   "execution_count": 106,
   "metadata": {},
   "outputs": [
    {
     "data": {
      "text/plain": [
       "'/Users/tiffanyflor/Dropbox/MyProjects/usacovidhosp/notebooks'"
      ]
     },
     "execution_count": 106,
     "metadata": {},
     "output_type": "execute_result"
    }
   ],
   "source": [
    "os.getcwd()"
   ]
  },
  {
   "cell_type": "code",
   "execution_count": 107,
   "metadata": {},
   "outputs": [
    {
     "name": "stdout",
     "output_type": "stream",
     "text": [
      "tl_2017_us_county.cpg\n",
      "tl_2017_us_county.shp\n",
      "Merged_Final.csv\n",
      "tl_2017_us_county.shx\n",
      ".gitkeep\n",
      "tl_2017_us_county.dbf\n",
      "tl_2017_us_county.prj\n"
     ]
    }
   ],
   "source": [
    "# List files in the raw data directory\n",
    "\n",
    "for dirname, _, filenames in os.walk('../data/raw/'):\n",
    "    for filename in filenames:\n",
    "        print(filename)"
   ]
  },
  {
   "cell_type": "markdown",
   "metadata": {},
   "source": [
    "### 1.1.1 Import and Examine COVID Hospital Data\n",
    "Import dataset as a pandas DataFrame. Examine metadata and univariate descriptive statistics."
   ]
  },
  {
   "cell_type": "code",
   "execution_count": 108,
   "metadata": {},
   "outputs": [],
   "source": [
    "# Merged_Final.csv --> contains USA hospitals with COVID by county\n",
    "# Put into dataframe\n",
    "df = pd.read_csv('../data/raw/Merged_Final.csv')"
   ]
  },
  {
   "cell_type": "code",
   "execution_count": 109,
   "metadata": {},
   "outputs": [
    {
     "data": {
      "text/html": [
       "<div>\n",
       "<style scoped>\n",
       "    .dataframe tbody tr th:only-of-type {\n",
       "        vertical-align: middle;\n",
       "    }\n",
       "\n",
       "    .dataframe tbody tr th {\n",
       "        vertical-align: top;\n",
       "    }\n",
       "\n",
       "    .dataframe thead th {\n",
       "        text-align: right;\n",
       "    }\n",
       "</style>\n",
       "<table border=\"1\" class=\"dataframe\">\n",
       "  <thead>\n",
       "    <tr style=\"text-align: right;\">\n",
       "      <th></th>\n",
       "      <th>County Name</th>\n",
       "      <th>Facility_Name</th>\n",
       "      <th>Full_Address</th>\n",
       "      <th>State</th>\n",
       "      <th>Total</th>\n",
       "      <th>latitudes</th>\n",
       "      <th>longitudes</th>\n",
       "    </tr>\n",
       "  </thead>\n",
       "  <tbody>\n",
       "    <tr>\n",
       "      <th>0</th>\n",
       "      <td>HOUSTON</td>\n",
       "      <td>SOUTHEAST ALABAMA MEDICAL CENTER</td>\n",
       "      <td>1108 ROSS CLARK CIRCLE,DOTHAN,HOUSTON,AL</td>\n",
       "      <td>AL</td>\n",
       "      <td>2427</td>\n",
       "      <td>31.215827</td>\n",
       "      <td>-85.363433</td>\n",
       "    </tr>\n",
       "    <tr>\n",
       "      <th>1</th>\n",
       "      <td>MARSHALL</td>\n",
       "      <td>MARSHALL MEDICAL CENTERS</td>\n",
       "      <td>2505 U S HIGHWAY 431 NORTH,BOAZ,MARSHALL,AL</td>\n",
       "      <td>AL</td>\n",
       "      <td>5104</td>\n",
       "      <td>34.601233</td>\n",
       "      <td>-87.123343</td>\n",
       "    </tr>\n",
       "    <tr>\n",
       "      <th>2</th>\n",
       "      <td>LAUDERDALE</td>\n",
       "      <td>NORTH ALABAMA MEDICAL CENTER</td>\n",
       "      <td>1701 VETERANS DRIVE,FLORENCE,LAUDERDALE,AL</td>\n",
       "      <td>AL</td>\n",
       "      <td>2120</td>\n",
       "      <td>34.805043</td>\n",
       "      <td>-87.650814</td>\n",
       "    </tr>\n",
       "    <tr>\n",
       "      <th>3</th>\n",
       "      <td>JEFFERSON</td>\n",
       "      <td>ST. VINCENT'S EAST</td>\n",
       "      <td>50 MEDICAL PARK EAST DRIVE,BIRMINGHAM,JEFFERSO...</td>\n",
       "      <td>AL</td>\n",
       "      <td>26142</td>\n",
       "      <td>33.564772</td>\n",
       "      <td>-86.760155</td>\n",
       "    </tr>\n",
       "    <tr>\n",
       "      <th>4</th>\n",
       "      <td>SHELBY</td>\n",
       "      <td>SHELBY BAPTIST MEDICAL CENTER</td>\n",
       "      <td>1000 FIRST STREET NORTH,ALABASTER,SHELBY,AL</td>\n",
       "      <td>AL</td>\n",
       "      <td>20720</td>\n",
       "      <td>33.075378</td>\n",
       "      <td>-86.519100</td>\n",
       "    </tr>\n",
       "  </tbody>\n",
       "</table>\n",
       "</div>"
      ],
      "text/plain": [
       "  County Name                     Facility_Name  \\\n",
       "0     HOUSTON  SOUTHEAST ALABAMA MEDICAL CENTER   \n",
       "1    MARSHALL          MARSHALL MEDICAL CENTERS   \n",
       "2  LAUDERDALE      NORTH ALABAMA MEDICAL CENTER   \n",
       "3   JEFFERSON                ST. VINCENT'S EAST   \n",
       "4      SHELBY     SHELBY BAPTIST MEDICAL CENTER   \n",
       "\n",
       "                                        Full_Address State  Total  latitudes  \\\n",
       "0           1108 ROSS CLARK CIRCLE,DOTHAN,HOUSTON,AL    AL   2427  31.215827   \n",
       "1        2505 U S HIGHWAY 431 NORTH,BOAZ,MARSHALL,AL    AL   5104  34.601233   \n",
       "2         1701 VETERANS DRIVE,FLORENCE,LAUDERDALE,AL    AL   2120  34.805043   \n",
       "3  50 MEDICAL PARK EAST DRIVE,BIRMINGHAM,JEFFERSO...    AL  26142  33.564772   \n",
       "4        1000 FIRST STREET NORTH,ALABASTER,SHELBY,AL    AL  20720  33.075378   \n",
       "\n",
       "   longitudes  \n",
       "0  -85.363433  \n",
       "1  -87.123343  \n",
       "2  -87.650814  \n",
       "3  -86.760155  \n",
       "4  -86.519100  "
      ]
     },
     "execution_count": 109,
     "metadata": {},
     "output_type": "execute_result"
    }
   ],
   "source": [
    "# View data\n",
    "df.head()"
   ]
  },
  {
   "cell_type": "code",
   "execution_count": 110,
   "metadata": {},
   "outputs": [
    {
     "data": {
      "text/plain": [
       "(4478, 7)"
      ]
     },
     "execution_count": 110,
     "metadata": {},
     "output_type": "execute_result"
    }
   ],
   "source": [
    "# Get rows and columns\n",
    "df.shape"
   ]
  },
  {
   "cell_type": "code",
   "execution_count": 111,
   "metadata": {},
   "outputs": [
    {
     "name": "stdout",
     "output_type": "stream",
     "text": [
      "<class 'pandas.core.frame.DataFrame'>\n",
      "RangeIndex: 4478 entries, 0 to 4477\n",
      "Data columns (total 7 columns):\n",
      " #   Column         Non-Null Count  Dtype  \n",
      "---  ------         --------------  -----  \n",
      " 0   County Name    4478 non-null   object \n",
      " 1   Facility_Name  4478 non-null   object \n",
      " 2   Full_Address   4478 non-null   object \n",
      " 3   State          4478 non-null   object \n",
      " 4   Total          4478 non-null   int64  \n",
      " 5   latitudes      4478 non-null   float64\n",
      " 6   longitudes     4478 non-null   float64\n",
      "dtypes: float64(2), int64(1), object(4)\n",
      "memory usage: 245.0+ KB\n"
     ]
    }
   ],
   "source": [
    "# List data types and counts\n",
    "df.info()"
   ]
  },
  {
   "cell_type": "code",
   "execution_count": 112,
   "metadata": {},
   "outputs": [
    {
     "data": {
      "text/html": [
       "<div>\n",
       "<style scoped>\n",
       "    .dataframe tbody tr th:only-of-type {\n",
       "        vertical-align: middle;\n",
       "    }\n",
       "\n",
       "    .dataframe tbody tr th {\n",
       "        vertical-align: top;\n",
       "    }\n",
       "\n",
       "    .dataframe thead th {\n",
       "        text-align: right;\n",
       "    }\n",
       "</style>\n",
       "<table border=\"1\" class=\"dataframe\">\n",
       "  <thead>\n",
       "    <tr style=\"text-align: right;\">\n",
       "      <th></th>\n",
       "      <th>Total</th>\n",
       "      <th>latitudes</th>\n",
       "      <th>longitudes</th>\n",
       "    </tr>\n",
       "  </thead>\n",
       "  <tbody>\n",
       "    <tr>\n",
       "      <th>count</th>\n",
       "      <td>4478.000000</td>\n",
       "      <td>4478.000000</td>\n",
       "      <td>4478.000000</td>\n",
       "    </tr>\n",
       "    <tr>\n",
       "      <th>mean</th>\n",
       "      <td>13635.779812</td>\n",
       "      <td>37.942630</td>\n",
       "      <td>-93.095641</td>\n",
       "    </tr>\n",
       "    <tr>\n",
       "      <th>std</th>\n",
       "      <td>27010.816470</td>\n",
       "      <td>5.383805</td>\n",
       "      <td>14.995810</td>\n",
       "    </tr>\n",
       "    <tr>\n",
       "      <th>min</th>\n",
       "      <td>0.000000</td>\n",
       "      <td>18.372500</td>\n",
       "      <td>-159.671259</td>\n",
       "    </tr>\n",
       "    <tr>\n",
       "      <th>25%</th>\n",
       "      <td>497.000000</td>\n",
       "      <td>34.001714</td>\n",
       "      <td>-99.310467</td>\n",
       "    </tr>\n",
       "    <tr>\n",
       "      <th>50%</th>\n",
       "      <td>3581.000000</td>\n",
       "      <td>38.773624</td>\n",
       "      <td>-90.291356</td>\n",
       "    </tr>\n",
       "    <tr>\n",
       "      <th>75%</th>\n",
       "      <td>14835.000000</td>\n",
       "      <td>41.682943</td>\n",
       "      <td>-82.382111</td>\n",
       "    </tr>\n",
       "    <tr>\n",
       "      <th>max</th>\n",
       "      <td>159045.000000</td>\n",
       "      <td>58.329259</td>\n",
       "      <td>-66.046000</td>\n",
       "    </tr>\n",
       "  </tbody>\n",
       "</table>\n",
       "</div>"
      ],
      "text/plain": [
       "               Total    latitudes   longitudes\n",
       "count    4478.000000  4478.000000  4478.000000\n",
       "mean    13635.779812    37.942630   -93.095641\n",
       "std     27010.816470     5.383805    14.995810\n",
       "min         0.000000    18.372500  -159.671259\n",
       "25%       497.000000    34.001714   -99.310467\n",
       "50%      3581.000000    38.773624   -90.291356\n",
       "75%     14835.000000    41.682943   -82.382111\n",
       "max    159045.000000    58.329259   -66.046000"
      ]
     },
     "execution_count": 112,
     "metadata": {},
     "output_type": "execute_result"
    }
   ],
   "source": [
    "# Summary statistics for numerical columns\n",
    "df.describe(include=[np.number])"
   ]
  },
  {
   "cell_type": "code",
   "execution_count": 113,
   "metadata": {},
   "outputs": [
    {
     "data": {
      "text/html": [
       "<div>\n",
       "<style scoped>\n",
       "    .dataframe tbody tr th:only-of-type {\n",
       "        vertical-align: middle;\n",
       "    }\n",
       "\n",
       "    .dataframe tbody tr th {\n",
       "        vertical-align: top;\n",
       "    }\n",
       "\n",
       "    .dataframe thead th {\n",
       "        text-align: right;\n",
       "    }\n",
       "</style>\n",
       "<table border=\"1\" class=\"dataframe\">\n",
       "  <thead>\n",
       "    <tr style=\"text-align: right;\">\n",
       "      <th></th>\n",
       "      <th>County Name</th>\n",
       "      <th>Facility_Name</th>\n",
       "      <th>Full_Address</th>\n",
       "      <th>State</th>\n",
       "    </tr>\n",
       "  </thead>\n",
       "  <tbody>\n",
       "    <tr>\n",
       "      <th>count</th>\n",
       "      <td>4478</td>\n",
       "      <td>4478</td>\n",
       "      <td>4478</td>\n",
       "      <td>4478</td>\n",
       "    </tr>\n",
       "    <tr>\n",
       "      <th>unique</th>\n",
       "      <td>1273</td>\n",
       "      <td>4341</td>\n",
       "      <td>4476</td>\n",
       "      <td>51</td>\n",
       "    </tr>\n",
       "    <tr>\n",
       "      <th>top</th>\n",
       "      <td>LOS ANGELES</td>\n",
       "      <td>MEMORIAL HOSPITAL</td>\n",
       "      <td>47 SOUTH FOURTH ST,ROLLING FORK,SHARKEY,MS</td>\n",
       "      <td>TX</td>\n",
       "    </tr>\n",
       "    <tr>\n",
       "      <th>freq</th>\n",
       "      <td>90</td>\n",
       "      <td>12</td>\n",
       "      <td>2</td>\n",
       "      <td>407</td>\n",
       "    </tr>\n",
       "  </tbody>\n",
       "</table>\n",
       "</div>"
      ],
      "text/plain": [
       "        County Name      Facility_Name  \\\n",
       "count          4478               4478   \n",
       "unique         1273               4341   \n",
       "top     LOS ANGELES  MEMORIAL HOSPITAL   \n",
       "freq             90                 12   \n",
       "\n",
       "                                      Full_Address State  \n",
       "count                                         4478  4478  \n",
       "unique                                        4476    51  \n",
       "top     47 SOUTH FOURTH ST,ROLLING FORK,SHARKEY,MS    TX  \n",
       "freq                                             2   407  "
      ]
     },
     "execution_count": 113,
     "metadata": {},
     "output_type": "execute_result"
    }
   ],
   "source": [
    "# Summary statistics for object and categorical columns\n",
    "df.describe(include=[np.object, pd.Categorical])"
   ]
  },
  {
   "cell_type": "markdown",
   "metadata": {},
   "source": [
    "### 1.1.2 Clean Hospital Data\n",
    "Drop unnecessary rows and remove duplicates. Reset index for a clean dataframe."
   ]
  },
  {
   "cell_type": "code",
   "execution_count": 114,
   "metadata": {},
   "outputs": [
    {
     "data": {
      "text/plain": [
       "51"
      ]
     },
     "execution_count": 114,
     "metadata": {},
     "output_type": "execute_result"
    }
   ],
   "source": [
    "# Check out the number of states listed\n",
    "df['State'].nunique()"
   ]
  },
  {
   "cell_type": "code",
   "execution_count": 115,
   "metadata": {},
   "outputs": [
    {
     "data": {
      "text/plain": [
       "array(['AL', 'AK', 'AZ', 'AR', 'CA', 'CO', 'CT', 'DE', 'FL', 'GA', 'HI',\n",
       "       'ID', 'IL', 'IN', 'IA', 'KS', 'KY', 'LA', 'ME', 'MD', 'MA', 'MI',\n",
       "       'MN', 'MS', 'MO', 'MT', 'NE', 'NV', 'NH', 'NJ', 'NM', 'NY', 'NC',\n",
       "       'ND', 'OH', 'OK', 'OR', 'PA', 'PR', 'RI', 'SC', 'SD', 'TN', 'TX',\n",
       "       'UT', 'VT', 'VA', 'WA', 'WV', 'WI', 'WY'], dtype=object)"
      ]
     },
     "execution_count": 115,
     "metadata": {},
     "output_type": "execute_result"
    }
   ],
   "source": [
    "# Notice it includes Puerto Rico\n",
    "df['State'].unique()"
   ]
  },
  {
   "cell_type": "code",
   "execution_count": 116,
   "metadata": {},
   "outputs": [
    {
     "data": {
      "text/plain": [
       "(4460, 7)"
      ]
     },
     "execution_count": 116,
     "metadata": {},
     "output_type": "execute_result"
    }
   ],
   "source": [
    "# Since we are only concerned with the 50 US states, we'll drop rows containing PR\n",
    "df = df[df.State != 'PR']\n",
    "df.shape"
   ]
  },
  {
   "cell_type": "code",
   "execution_count": 117,
   "metadata": {},
   "outputs": [
    {
     "data": {
      "text/plain": [
       "101 CIRCLE DRIVE,HILLSBORO,HILL,TX                 2\n",
       "47 SOUTH FOURTH ST,ROLLING FORK,SHARKEY,MS         2\n",
       "1500 S MAIN ST,FORT WORTH,TARRANT,TX               1\n",
       "751 NE BLAKELY DR,ISSAQUAH,KING,WA                 1\n",
       "3001 BROADMOOR BLVD NE,RIO RANCHO,SANDOVAL,NM      1\n",
       "                                                  ..\n",
       "172 KINSLEY ST,NASHUA,HILLSBOROUGH,NH              1\n",
       "501 NORTH LANSDOWNE AVE,DREXEL HILL,DELAWARE,PA    1\n",
       "1501 SOUTH DIXIE STREET,HORSE CAVE,HART,KY         1\n",
       "41 EAST POST R0AD,WHITE PLAINS,WESTCHESTER,NY      1\n",
       "9191 GRANT ST,THORNTON,ADAMS,CO                    1\n",
       "Name: Full_Address, Length: 4458, dtype: int64"
      ]
     },
     "execution_count": 117,
     "metadata": {},
     "output_type": "execute_result"
    }
   ],
   "source": [
    "# Check for duplicate hospitals\n",
    "df['Full_Address'].value_counts()"
   ]
  },
  {
   "cell_type": "code",
   "execution_count": 118,
   "metadata": {},
   "outputs": [
    {
     "data": {
      "text/html": [
       "<div>\n",
       "<style scoped>\n",
       "    .dataframe tbody tr th:only-of-type {\n",
       "        vertical-align: middle;\n",
       "    }\n",
       "\n",
       "    .dataframe tbody tr th {\n",
       "        vertical-align: top;\n",
       "    }\n",
       "\n",
       "    .dataframe thead th {\n",
       "        text-align: right;\n",
       "    }\n",
       "</style>\n",
       "<table border=\"1\" class=\"dataframe\">\n",
       "  <thead>\n",
       "    <tr style=\"text-align: right;\">\n",
       "      <th></th>\n",
       "      <th>County Name</th>\n",
       "      <th>Facility_Name</th>\n",
       "      <th>Full_Address</th>\n",
       "      <th>State</th>\n",
       "      <th>Total</th>\n",
       "      <th>latitudes</th>\n",
       "      <th>longitudes</th>\n",
       "    </tr>\n",
       "  </thead>\n",
       "  <tbody>\n",
       "    <tr>\n",
       "      <th>2158</th>\n",
       "      <td>SHARKEY</td>\n",
       "      <td>SHARKEY ISSAQUENA COMMUNITY HOSPITAL</td>\n",
       "      <td>47 SOUTH FOURTH ST,ROLLING FORK,SHARKEY,MS</td>\n",
       "      <td>MS</td>\n",
       "      <td>65</td>\n",
       "      <td>34.004727</td>\n",
       "      <td>-90.070306</td>\n",
       "    </tr>\n",
       "    <tr>\n",
       "      <th>2212</th>\n",
       "      <td>SHARKEY</td>\n",
       "      <td>SHARKEY ISSAQUENA COMMUNITY HOSPITAL</td>\n",
       "      <td>47 SOUTH FOURTH ST,ROLLING FORK,SHARKEY,MS</td>\n",
       "      <td>MS</td>\n",
       "      <td>65</td>\n",
       "      <td>34.004727</td>\n",
       "      <td>-90.070306</td>\n",
       "    </tr>\n",
       "  </tbody>\n",
       "</table>\n",
       "</div>"
      ],
      "text/plain": [
       "     County Name                         Facility_Name  \\\n",
       "2158     SHARKEY  SHARKEY ISSAQUENA COMMUNITY HOSPITAL   \n",
       "2212     SHARKEY  SHARKEY ISSAQUENA COMMUNITY HOSPITAL   \n",
       "\n",
       "                                    Full_Address State  Total  latitudes  \\\n",
       "2158  47 SOUTH FOURTH ST,ROLLING FORK,SHARKEY,MS    MS     65  34.004727   \n",
       "2212  47 SOUTH FOURTH ST,ROLLING FORK,SHARKEY,MS    MS     65  34.004727   \n",
       "\n",
       "      longitudes  \n",
       "2158  -90.070306  \n",
       "2212  -90.070306  "
      ]
     },
     "execution_count": 118,
     "metadata": {},
     "output_type": "execute_result"
    }
   ],
   "source": [
    "# Examine hospitals with more than one listing\n",
    "df[df['Full_Address'] == '47 SOUTH FOURTH ST,ROLLING FORK,SHARKEY,MS']"
   ]
  },
  {
   "cell_type": "code",
   "execution_count": 119,
   "metadata": {},
   "outputs": [
    {
     "data": {
      "text/html": [
       "<div>\n",
       "<style scoped>\n",
       "    .dataframe tbody tr th:only-of-type {\n",
       "        vertical-align: middle;\n",
       "    }\n",
       "\n",
       "    .dataframe tbody tr th {\n",
       "        vertical-align: top;\n",
       "    }\n",
       "\n",
       "    .dataframe thead th {\n",
       "        text-align: right;\n",
       "    }\n",
       "</style>\n",
       "<table border=\"1\" class=\"dataframe\">\n",
       "  <thead>\n",
       "    <tr style=\"text-align: right;\">\n",
       "      <th></th>\n",
       "      <th>County Name</th>\n",
       "      <th>Facility_Name</th>\n",
       "      <th>Full_Address</th>\n",
       "      <th>State</th>\n",
       "      <th>Total</th>\n",
       "      <th>latitudes</th>\n",
       "      <th>longitudes</th>\n",
       "    </tr>\n",
       "  </thead>\n",
       "  <tbody>\n",
       "    <tr>\n",
       "      <th>3725</th>\n",
       "      <td>HILL</td>\n",
       "      <td>HILL REGIONAL HOSPITAL</td>\n",
       "      <td>101 CIRCLE DRIVE,HILLSBORO,HILL,TX</td>\n",
       "      <td>TX</td>\n",
       "      <td>239</td>\n",
       "      <td>31.269893</td>\n",
       "      <td>-98.943568</td>\n",
       "    </tr>\n",
       "    <tr>\n",
       "      <th>3947</th>\n",
       "      <td>HILL</td>\n",
       "      <td>HILL REGIONAL HOSPITAL</td>\n",
       "      <td>101 CIRCLE DRIVE,HILLSBORO,HILL,TX</td>\n",
       "      <td>TX</td>\n",
       "      <td>239</td>\n",
       "      <td>31.269893</td>\n",
       "      <td>-98.943568</td>\n",
       "    </tr>\n",
       "  </tbody>\n",
       "</table>\n",
       "</div>"
      ],
      "text/plain": [
       "     County Name           Facility_Name                        Full_Address  \\\n",
       "3725        HILL  HILL REGIONAL HOSPITAL  101 CIRCLE DRIVE,HILLSBORO,HILL,TX   \n",
       "3947        HILL  HILL REGIONAL HOSPITAL  101 CIRCLE DRIVE,HILLSBORO,HILL,TX   \n",
       "\n",
       "     State  Total  latitudes  longitudes  \n",
       "3725    TX    239  31.269893  -98.943568  \n",
       "3947    TX    239  31.269893  -98.943568  "
      ]
     },
     "execution_count": 119,
     "metadata": {},
     "output_type": "execute_result"
    }
   ],
   "source": [
    "df[df['Full_Address'] == '101 CIRCLE DRIVE,HILLSBORO,HILL,TX']"
   ]
  },
  {
   "cell_type": "code",
   "execution_count": 120,
   "metadata": {},
   "outputs": [
    {
     "data": {
      "text/html": [
       "<div>\n",
       "<style scoped>\n",
       "    .dataframe tbody tr th:only-of-type {\n",
       "        vertical-align: middle;\n",
       "    }\n",
       "\n",
       "    .dataframe tbody tr th {\n",
       "        vertical-align: top;\n",
       "    }\n",
       "\n",
       "    .dataframe thead th {\n",
       "        text-align: right;\n",
       "    }\n",
       "</style>\n",
       "<table border=\"1\" class=\"dataframe\">\n",
       "  <thead>\n",
       "    <tr style=\"text-align: right;\">\n",
       "      <th></th>\n",
       "      <th>County Name</th>\n",
       "      <th>Facility_Name</th>\n",
       "      <th>Full_Address</th>\n",
       "      <th>State</th>\n",
       "      <th>Total</th>\n",
       "      <th>latitudes</th>\n",
       "      <th>longitudes</th>\n",
       "    </tr>\n",
       "  </thead>\n",
       "  <tbody>\n",
       "    <tr>\n",
       "      <th>2155</th>\n",
       "      <td>HINDS</td>\n",
       "      <td>MERIT HEALTH CENTRAL</td>\n",
       "      <td>1850 CHADWICK DR,JACKSON,HINDS,MS</td>\n",
       "      <td>MS</td>\n",
       "      <td>3691</td>\n",
       "      <td>32.287775</td>\n",
       "      <td>-90.254940</td>\n",
       "    </tr>\n",
       "    <tr>\n",
       "      <th>2156</th>\n",
       "      <td>WAYNE</td>\n",
       "      <td>WAYNE GENERAL HOSPITAL</td>\n",
       "      <td>950 MATTHEW DR,WAYNESBORO,WAYNE,MS</td>\n",
       "      <td>MS</td>\n",
       "      <td>29753</td>\n",
       "      <td>31.673138</td>\n",
       "      <td>-88.634152</td>\n",
       "    </tr>\n",
       "    <tr>\n",
       "      <th>2157</th>\n",
       "      <td>FORREST</td>\n",
       "      <td>FORREST GENERAL HOSPITAL</td>\n",
       "      <td>6051 US HIGHWAY 49,HATTIESBURG,FORREST,MS</td>\n",
       "      <td>MS</td>\n",
       "      <td>1197</td>\n",
       "      <td>33.079453</td>\n",
       "      <td>-89.858575</td>\n",
       "    </tr>\n",
       "    <tr>\n",
       "      <th>2158</th>\n",
       "      <td>SHARKEY</td>\n",
       "      <td>SHARKEY ISSAQUENA COMMUNITY HOSPITAL</td>\n",
       "      <td>47 SOUTH FOURTH ST,ROLLING FORK,SHARKEY,MS</td>\n",
       "      <td>MS</td>\n",
       "      <td>65</td>\n",
       "      <td>34.004727</td>\n",
       "      <td>-90.070306</td>\n",
       "    </tr>\n",
       "    <tr>\n",
       "      <th>2159</th>\n",
       "      <td>LAUDERDALE</td>\n",
       "      <td>ANDERSON REGIONAL MEDICAL CENTER SOUTH CAMPUS</td>\n",
       "      <td>1102 CONSTITUTION AVENUE,MERIDIAN,LAUDERDALE,MS</td>\n",
       "      <td>MS</td>\n",
       "      <td>2120</td>\n",
       "      <td>31.686577</td>\n",
       "      <td>-88.652958</td>\n",
       "    </tr>\n",
       "    <tr>\n",
       "      <th>2160</th>\n",
       "      <td>WASHINGTON</td>\n",
       "      <td>DELTA REGIONAL MEDICAL CENTER</td>\n",
       "      <td>1400 E UNION ST,GREENVILLE,WASHINGTON,MS</td>\n",
       "      <td>MS</td>\n",
       "      <td>17929</td>\n",
       "      <td>33.410527</td>\n",
       "      <td>-91.035356</td>\n",
       "    </tr>\n",
       "    <tr>\n",
       "      <th>2161</th>\n",
       "      <td>ADAMS</td>\n",
       "      <td>MERIT HEALTH NATCHEZ</td>\n",
       "      <td>52 SERGEANT PRENTISS DRIVE,NATCHEZ,ADAMS,MS</td>\n",
       "      <td>MS</td>\n",
       "      <td>7059</td>\n",
       "      <td>31.867069</td>\n",
       "      <td>-90.443150</td>\n",
       "    </tr>\n",
       "    <tr>\n",
       "      <th>2162</th>\n",
       "      <td>MARION</td>\n",
       "      <td>MARION GENERAL HOSPITAL</td>\n",
       "      <td>1560 SUMRALL RD,COLUMBIA,MARION,MS</td>\n",
       "      <td>MS</td>\n",
       "      <td>22462</td>\n",
       "      <td>31.255953</td>\n",
       "      <td>-89.805607</td>\n",
       "    </tr>\n",
       "  </tbody>\n",
       "</table>\n",
       "</div>"
      ],
      "text/plain": [
       "     County Name                                  Facility_Name  \\\n",
       "2155       HINDS                           MERIT HEALTH CENTRAL   \n",
       "2156       WAYNE                         WAYNE GENERAL HOSPITAL   \n",
       "2157     FORREST                       FORREST GENERAL HOSPITAL   \n",
       "2158     SHARKEY           SHARKEY ISSAQUENA COMMUNITY HOSPITAL   \n",
       "2159  LAUDERDALE  ANDERSON REGIONAL MEDICAL CENTER SOUTH CAMPUS   \n",
       "2160  WASHINGTON                  DELTA REGIONAL MEDICAL CENTER   \n",
       "2161       ADAMS                           MERIT HEALTH NATCHEZ   \n",
       "2162      MARION                        MARION GENERAL HOSPITAL   \n",
       "\n",
       "                                         Full_Address State  Total  latitudes  \\\n",
       "2155                1850 CHADWICK DR,JACKSON,HINDS,MS    MS   3691  32.287775   \n",
       "2156               950 MATTHEW DR,WAYNESBORO,WAYNE,MS    MS  29753  31.673138   \n",
       "2157        6051 US HIGHWAY 49,HATTIESBURG,FORREST,MS    MS   1197  33.079453   \n",
       "2158       47 SOUTH FOURTH ST,ROLLING FORK,SHARKEY,MS    MS     65  34.004727   \n",
       "2159  1102 CONSTITUTION AVENUE,MERIDIAN,LAUDERDALE,MS    MS   2120  31.686577   \n",
       "2160         1400 E UNION ST,GREENVILLE,WASHINGTON,MS    MS  17929  33.410527   \n",
       "2161      52 SERGEANT PRENTISS DRIVE,NATCHEZ,ADAMS,MS    MS   7059  31.867069   \n",
       "2162               1560 SUMRALL RD,COLUMBIA,MARION,MS    MS  22462  31.255953   \n",
       "\n",
       "      longitudes  \n",
       "2155  -90.254940  \n",
       "2156  -88.634152  \n",
       "2157  -89.858575  \n",
       "2158  -90.070306  \n",
       "2159  -88.652958  \n",
       "2160  -91.035356  \n",
       "2161  -90.443150  \n",
       "2162  -89.805607  "
      ]
     },
     "execution_count": 120,
     "metadata": {},
     "output_type": "execute_result"
    }
   ],
   "source": [
    "# Review areas around index to determine if there is an obvious order to hospital input\n",
    "df.iloc[2155:2163]"
   ]
  },
  {
   "cell_type": "code",
   "execution_count": 121,
   "metadata": {},
   "outputs": [],
   "source": [
    "# No obvious pattern found\n",
    "# Drop 2nd occurence of each duplicate\n",
    "df.drop([2212,3947], inplace=True)"
   ]
  },
  {
   "cell_type": "code",
   "execution_count": 122,
   "metadata": {},
   "outputs": [
    {
     "data": {
      "text/html": [
       "<div>\n",
       "<style scoped>\n",
       "    .dataframe tbody tr th:only-of-type {\n",
       "        vertical-align: middle;\n",
       "    }\n",
       "\n",
       "    .dataframe tbody tr th {\n",
       "        vertical-align: top;\n",
       "    }\n",
       "\n",
       "    .dataframe thead th {\n",
       "        text-align: right;\n",
       "    }\n",
       "</style>\n",
       "<table border=\"1\" class=\"dataframe\">\n",
       "  <thead>\n",
       "    <tr style=\"text-align: right;\">\n",
       "      <th></th>\n",
       "      <th>County Name</th>\n",
       "      <th>Facility_Name</th>\n",
       "      <th>Full_Address</th>\n",
       "      <th>State</th>\n",
       "      <th>Total</th>\n",
       "      <th>latitudes</th>\n",
       "      <th>longitudes</th>\n",
       "    </tr>\n",
       "  </thead>\n",
       "  <tbody>\n",
       "    <tr>\n",
       "      <th>2211</th>\n",
       "      <td>TIPPAH</td>\n",
       "      <td>TIPPAH COUNTY HOSPITAL</td>\n",
       "      <td>1005 CITY AVE NORTH,RIPLEY,TIPPAH,MS</td>\n",
       "      <td>MS</td>\n",
       "      <td>193</td>\n",
       "      <td>34.739039</td>\n",
       "      <td>-88.950607</td>\n",
       "    </tr>\n",
       "    <tr>\n",
       "      <th>2213</th>\n",
       "      <td>RANKIN</td>\n",
       "      <td>BRENTWOOD BEHAVIORAL HEALTHCARE OF MS</td>\n",
       "      <td>3531 EAST LAKELAND DRIVE,FLOWOOD,RANKIN,MS</td>\n",
       "      <td>MS</td>\n",
       "      <td>1459</td>\n",
       "      <td>32.357990</td>\n",
       "      <td>-90.011870</td>\n",
       "    </tr>\n",
       "  </tbody>\n",
       "</table>\n",
       "</div>"
      ],
      "text/plain": [
       "     County Name                          Facility_Name  \\\n",
       "2211      TIPPAH                 TIPPAH COUNTY HOSPITAL   \n",
       "2213      RANKIN  BRENTWOOD BEHAVIORAL HEALTHCARE OF MS   \n",
       "\n",
       "                                    Full_Address State  Total  latitudes  \\\n",
       "2211        1005 CITY AVE NORTH,RIPLEY,TIPPAH,MS    MS    193  34.739039   \n",
       "2213  3531 EAST LAKELAND DRIVE,FLOWOOD,RANKIN,MS    MS   1459  32.357990   \n",
       "\n",
       "      longitudes  \n",
       "2211  -88.950607  \n",
       "2213  -90.011870  "
      ]
     },
     "execution_count": 122,
     "metadata": {},
     "output_type": "execute_result"
    }
   ],
   "source": [
    "# Check rows have been dropped\n",
    "df.loc[2211:2213]"
   ]
  },
  {
   "cell_type": "code",
   "execution_count": 123,
   "metadata": {},
   "outputs": [
    {
     "data": {
      "text/html": [
       "<div>\n",
       "<style scoped>\n",
       "    .dataframe tbody tr th:only-of-type {\n",
       "        vertical-align: middle;\n",
       "    }\n",
       "\n",
       "    .dataframe tbody tr th {\n",
       "        vertical-align: top;\n",
       "    }\n",
       "\n",
       "    .dataframe thead th {\n",
       "        text-align: right;\n",
       "    }\n",
       "</style>\n",
       "<table border=\"1\" class=\"dataframe\">\n",
       "  <thead>\n",
       "    <tr style=\"text-align: right;\">\n",
       "      <th></th>\n",
       "      <th>County Name</th>\n",
       "      <th>Facility_Name</th>\n",
       "      <th>Full_Address</th>\n",
       "      <th>State</th>\n",
       "      <th>Total</th>\n",
       "      <th>latitudes</th>\n",
       "      <th>longitudes</th>\n",
       "    </tr>\n",
       "  </thead>\n",
       "  <tbody>\n",
       "    <tr>\n",
       "      <th>3945</th>\n",
       "      <td>HAMILTON</td>\n",
       "      <td>HAMILTON GENERAL HOSPITAL</td>\n",
       "      <td>400 N BROWN, BUILDING 1,HAMILTON,HAMILTON,TX</td>\n",
       "      <td>TX</td>\n",
       "      <td>15125</td>\n",
       "      <td>31.703875</td>\n",
       "      <td>-98.113448</td>\n",
       "    </tr>\n",
       "    <tr>\n",
       "      <th>3946</th>\n",
       "      <td>HOUSTON</td>\n",
       "      <td>CROCKETT MEDICAL CENTER</td>\n",
       "      <td>1100 E LOOP 304,CROCKETT,HOUSTON,TX</td>\n",
       "      <td>TX</td>\n",
       "      <td>2427</td>\n",
       "      <td>31.322152</td>\n",
       "      <td>-95.437114</td>\n",
       "    </tr>\n",
       "    <tr>\n",
       "      <th>3948</th>\n",
       "      <td>TARRANT</td>\n",
       "      <td>COOK CHILDRENS MEDICAL CENTER</td>\n",
       "      <td>801 SEVENTH AVENUE,FORT WORTH,TARRANT,TX</td>\n",
       "      <td>TX</td>\n",
       "      <td>21617</td>\n",
       "      <td>30.851827</td>\n",
       "      <td>-95.187186</td>\n",
       "    </tr>\n",
       "  </tbody>\n",
       "</table>\n",
       "</div>"
      ],
      "text/plain": [
       "     County Name                  Facility_Name  \\\n",
       "3945    HAMILTON      HAMILTON GENERAL HOSPITAL   \n",
       "3946     HOUSTON        CROCKETT MEDICAL CENTER   \n",
       "3948     TARRANT  COOK CHILDRENS MEDICAL CENTER   \n",
       "\n",
       "                                      Full_Address State  Total  latitudes  \\\n",
       "3945  400 N BROWN, BUILDING 1,HAMILTON,HAMILTON,TX    TX  15125  31.703875   \n",
       "3946           1100 E LOOP 304,CROCKETT,HOUSTON,TX    TX   2427  31.322152   \n",
       "3948      801 SEVENTH AVENUE,FORT WORTH,TARRANT,TX    TX  21617  30.851827   \n",
       "\n",
       "      longitudes  \n",
       "3945  -98.113448  \n",
       "3946  -95.437114  \n",
       "3948  -95.187186  "
      ]
     },
     "execution_count": 123,
     "metadata": {},
     "output_type": "execute_result"
    }
   ],
   "source": [
    "df.loc[3945:3948]\n",
    "# Notice that the index and iloc do not match anymore so we had to use loc\n",
    "# and now have to reset index"
   ]
  },
  {
   "cell_type": "code",
   "execution_count": 124,
   "metadata": {},
   "outputs": [
    {
     "data": {
      "text/html": [
       "<div>\n",
       "<style scoped>\n",
       "    .dataframe tbody tr th:only-of-type {\n",
       "        vertical-align: middle;\n",
       "    }\n",
       "\n",
       "    .dataframe tbody tr th {\n",
       "        vertical-align: top;\n",
       "    }\n",
       "\n",
       "    .dataframe thead th {\n",
       "        text-align: right;\n",
       "    }\n",
       "</style>\n",
       "<table border=\"1\" class=\"dataframe\">\n",
       "  <thead>\n",
       "    <tr style=\"text-align: right;\">\n",
       "      <th></th>\n",
       "      <th>County Name</th>\n",
       "      <th>Facility_Name</th>\n",
       "      <th>Full_Address</th>\n",
       "      <th>State</th>\n",
       "      <th>Total</th>\n",
       "      <th>latitudes</th>\n",
       "      <th>longitudes</th>\n",
       "    </tr>\n",
       "  </thead>\n",
       "  <tbody>\n",
       "    <tr>\n",
       "      <th>3945</th>\n",
       "      <td>KERR</td>\n",
       "      <td>KERRVILLE STATE HOSP</td>\n",
       "      <td>721 THOMPSON DR,KERRVILLE,KERR,TX</td>\n",
       "      <td>TX</td>\n",
       "      <td>255</td>\n",
       "      <td>30.045887</td>\n",
       "      <td>-99.157744</td>\n",
       "    </tr>\n",
       "    <tr>\n",
       "      <th>3946</th>\n",
       "      <td>WICHITA</td>\n",
       "      <td>RED RIVER HOSPITAL</td>\n",
       "      <td>1505 8TH ST,WICHITA FALLS,WICHITA,TX</td>\n",
       "      <td>TX</td>\n",
       "      <td>709</td>\n",
       "      <td>33.906316</td>\n",
       "      <td>-98.501335</td>\n",
       "    </tr>\n",
       "    <tr>\n",
       "      <th>3947</th>\n",
       "      <td>HARRIS</td>\n",
       "      <td>WEST OAKS HOSPITAL</td>\n",
       "      <td>6500 HORNWOOD,HOUSTON,HARRIS,TX</td>\n",
       "      <td>TX</td>\n",
       "      <td>56280</td>\n",
       "      <td>29.708962</td>\n",
       "      <td>-95.496980</td>\n",
       "    </tr>\n",
       "  </tbody>\n",
       "</table>\n",
       "</div>"
      ],
      "text/plain": [
       "     County Name         Facility_Name                          Full_Address  \\\n",
       "3945        KERR  KERRVILLE STATE HOSP     721 THOMPSON DR,KERRVILLE,KERR,TX   \n",
       "3946     WICHITA    RED RIVER HOSPITAL  1505 8TH ST,WICHITA FALLS,WICHITA,TX   \n",
       "3947      HARRIS    WEST OAKS HOSPITAL       6500 HORNWOOD,HOUSTON,HARRIS,TX   \n",
       "\n",
       "     State  Total  latitudes  longitudes  \n",
       "3945    TX    255  30.045887  -99.157744  \n",
       "3946    TX    709  33.906316  -98.501335  \n",
       "3947    TX  56280  29.708962  -95.496980  "
      ]
     },
     "execution_count": 124,
     "metadata": {},
     "output_type": "execute_result"
    }
   ],
   "source": [
    "# Reset index\n",
    "df.reset_index(drop=True, inplace=True)\n",
    "\n",
    "# Check index has been reset\n",
    "df.iloc[3945:3948]"
   ]
  },
  {
   "cell_type": "markdown",
   "metadata": {},
   "source": [
    "### 1.1.3 Reduce Memory Usage of Hospital Data\n",
    "Change data types of columns"
   ]
  },
  {
   "cell_type": "code",
   "execution_count": 125,
   "metadata": {},
   "outputs": [
    {
     "data": {
      "text/plain": [
       "County Name       object\n",
       "Facility_Name     object\n",
       "Full_Address      object\n",
       "State             object\n",
       "Total              int64\n",
       "latitudes        float64\n",
       "longitudes       float64\n",
       "dtype: object"
      ]
     },
     "execution_count": 125,
     "metadata": {},
     "output_type": "execute_result"
    }
   ],
   "source": [
    "# Inspect the data types of each column\n",
    "df.dtypes"
   ]
  },
  {
   "cell_type": "code",
   "execution_count": 126,
   "metadata": {},
   "outputs": [
    {
     "data": {
      "text/plain": [
       "Index               128\n",
       "County Name      286237\n",
       "Facility_Name    381694\n",
       "Full_Address     432295\n",
       "State            263022\n",
       "Total             35664\n",
       "latitudes         35664\n",
       "longitudes        35664\n",
       "dtype: int64"
      ]
     },
     "execution_count": 126,
     "metadata": {},
     "output_type": "execute_result"
    }
   ],
   "source": [
    "# Find memory usage of each column\n",
    "original_mem = df.memory_usage(deep=True)\n",
    "original_mem"
   ]
  },
  {
   "cell_type": "code",
   "execution_count": 127,
   "metadata": {},
   "outputs": [
    {
     "data": {
      "text/plain": [
       "County Name      0.285554\n",
       "Facility_Name    0.969717\n",
       "Full_Address     1.000000\n",
       "State            0.011216\n",
       "dtype: float64"
      ]
     },
     "execution_count": 127,
     "metadata": {},
     "output_type": "execute_result"
    }
   ],
   "source": [
    "# We know from our examination above that State only has 50 unique values\n",
    "# It can be changed to a categorical variable\n",
    "# Can anything else? Find the percentage of unique values in each category\n",
    "df.select_dtypes(include=['object']).nunique()/df.select_dtypes(include=['object']).count()"
   ]
  },
  {
   "cell_type": "code",
   "execution_count": 128,
   "metadata": {},
   "outputs": [
    {
     "data": {
      "text/plain": [
       "County Name        object\n",
       "Facility_Name      object\n",
       "Full_Address       object\n",
       "State            category\n",
       "Total               int64\n",
       "latitudes         float64\n",
       "longitudes        float64\n",
       "dtype: object"
      ]
     },
     "execution_count": 128,
     "metadata": {},
     "output_type": "execute_result"
    }
   ],
   "source": [
    "# We see that County Name has about 29% unique values,\n",
    "# Facility has 97%, Full_Address has 100%, and State has 1%\n",
    "# The best candidate for categorical is the State column\n",
    "df['State'] = df['State'].astype('category')\n",
    "df.dtypes"
   ]
  },
  {
   "cell_type": "code",
   "execution_count": 130,
   "metadata": {},
   "outputs": [
    {
     "data": {
      "text/plain": [
       "County Name      category\n",
       "Facility_Name      object\n",
       "Full_Address       object\n",
       "State            category\n",
       "Total               int64\n",
       "latitudes         float64\n",
       "longitudes        float64\n",
       "dtype: object"
      ]
     },
     "execution_count": 130,
     "metadata": {},
     "output_type": "execute_result"
    }
   ],
   "source": [
    "# Let's try out County Name to see if it's worth it\n",
    "df['County Name'] = df['County Name'].astype('category')\n",
    "df.dtypes"
   ]
  },
  {
   "cell_type": "code",
   "execution_count": 131,
   "metadata": {},
   "outputs": [
    {
     "data": {
      "text/plain": [
       "Index               128\n",
       "County Name      131453\n",
       "Facility_Name    381694\n",
       "Full_Address     432295\n",
       "State              9968\n",
       "Total             35664\n",
       "latitudes         35664\n",
       "longitudes        35664\n",
       "dtype: int64"
      ]
     },
     "execution_count": 131,
     "metadata": {},
     "output_type": "execute_result"
    }
   ],
   "source": [
    "# compute new memory usage\n",
    "new_mem = df.memory_usage(deep=True)\n",
    "new_mem"
   ]
  },
  {
   "cell_type": "code",
   "execution_count": 132,
   "metadata": {},
   "outputs": [
    {
     "data": {
      "text/plain": [
       "Index            1.000000\n",
       "County Name      0.459245\n",
       "Facility_Name    1.000000\n",
       "Full_Address     1.000000\n",
       "State            0.037898\n",
       "Total            1.000000\n",
       "latitudes        1.000000\n",
       "longitudes       1.000000\n",
       "dtype: float64"
      ]
     },
     "execution_count": 132,
     "metadata": {},
     "output_type": "execute_result"
    }
   ],
   "source": [
    "# Compare original with updated memory usage\n",
    "new_mem/original_mem"
   ]
  },
  {
   "cell_type": "markdown",
   "metadata": {},
   "source": [
    "State has shrunk to 3.8% of it's original size.<br>\n",
    "County Name has shrunk to 46% of it's original size"
   ]
  },
  {
   "cell_type": "markdown",
   "metadata": {},
   "source": [
    "### 1.3.1 Import and Examine USA County Shapefile\n",
    "Class Codes and Definitions For Reference<br>\n",
    "https://www.census.gov/library/reference/code-lists/class-codes.html#:~:text=The%20class%20(CLASSFP)%20code%20defines,gazetteer%20files%2C%20and%20other%20products."
   ]
  },
  {
   "cell_type": "code",
   "execution_count": 166,
   "metadata": {},
   "outputs": [
    {
     "name": "stdout",
     "output_type": "stream",
     "text": [
      "tl_2017_us_county.cpg\n",
      "tl_2017_us_county.shp\n",
      "Merged_Final.csv\n",
      "tl_2017_us_county.shx\n",
      ".gitkeep\n",
      "tl_2017_us_county.dbf\n",
      "tl_2017_us_county.prj\n"
     ]
    }
   ],
   "source": [
    "# List files in the raw data directory\n",
    "\n",
    "for dirname, _, filenames in os.walk('../data/raw/'):\n",
    "    for filename in filenames:\n",
    "        print(filename)"
   ]
  },
  {
   "cell_type": "code",
   "execution_count": 167,
   "metadata": {},
   "outputs": [
    {
     "name": "stdout",
     "output_type": "stream",
     "text": [
      "Shape of dataframe: (3233, 18)\n",
      "Projection of dataframe: epsg:4269\n"
     ]
    },
    {
     "data": {
      "text/html": [
       "<div>\n",
       "<style scoped>\n",
       "    .dataframe tbody tr th:only-of-type {\n",
       "        vertical-align: middle;\n",
       "    }\n",
       "\n",
       "    .dataframe tbody tr th {\n",
       "        vertical-align: top;\n",
       "    }\n",
       "\n",
       "    .dataframe thead th {\n",
       "        text-align: right;\n",
       "    }\n",
       "</style>\n",
       "<table border=\"1\" class=\"dataframe\">\n",
       "  <thead>\n",
       "    <tr style=\"text-align: right;\">\n",
       "      <th></th>\n",
       "      <th>STATEFP</th>\n",
       "      <th>COUNTYFP</th>\n",
       "      <th>COUNTYNS</th>\n",
       "      <th>GEOID</th>\n",
       "      <th>NAME</th>\n",
       "      <th>NAMELSAD</th>\n",
       "      <th>LSAD</th>\n",
       "      <th>CLASSFP</th>\n",
       "      <th>MTFCC</th>\n",
       "      <th>CSAFP</th>\n",
       "      <th>CBSAFP</th>\n",
       "      <th>METDIVFP</th>\n",
       "      <th>FUNCSTAT</th>\n",
       "      <th>ALAND</th>\n",
       "      <th>AWATER</th>\n",
       "      <th>INTPTLAT</th>\n",
       "      <th>INTPTLON</th>\n",
       "      <th>geometry</th>\n",
       "    </tr>\n",
       "  </thead>\n",
       "  <tbody>\n",
       "    <tr>\n",
       "      <th>3228</th>\n",
       "      <td>13</td>\n",
       "      <td>123</td>\n",
       "      <td>00351260</td>\n",
       "      <td>13123</td>\n",
       "      <td>Gilmer</td>\n",
       "      <td>Gilmer County</td>\n",
       "      <td>06</td>\n",
       "      <td>H1</td>\n",
       "      <td>G4020</td>\n",
       "      <td>None</td>\n",
       "      <td>None</td>\n",
       "      <td>None</td>\n",
       "      <td>A</td>\n",
       "      <td>1103942496</td>\n",
       "      <td>12227724</td>\n",
       "      <td>+34.6905055</td>\n",
       "      <td>-084.4546244</td>\n",
       "      <td>POLYGON ((-84.65478 34.66559, -84.65488 34.669...</td>\n",
       "    </tr>\n",
       "    <tr>\n",
       "      <th>3229</th>\n",
       "      <td>27</td>\n",
       "      <td>135</td>\n",
       "      <td>00659513</td>\n",
       "      <td>27135</td>\n",
       "      <td>Roseau</td>\n",
       "      <td>Roseau County</td>\n",
       "      <td>06</td>\n",
       "      <td>H1</td>\n",
       "      <td>G4020</td>\n",
       "      <td>None</td>\n",
       "      <td>None</td>\n",
       "      <td>None</td>\n",
       "      <td>A</td>\n",
       "      <td>4329471930</td>\n",
       "      <td>16913419</td>\n",
       "      <td>+48.7610683</td>\n",
       "      <td>-095.8215042</td>\n",
       "      <td>POLYGON ((-96.40466 48.80528, -96.40467 48.813...</td>\n",
       "    </tr>\n",
       "    <tr>\n",
       "      <th>3230</th>\n",
       "      <td>28</td>\n",
       "      <td>089</td>\n",
       "      <td>00695768</td>\n",
       "      <td>28089</td>\n",
       "      <td>Madison</td>\n",
       "      <td>Madison County</td>\n",
       "      <td>06</td>\n",
       "      <td>H1</td>\n",
       "      <td>G4020</td>\n",
       "      <td>298</td>\n",
       "      <td>27140</td>\n",
       "      <td>None</td>\n",
       "      <td>A</td>\n",
       "      <td>1850209209</td>\n",
       "      <td>71667634</td>\n",
       "      <td>+32.6343703</td>\n",
       "      <td>-090.0341603</td>\n",
       "      <td>POLYGON ((-90.09363 32.70763, -90.09360 32.707...</td>\n",
       "    </tr>\n",
       "    <tr>\n",
       "      <th>3231</th>\n",
       "      <td>48</td>\n",
       "      <td>227</td>\n",
       "      <td>01383899</td>\n",
       "      <td>48227</td>\n",
       "      <td>Howard</td>\n",
       "      <td>Howard County</td>\n",
       "      <td>06</td>\n",
       "      <td>H1</td>\n",
       "      <td>G4020</td>\n",
       "      <td>None</td>\n",
       "      <td>13700</td>\n",
       "      <td>None</td>\n",
       "      <td>A</td>\n",
       "      <td>2333039139</td>\n",
       "      <td>8841781</td>\n",
       "      <td>+32.3034712</td>\n",
       "      <td>-101.4387720</td>\n",
       "      <td>POLYGON ((-101.69227 32.27106, -101.69221 32.2...</td>\n",
       "    </tr>\n",
       "    <tr>\n",
       "      <th>3232</th>\n",
       "      <td>54</td>\n",
       "      <td>099</td>\n",
       "      <td>01550056</td>\n",
       "      <td>54099</td>\n",
       "      <td>Wayne</td>\n",
       "      <td>Wayne County</td>\n",
       "      <td>06</td>\n",
       "      <td>H1</td>\n",
       "      <td>G4020</td>\n",
       "      <td>170</td>\n",
       "      <td>26580</td>\n",
       "      <td>None</td>\n",
       "      <td>A</td>\n",
       "      <td>1310504124</td>\n",
       "      <td>15860720</td>\n",
       "      <td>+38.1455413</td>\n",
       "      <td>-082.4196812</td>\n",
       "      <td>POLYGON ((-82.59529 38.36978, -82.59515 38.369...</td>\n",
       "    </tr>\n",
       "  </tbody>\n",
       "</table>\n",
       "</div>"
      ],
      "text/plain": [
       "     STATEFP COUNTYFP  COUNTYNS  GEOID     NAME        NAMELSAD LSAD CLASSFP  \\\n",
       "3228      13      123  00351260  13123   Gilmer   Gilmer County   06      H1   \n",
       "3229      27      135  00659513  27135   Roseau   Roseau County   06      H1   \n",
       "3230      28      089  00695768  28089  Madison  Madison County   06      H1   \n",
       "3231      48      227  01383899  48227   Howard   Howard County   06      H1   \n",
       "3232      54      099  01550056  54099    Wayne    Wayne County   06      H1   \n",
       "\n",
       "      MTFCC CSAFP CBSAFP METDIVFP FUNCSTAT       ALAND    AWATER     INTPTLAT  \\\n",
       "3228  G4020  None   None     None        A  1103942496  12227724  +34.6905055   \n",
       "3229  G4020  None   None     None        A  4329471930  16913419  +48.7610683   \n",
       "3230  G4020   298  27140     None        A  1850209209  71667634  +32.6343703   \n",
       "3231  G4020  None  13700     None        A  2333039139   8841781  +32.3034712   \n",
       "3232  G4020   170  26580     None        A  1310504124  15860720  +38.1455413   \n",
       "\n",
       "          INTPTLON                                           geometry  \n",
       "3228  -084.4546244  POLYGON ((-84.65478 34.66559, -84.65488 34.669...  \n",
       "3229  -095.8215042  POLYGON ((-96.40466 48.80528, -96.40467 48.813...  \n",
       "3230  -090.0341603  POLYGON ((-90.09363 32.70763, -90.09360 32.707...  \n",
       "3231  -101.4387720  POLYGON ((-101.69227 32.27106, -101.69221 32.2...  \n",
       "3232  -082.4196812  POLYGON ((-82.59529 38.36978, -82.59515 38.369...  "
      ]
     },
     "execution_count": 167,
     "metadata": {},
     "output_type": "execute_result"
    }
   ],
   "source": [
    "raw_path = '../data/raw/'\n",
    "\n",
    "dbf = 'tl_2017_us_county.dbf'\n",
    "prj = 'tl_2017_us_county.prj'\n",
    "shp = 'tl_2017_us_county.shp'\n",
    "shx = 'tl_2017_us_county.shx'\n",
    "\n",
    "usa_counties = gpd.read_file(raw_path + shp)\n",
    "print('Shape of dataframe: {}'.format(usa_counties.shape))\n",
    "print('Projection of dataframe: {}'.format(usa_counties.crs))\n",
    "usa_counties.tail()"
   ]
  },
  {
   "cell_type": "code",
   "execution_count": 168,
   "metadata": {},
   "outputs": [
    {
     "name": "stdout",
     "output_type": "stream",
     "text": [
      "<class 'geopandas.geodataframe.GeoDataFrame'>\n",
      "RangeIndex: 3233 entries, 0 to 3232\n",
      "Data columns (total 18 columns):\n",
      " #   Column    Non-Null Count  Dtype   \n",
      "---  ------    --------------  -----   \n",
      " 0   STATEFP   3233 non-null   object  \n",
      " 1   COUNTYFP  3233 non-null   object  \n",
      " 2   COUNTYNS  3233 non-null   object  \n",
      " 3   GEOID     3233 non-null   object  \n",
      " 4   NAME      3233 non-null   object  \n",
      " 5   NAMELSAD  3233 non-null   object  \n",
      " 6   LSAD      3233 non-null   object  \n",
      " 7   CLASSFP   3233 non-null   object  \n",
      " 8   MTFCC     3233 non-null   object  \n",
      " 9   CSAFP     1231 non-null   object  \n",
      " 10  CBSAFP    1899 non-null   object  \n",
      " 11  METDIVFP  113 non-null    object  \n",
      " 12  FUNCSTAT  3233 non-null   object  \n",
      " 13  ALAND     3233 non-null   int64   \n",
      " 14  AWATER    3233 non-null   int64   \n",
      " 15  INTPTLAT  3233 non-null   object  \n",
      " 16  INTPTLON  3233 non-null   object  \n",
      " 17  geometry  3233 non-null   geometry\n",
      "dtypes: geometry(1), int64(2), object(15)\n",
      "memory usage: 454.8+ KB\n"
     ]
    }
   ],
   "source": [
    "# Examine information about dataframe\n",
    "usa_counties.info()"
   ]
  },
  {
   "cell_type": "code",
   "execution_count": 169,
   "metadata": {},
   "outputs": [
    {
     "data": {
      "text/html": [
       "<div>\n",
       "<style scoped>\n",
       "    .dataframe tbody tr th:only-of-type {\n",
       "        vertical-align: middle;\n",
       "    }\n",
       "\n",
       "    .dataframe tbody tr th {\n",
       "        vertical-align: top;\n",
       "    }\n",
       "\n",
       "    .dataframe thead th {\n",
       "        text-align: right;\n",
       "    }\n",
       "</style>\n",
       "<table border=\"1\" class=\"dataframe\">\n",
       "  <thead>\n",
       "    <tr style=\"text-align: right;\">\n",
       "      <th></th>\n",
       "      <th>count</th>\n",
       "      <th>unique</th>\n",
       "      <th>top</th>\n",
       "      <th>freq</th>\n",
       "    </tr>\n",
       "  </thead>\n",
       "  <tbody>\n",
       "    <tr>\n",
       "      <th>STATEFP</th>\n",
       "      <td>3233</td>\n",
       "      <td>56</td>\n",
       "      <td>48</td>\n",
       "      <td>254</td>\n",
       "    </tr>\n",
       "    <tr>\n",
       "      <th>COUNTYFP</th>\n",
       "      <td>3233</td>\n",
       "      <td>329</td>\n",
       "      <td>005</td>\n",
       "      <td>50</td>\n",
       "    </tr>\n",
       "    <tr>\n",
       "      <th>COUNTYNS</th>\n",
       "      <td>3233</td>\n",
       "      <td>3233</td>\n",
       "      <td>00558077</td>\n",
       "      <td>1</td>\n",
       "    </tr>\n",
       "    <tr>\n",
       "      <th>GEOID</th>\n",
       "      <td>3233</td>\n",
       "      <td>3233</td>\n",
       "      <td>48425</td>\n",
       "      <td>1</td>\n",
       "    </tr>\n",
       "    <tr>\n",
       "      <th>NAME</th>\n",
       "      <td>3233</td>\n",
       "      <td>1922</td>\n",
       "      <td>Washington</td>\n",
       "      <td>31</td>\n",
       "    </tr>\n",
       "    <tr>\n",
       "      <th>NAMELSAD</th>\n",
       "      <td>3233</td>\n",
       "      <td>1968</td>\n",
       "      <td>Washington County</td>\n",
       "      <td>30</td>\n",
       "    </tr>\n",
       "    <tr>\n",
       "      <th>LSAD</th>\n",
       "      <td>3233</td>\n",
       "      <td>11</td>\n",
       "      <td>06</td>\n",
       "      <td>3007</td>\n",
       "    </tr>\n",
       "    <tr>\n",
       "      <th>CLASSFP</th>\n",
       "      <td>3233</td>\n",
       "      <td>5</td>\n",
       "      <td>H1</td>\n",
       "      <td>3115</td>\n",
       "    </tr>\n",
       "    <tr>\n",
       "      <th>MTFCC</th>\n",
       "      <td>3233</td>\n",
       "      <td>1</td>\n",
       "      <td>G4020</td>\n",
       "      <td>3233</td>\n",
       "    </tr>\n",
       "    <tr>\n",
       "      <th>CSAFP</th>\n",
       "      <td>1231</td>\n",
       "      <td>174</td>\n",
       "      <td>490</td>\n",
       "      <td>48</td>\n",
       "    </tr>\n",
       "    <tr>\n",
       "      <th>CBSAFP</th>\n",
       "      <td>1899</td>\n",
       "      <td>945</td>\n",
       "      <td>41980</td>\n",
       "      <td>40</td>\n",
       "    </tr>\n",
       "    <tr>\n",
       "      <th>METDIVFP</th>\n",
       "      <td>113</td>\n",
       "      <td>31</td>\n",
       "      <td>47894</td>\n",
       "      <td>22</td>\n",
       "    </tr>\n",
       "    <tr>\n",
       "      <th>FUNCSTAT</th>\n",
       "      <td>3233</td>\n",
       "      <td>7</td>\n",
       "      <td>A</td>\n",
       "      <td>3116</td>\n",
       "    </tr>\n",
       "    <tr>\n",
       "      <th>INTPTLAT</th>\n",
       "      <td>3233</td>\n",
       "      <td>3233</td>\n",
       "      <td>+18.2275938</td>\n",
       "      <td>1</td>\n",
       "    </tr>\n",
       "    <tr>\n",
       "      <th>INTPTLON</th>\n",
       "      <td>3233</td>\n",
       "      <td>3233</td>\n",
       "      <td>-097.7189200</td>\n",
       "      <td>1</td>\n",
       "    </tr>\n",
       "  </tbody>\n",
       "</table>\n",
       "</div>"
      ],
      "text/plain": [
       "         count unique                top  freq\n",
       "STATEFP   3233     56                 48   254\n",
       "COUNTYFP  3233    329                005    50\n",
       "COUNTYNS  3233   3233           00558077     1\n",
       "GEOID     3233   3233              48425     1\n",
       "NAME      3233   1922         Washington    31\n",
       "NAMELSAD  3233   1968  Washington County    30\n",
       "LSAD      3233     11                 06  3007\n",
       "CLASSFP   3233      5                 H1  3115\n",
       "MTFCC     3233      1              G4020  3233\n",
       "CSAFP     1231    174                490    48\n",
       "CBSAFP    1899    945              41980    40\n",
       "METDIVFP   113     31              47894    22\n",
       "FUNCSTAT  3233      7                  A  3116\n",
       "INTPTLAT  3233   3233        +18.2275938     1\n",
       "INTPTLON  3233   3233       -097.7189200     1"
      ]
     },
     "execution_count": 169,
     "metadata": {},
     "output_type": "execute_result"
    }
   ],
   "source": [
    "# Get summary statistics of objects\n",
    "usa_counties.describe(include=[np.object]).T"
   ]
  },
  {
   "cell_type": "markdown",
   "metadata": {},
   "source": [
    "### 1.3.2 Reduce Memory Usage of County Data\n",
    "We notice there are quite a few columns that can be typecasted as category or numeric."
   ]
  },
  {
   "cell_type": "code",
   "execution_count": 171,
   "metadata": {},
   "outputs": [
    {
     "data": {
      "text/plain": [
       "Index          128\n",
       "STATEFP     190747\n",
       "COUNTYFP    193980\n",
       "COUNTYNS    210145\n",
       "GEOID       200446\n",
       "NAME        207450\n",
       "NAMELSAD    230345\n",
       "LSAD        190747\n",
       "CLASSFP     190747\n",
       "MTFCC       200446\n",
       "CSAFP       121908\n",
       "CBSAFP      149754\n",
       "METDIVFP     81886\n",
       "FUNCSTAT    213378\n",
       "ALAND        25864\n",
       "AWATER       25864\n",
       "INTPTLAT    219844\n",
       "INTPTLON    223077\n",
       "geometry     25864\n",
       "dtype: int64"
      ]
     },
     "execution_count": 171,
     "metadata": {},
     "output_type": "execute_result"
    }
   ],
   "source": [
    "orig_mem = usa_counties.memory_usage(deep=True)\n",
    "orig_mem"
   ]
  },
  {
   "cell_type": "code",
   "execution_count": 172,
   "metadata": {},
   "outputs": [
    {
     "data": {
      "text/plain": [
       "STATEFP     category\n",
       "COUNTYFP    category\n",
       "COUNTYNS       int64\n",
       "GEOID          int64\n",
       "NAME          object\n",
       "NAMELSAD      object\n",
       "LSAD        category\n",
       "CLASSFP     category\n",
       "MTFCC       category\n",
       "CSAFP        float64\n",
       "CBSAFP       float64\n",
       "METDIVFP     float64\n",
       "FUNCSTAT    category\n",
       "ALAND          int64\n",
       "AWATER         int64\n",
       "INTPTLAT      object\n",
       "INTPTLON      object\n",
       "geometry    geometry\n",
       "dtype: object"
      ]
     },
     "execution_count": 172,
     "metadata": {},
     "output_type": "execute_result"
    }
   ],
   "source": [
    "# Change data type to categorical\n",
    "usa_counties['STATEFP'] = usa_counties['STATEFP'].astype('category')\n",
    "usa_counties['COUNTYFP'] = usa_counties['COUNTYFP'].astype('category')\n",
    "usa_counties['LSAD'] = usa_counties['LSAD'].astype('category')\n",
    "usa_counties['CLASSFP'] = usa_counties['CLASSFP'].astype('category')\n",
    "usa_counties['MTFCC'] = usa_counties['MTFCC'].astype('category')\n",
    "usa_counties['FUNCSTAT'] = usa_counties['FUNCSTAT'].astype('category')\n",
    "\n",
    "# Change data type to numeric\n",
    "usa_counties['COUNTYNS'] = pd.to_numeric(usa_counties['COUNTYNS'])\n",
    "usa_counties['GEOID'] = pd.to_numeric(usa_counties['GEOID'])\n",
    "usa_counties['CSAFP'] = pd.to_numeric(usa_counties['CSAFP'])\n",
    "usa_counties['CBSAFP'] = pd.to_numeric(usa_counties['CBSAFP'])\n",
    "usa_counties['METDIVFP'] = pd.to_numeric(usa_counties['METDIVFP'])\n",
    "\n",
    "usa_counties.dtypes"
   ]
  },
  {
   "cell_type": "code",
   "execution_count": 173,
   "metadata": {},
   "outputs": [
    {
     "data": {
      "text/plain": [
       "Index       1.000000\n",
       "STATEFP     0.047691\n",
       "COUNTYFP    0.187885\n",
       "COUNTYNS    0.123077\n",
       "GEOID       0.129032\n",
       "NAME        1.000000\n",
       "NAMELSAD    1.000000\n",
       "LSAD        0.022029\n",
       "CLASSFP     0.019335\n",
       "MTFCC       0.016837\n",
       "CSAFP       0.212160\n",
       "CBSAFP      0.172710\n",
       "METDIVFP    0.315854\n",
       "FUNCSTAT    0.018816\n",
       "ALAND       1.000000\n",
       "AWATER      1.000000\n",
       "INTPTLAT    1.000000\n",
       "INTPTLON    1.000000\n",
       "geometry    1.000000\n",
       "dtype: float64"
      ]
     },
     "execution_count": 173,
     "metadata": {},
     "output_type": "execute_result"
    }
   ],
   "source": [
    "new_mem = usa_counties.memory_usage(deep=True)\n",
    "new_mem/orig_mem"
   ]
  },
  {
   "cell_type": "markdown",
   "metadata": {},
   "source": [
    "### 1.3.3 Consolidate to Contiguous County Data"
   ]
  },
  {
   "cell_type": "code",
   "execution_count": 174,
   "metadata": {},
   "outputs": [
    {
     "data": {
      "text/plain": [
       "56"
      ]
     },
     "execution_count": 174,
     "metadata": {},
     "output_type": "execute_result"
    }
   ],
   "source": [
    "# Check out FIPS Codes in dataset to see number of unique States\n",
    "# https://www.nrcs.usda.gov/wps/portal/nrcs/detail/?cid=nrcs143_013696\n",
    "usa_counties.STATEFP.nunique()"
   ]
  },
  {
   "cell_type": "code",
   "execution_count": 178,
   "metadata": {},
   "outputs": [
    {
     "data": {
      "text/plain": [
       "(3108, 18)"
      ]
     },
     "execution_count": 178,
     "metadata": {},
     "output_type": "execute_result"
    }
   ],
   "source": [
    "# 56 tells us that we are including more than just the 50 states\n",
    "# We are only concerned with the contiguous USA\n",
    "# Create new dataset without the following locations:\n",
    "# American Samoa (60), Guam (66), Northern Mariana Islands (69)\n",
    "# Puerto Rico (72), Virgin Islands (78), Alaska (02), Hawaii (15)\n",
    "\n",
    "cont_usa = usa_counties[~usa_counties.STATEFP.isin(['02','15','60','66','69','72','78'])]\n",
    "cont_usa.shape"
   ]
  },
  {
   "cell_type": "code",
   "execution_count": 179,
   "metadata": {},
   "outputs": [
    {
     "data": {
      "text/plain": [
       "(3233, 18)"
      ]
     },
     "execution_count": 179,
     "metadata": {},
     "output_type": "execute_result"
    }
   ],
   "source": [
    "# Compare to original\n",
    "usa_counties.shape"
   ]
  },
  {
   "cell_type": "code",
   "execution_count": 180,
   "metadata": {},
   "outputs": [
    {
     "data": {
      "text/plain": [
       "(24.396307999999998, 49.384358)"
      ]
     },
     "execution_count": 180,
     "metadata": {},
     "output_type": "execute_result"
    },
    {
     "data": {
      "image/png": "[encoded data removed]",
      "text/plain": [
       "<Figure size 1008x864 with 1 Axes>"
      ]
     },
     "metadata": {
      "needs_background": "light"
     },
     "output_type": "display_data"
    }
   ],
   "source": [
    "# Plot contiguous counties\n",
    "fig, ax = plt.subplots(figsize=(14,12))\n",
    "#fig.tight_layout()\n",
    "ax.set(title='Contiguous United States Counties')\n",
    "cont_usa.plot(ax=ax)\n",
    "\n",
    "xlim = ([cont_usa.total_bounds[0],  cont_usa.total_bounds[2]])\n",
    "ylim = ([cont_usa.total_bounds[1],  cont_usa.total_bounds[3]])\n",
    "\n",
    "ax.set_xlim(xlim)\n",
    "ax.set_ylim(ylim)"
   ]
  },
  {
   "cell_type": "markdown",
   "metadata": {},
   "source": [
    "### 1.1.6 Save Datasets"
   ]
  },
  {
   "cell_type": "code",
   "execution_count": null,
   "metadata": {},
   "outputs": [],
   "source": [
    "# Save df of USA hospitals to access in next step --> ../data/interim\n",
    "# 1_1_usa_hosp\n",
    "\n",
    "\n",
    "# Save df of US Census by county --> ../data/interim\n",
    "# 1_1_usa_pop\n",
    "\n",
    "\n",
    "# Save geodf of contiguous USA counties to access in next step --> ../data/interim\n",
    "# 1_1_usa_counties_geo\n",
    "\n",
    "\n",
    "# Save geodf of USA states to access in next step --> ../data/interim\n",
    "# 1_1_usa_states_geo\n",
    "\n"
   ]
  }
 ],
 "metadata": {
  "kernelspec": {
   "display_name": "CovHosEnv",
   "language": "python",
   "name": "covhosenv"
  },
  "language_info": {
   "codemirror_mode": {
    "name": "ipython",
    "version": 3
   },
   "file_extension": ".py",
   "mimetype": "text/x-python",
   "name": "python",
   "nbconvert_exporter": "python",
   "pygments_lexer": "ipython3",
   "version": "3.8.2"
  }
 },
 "nbformat": 4,
 "nbformat_minor": 4
}
