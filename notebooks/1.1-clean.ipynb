{
 "cells": [
  {
   "cell_type": "markdown",
   "metadata": {},
   "source": [
    "# 1. Examine and Clean\n",
    "This notebook contains the process used to import, examine, and clean the dataset containing COVID hospital cases by county. It also includes the process used to slim down the US gov's USA county shapefiles to only include the contiguous US states."
   ]
  },
  {
   "cell_type": "markdown",
   "metadata": {},
   "source": [
    "### 1.0.1 Import Packages"
   ]
  },
  {
   "cell_type": "code",
   "execution_count": 672,
   "metadata": {},
   "outputs": [],
   "source": [
    "import numpy as np #linear algebra\n",
    "import pandas as pd #data processing, CSV file I/O\n",
    "import matplotlib.pyplot as plt\n",
    "import seaborn as sns\n",
    "import os\n",
    "\n",
    "# Import libraries for reading geographic data\n",
    "import geopandas as gpd\n",
    "from shapely.geometry import Point, shape\n",
    "import io\n",
    "import addfips\n",
    "\n",
    "%matplotlib inline"
   ]
  },
  {
   "cell_type": "code",
   "execution_count": 673,
   "metadata": {},
   "outputs": [
    {
     "data": {
      "text/plain": [
       "'/Users/tiffanyflor/Dropbox/MyProjects/usacovidhosp/notebooks'"
      ]
     },
     "execution_count": 673,
     "metadata": {},
     "output_type": "execute_result"
    }
   ],
   "source": [
    "os.getcwd()"
   ]
  },
  {
   "cell_type": "code",
   "execution_count": 674,
   "metadata": {},
   "outputs": [
    {
     "name": "stdout",
     "output_type": "stream",
     "text": [
      "tl_2019_us_state.shp\n",
      "tl_2019_us_state.shx\n",
      "tl_2017_us_county.cpg\n",
      "tl_2017_us_county.shp\n",
      "Merged_Final.csv\n",
      "tl_2017_us_county.shx\n",
      ".gitkeep\n",
      "tl_2017_us_county.dbf\n",
      "tl_2019_us_state.dbf\n",
      "tl_2019_us_state.prj\n",
      "tl_2017_us_county.prj\n",
      "co-est2019-alldata.csv\n"
     ]
    }
   ],
   "source": [
    "# List files in the raw data directory\n",
    "\n",
    "for dirname, _, filenames in os.walk('../data/raw/'):\n",
    "    for filename in filenames:\n",
    "        print(filename)"
   ]
  },
  {
   "cell_type": "markdown",
   "metadata": {},
   "source": [
    "### 1.1.1 Import and Examine COVID Hospital Data\n",
    "Import dataset as a pandas DataFrame. Examine metadata and univariate descriptive statistics."
   ]
  },
  {
   "cell_type": "code",
   "execution_count": 675,
   "metadata": {},
   "outputs": [],
   "source": [
    "# Merged_Final.csv --> contains USA hospitals with COVID by county\n",
    "# Put into dataframe\n",
    "hosp = pd.read_csv('../data/raw/Merged_Final.csv')"
   ]
  },
  {
   "cell_type": "code",
   "execution_count": 676,
   "metadata": {},
   "outputs": [
    {
     "data": {
      "text/html": [
       "<div>\n",
       "<style scoped>\n",
       "    .dataframe tbody tr th:only-of-type {\n",
       "        vertical-align: middle;\n",
       "    }\n",
       "\n",
       "    .dataframe tbody tr th {\n",
       "        vertical-align: top;\n",
       "    }\n",
       "\n",
       "    .dataframe thead th {\n",
       "        text-align: right;\n",
       "    }\n",
       "</style>\n",
       "<table border=\"1\" class=\"dataframe\">\n",
       "  <thead>\n",
       "    <tr style=\"text-align: right;\">\n",
       "      <th></th>\n",
       "      <th>County Name</th>\n",
       "      <th>Facility_Name</th>\n",
       "      <th>Full_Address</th>\n",
       "      <th>State</th>\n",
       "      <th>Total</th>\n",
       "      <th>latitudes</th>\n",
       "      <th>longitudes</th>\n",
       "    </tr>\n",
       "  </thead>\n",
       "  <tbody>\n",
       "    <tr>\n",
       "      <th>0</th>\n",
       "      <td>HOUSTON</td>\n",
       "      <td>SOUTHEAST ALABAMA MEDICAL CENTER</td>\n",
       "      <td>1108 ROSS CLARK CIRCLE,DOTHAN,HOUSTON,AL</td>\n",
       "      <td>AL</td>\n",
       "      <td>2427</td>\n",
       "      <td>31.215827</td>\n",
       "      <td>-85.363433</td>\n",
       "    </tr>\n",
       "    <tr>\n",
       "      <th>1</th>\n",
       "      <td>MARSHALL</td>\n",
       "      <td>MARSHALL MEDICAL CENTERS</td>\n",
       "      <td>2505 U S HIGHWAY 431 NORTH,BOAZ,MARSHALL,AL</td>\n",
       "      <td>AL</td>\n",
       "      <td>5104</td>\n",
       "      <td>34.601233</td>\n",
       "      <td>-87.123343</td>\n",
       "    </tr>\n",
       "    <tr>\n",
       "      <th>2</th>\n",
       "      <td>LAUDERDALE</td>\n",
       "      <td>NORTH ALABAMA MEDICAL CENTER</td>\n",
       "      <td>1701 VETERANS DRIVE,FLORENCE,LAUDERDALE,AL</td>\n",
       "      <td>AL</td>\n",
       "      <td>2120</td>\n",
       "      <td>34.805043</td>\n",
       "      <td>-87.650814</td>\n",
       "    </tr>\n",
       "    <tr>\n",
       "      <th>3</th>\n",
       "      <td>JEFFERSON</td>\n",
       "      <td>ST. VINCENT'S EAST</td>\n",
       "      <td>50 MEDICAL PARK EAST DRIVE,BIRMINGHAM,JEFFERSO...</td>\n",
       "      <td>AL</td>\n",
       "      <td>26142</td>\n",
       "      <td>33.564772</td>\n",
       "      <td>-86.760155</td>\n",
       "    </tr>\n",
       "    <tr>\n",
       "      <th>4</th>\n",
       "      <td>SHELBY</td>\n",
       "      <td>SHELBY BAPTIST MEDICAL CENTER</td>\n",
       "      <td>1000 FIRST STREET NORTH,ALABASTER,SHELBY,AL</td>\n",
       "      <td>AL</td>\n",
       "      <td>20720</td>\n",
       "      <td>33.075378</td>\n",
       "      <td>-86.519100</td>\n",
       "    </tr>\n",
       "  </tbody>\n",
       "</table>\n",
       "</div>"
      ],
      "text/plain": [
       "  County Name                     Facility_Name  \\\n",
       "0     HOUSTON  SOUTHEAST ALABAMA MEDICAL CENTER   \n",
       "1    MARSHALL          MARSHALL MEDICAL CENTERS   \n",
       "2  LAUDERDALE      NORTH ALABAMA MEDICAL CENTER   \n",
       "3   JEFFERSON                ST. VINCENT'S EAST   \n",
       "4      SHELBY     SHELBY BAPTIST MEDICAL CENTER   \n",
       "\n",
       "                                        Full_Address State  Total  latitudes  \\\n",
       "0           1108 ROSS CLARK CIRCLE,DOTHAN,HOUSTON,AL    AL   2427  31.215827   \n",
       "1        2505 U S HIGHWAY 431 NORTH,BOAZ,MARSHALL,AL    AL   5104  34.601233   \n",
       "2         1701 VETERANS DRIVE,FLORENCE,LAUDERDALE,AL    AL   2120  34.805043   \n",
       "3  50 MEDICAL PARK EAST DRIVE,BIRMINGHAM,JEFFERSO...    AL  26142  33.564772   \n",
       "4        1000 FIRST STREET NORTH,ALABASTER,SHELBY,AL    AL  20720  33.075378   \n",
       "\n",
       "   longitudes  \n",
       "0  -85.363433  \n",
       "1  -87.123343  \n",
       "2  -87.650814  \n",
       "3  -86.760155  \n",
       "4  -86.519100  "
      ]
     },
     "execution_count": 676,
     "metadata": {},
     "output_type": "execute_result"
    }
   ],
   "source": [
    "# View data\n",
    "hosp.head()"
   ]
  },
  {
   "cell_type": "code",
   "execution_count": 677,
   "metadata": {},
   "outputs": [
    {
     "data": {
      "text/plain": [
       "(4478, 7)"
      ]
     },
     "execution_count": 677,
     "metadata": {},
     "output_type": "execute_result"
    }
   ],
   "source": [
    "# Get rows and columns\n",
    "hosp.shape"
   ]
  },
  {
   "cell_type": "code",
   "execution_count": 678,
   "metadata": {},
   "outputs": [
    {
     "name": "stdout",
     "output_type": "stream",
     "text": [
      "<class 'pandas.core.frame.DataFrame'>\n",
      "RangeIndex: 4478 entries, 0 to 4477\n",
      "Data columns (total 7 columns):\n",
      " #   Column         Non-Null Count  Dtype  \n",
      "---  ------         --------------  -----  \n",
      " 0   County Name    4478 non-null   object \n",
      " 1   Facility_Name  4478 non-null   object \n",
      " 2   Full_Address   4478 non-null   object \n",
      " 3   State          4478 non-null   object \n",
      " 4   Total          4478 non-null   int64  \n",
      " 5   latitudes      4478 non-null   float64\n",
      " 6   longitudes     4478 non-null   float64\n",
      "dtypes: float64(2), int64(1), object(4)\n",
      "memory usage: 245.0+ KB\n"
     ]
    }
   ],
   "source": [
    "# List data types and counts\n",
    "hosp.info()"
   ]
  },
  {
   "cell_type": "code",
   "execution_count": 679,
   "metadata": {},
   "outputs": [
    {
     "data": {
      "text/html": [
       "<div>\n",
       "<style scoped>\n",
       "    .dataframe tbody tr th:only-of-type {\n",
       "        vertical-align: middle;\n",
       "    }\n",
       "\n",
       "    .dataframe tbody tr th {\n",
       "        vertical-align: top;\n",
       "    }\n",
       "\n",
       "    .dataframe thead th {\n",
       "        text-align: right;\n",
       "    }\n",
       "</style>\n",
       "<table border=\"1\" class=\"dataframe\">\n",
       "  <thead>\n",
       "    <tr style=\"text-align: right;\">\n",
       "      <th></th>\n",
       "      <th>Total</th>\n",
       "      <th>latitudes</th>\n",
       "      <th>longitudes</th>\n",
       "    </tr>\n",
       "  </thead>\n",
       "  <tbody>\n",
       "    <tr>\n",
       "      <th>count</th>\n",
       "      <td>4478.000000</td>\n",
       "      <td>4478.000000</td>\n",
       "      <td>4478.000000</td>\n",
       "    </tr>\n",
       "    <tr>\n",
       "      <th>mean</th>\n",
       "      <td>13635.779812</td>\n",
       "      <td>37.942630</td>\n",
       "      <td>-93.095641</td>\n",
       "    </tr>\n",
       "    <tr>\n",
       "      <th>std</th>\n",
       "      <td>27010.816470</td>\n",
       "      <td>5.383805</td>\n",
       "      <td>14.995810</td>\n",
       "    </tr>\n",
       "    <tr>\n",
       "      <th>min</th>\n",
       "      <td>0.000000</td>\n",
       "      <td>18.372500</td>\n",
       "      <td>-159.671259</td>\n",
       "    </tr>\n",
       "    <tr>\n",
       "      <th>25%</th>\n",
       "      <td>497.000000</td>\n",
       "      <td>34.001714</td>\n",
       "      <td>-99.310467</td>\n",
       "    </tr>\n",
       "    <tr>\n",
       "      <th>50%</th>\n",
       "      <td>3581.000000</td>\n",
       "      <td>38.773624</td>\n",
       "      <td>-90.291356</td>\n",
       "    </tr>\n",
       "    <tr>\n",
       "      <th>75%</th>\n",
       "      <td>14835.000000</td>\n",
       "      <td>41.682943</td>\n",
       "      <td>-82.382111</td>\n",
       "    </tr>\n",
       "    <tr>\n",
       "      <th>max</th>\n",
       "      <td>159045.000000</td>\n",
       "      <td>58.329259</td>\n",
       "      <td>-66.046000</td>\n",
       "    </tr>\n",
       "  </tbody>\n",
       "</table>\n",
       "</div>"
      ],
      "text/plain": [
       "               Total    latitudes   longitudes\n",
       "count    4478.000000  4478.000000  4478.000000\n",
       "mean    13635.779812    37.942630   -93.095641\n",
       "std     27010.816470     5.383805    14.995810\n",
       "min         0.000000    18.372500  -159.671259\n",
       "25%       497.000000    34.001714   -99.310467\n",
       "50%      3581.000000    38.773624   -90.291356\n",
       "75%     14835.000000    41.682943   -82.382111\n",
       "max    159045.000000    58.329259   -66.046000"
      ]
     },
     "execution_count": 679,
     "metadata": {},
     "output_type": "execute_result"
    }
   ],
   "source": [
    "# Summary statistics for numerical columns\n",
    "hosp.describe(include=[np.number])"
   ]
  },
  {
   "cell_type": "code",
   "execution_count": 680,
   "metadata": {},
   "outputs": [
    {
     "data": {
      "text/html": [
       "<div>\n",
       "<style scoped>\n",
       "    .dataframe tbody tr th:only-of-type {\n",
       "        vertical-align: middle;\n",
       "    }\n",
       "\n",
       "    .dataframe tbody tr th {\n",
       "        vertical-align: top;\n",
       "    }\n",
       "\n",
       "    .dataframe thead th {\n",
       "        text-align: right;\n",
       "    }\n",
       "</style>\n",
       "<table border=\"1\" class=\"dataframe\">\n",
       "  <thead>\n",
       "    <tr style=\"text-align: right;\">\n",
       "      <th></th>\n",
       "      <th>County Name</th>\n",
       "      <th>Facility_Name</th>\n",
       "      <th>Full_Address</th>\n",
       "      <th>State</th>\n",
       "    </tr>\n",
       "  </thead>\n",
       "  <tbody>\n",
       "    <tr>\n",
       "      <th>count</th>\n",
       "      <td>4478</td>\n",
       "      <td>4478</td>\n",
       "      <td>4478</td>\n",
       "      <td>4478</td>\n",
       "    </tr>\n",
       "    <tr>\n",
       "      <th>unique</th>\n",
       "      <td>1273</td>\n",
       "      <td>4341</td>\n",
       "      <td>4476</td>\n",
       "      <td>51</td>\n",
       "    </tr>\n",
       "    <tr>\n",
       "      <th>top</th>\n",
       "      <td>LOS ANGELES</td>\n",
       "      <td>MEMORIAL HOSPITAL</td>\n",
       "      <td>47 SOUTH FOURTH ST,ROLLING FORK,SHARKEY,MS</td>\n",
       "      <td>TX</td>\n",
       "    </tr>\n",
       "    <tr>\n",
       "      <th>freq</th>\n",
       "      <td>90</td>\n",
       "      <td>12</td>\n",
       "      <td>2</td>\n",
       "      <td>407</td>\n",
       "    </tr>\n",
       "  </tbody>\n",
       "</table>\n",
       "</div>"
      ],
      "text/plain": [
       "        County Name      Facility_Name  \\\n",
       "count          4478               4478   \n",
       "unique         1273               4341   \n",
       "top     LOS ANGELES  MEMORIAL HOSPITAL   \n",
       "freq             90                 12   \n",
       "\n",
       "                                      Full_Address State  \n",
       "count                                         4478  4478  \n",
       "unique                                        4476    51  \n",
       "top     47 SOUTH FOURTH ST,ROLLING FORK,SHARKEY,MS    TX  \n",
       "freq                                             2   407  "
      ]
     },
     "execution_count": 680,
     "metadata": {},
     "output_type": "execute_result"
    }
   ],
   "source": [
    "# Summary statistics for object and categorical columns\n",
    "hosp.describe(include=[np.object, pd.Categorical])"
   ]
  },
  {
   "cell_type": "markdown",
   "metadata": {},
   "source": [
    "### 1.1.2 Clean Hospital Data\n",
    "Drop unnecessary rows and remove duplicates. Reset index for a clean dataframe."
   ]
  },
  {
   "cell_type": "code",
   "execution_count": 681,
   "metadata": {},
   "outputs": [
    {
     "data": {
      "text/plain": [
       "51"
      ]
     },
     "execution_count": 681,
     "metadata": {},
     "output_type": "execute_result"
    }
   ],
   "source": [
    "# Check out the number of states listed\n",
    "hosp['State'].nunique()"
   ]
  },
  {
   "cell_type": "code",
   "execution_count": 682,
   "metadata": {},
   "outputs": [
    {
     "data": {
      "text/plain": [
       "array(['AL', 'AK', 'AZ', 'AR', 'CA', 'CO', 'CT', 'DE', 'FL', 'GA', 'HI',\n",
       "       'ID', 'IL', 'IN', 'IA', 'KS', 'KY', 'LA', 'ME', 'MD', 'MA', 'MI',\n",
       "       'MN', 'MS', 'MO', 'MT', 'NE', 'NV', 'NH', 'NJ', 'NM', 'NY', 'NC',\n",
       "       'ND', 'OH', 'OK', 'OR', 'PA', 'PR', 'RI', 'SC', 'SD', 'TN', 'TX',\n",
       "       'UT', 'VT', 'VA', 'WA', 'WV', 'WI', 'WY'], dtype=object)"
      ]
     },
     "execution_count": 682,
     "metadata": {},
     "output_type": "execute_result"
    }
   ],
   "source": [
    "# Notice it includes Puerto Rico\n",
    "hosp['State'].unique()"
   ]
  },
  {
   "cell_type": "code",
   "execution_count": 683,
   "metadata": {},
   "outputs": [
    {
     "data": {
      "text/plain": [
       "(4460, 7)"
      ]
     },
     "execution_count": 683,
     "metadata": {},
     "output_type": "execute_result"
    }
   ],
   "source": [
    "# Since we are only concerned with the 50 US states, we'll drop rows containing PR\n",
    "hosp = hosp[hosp.State != 'PR']\n",
    "hosp.shape"
   ]
  },
  {
   "cell_type": "code",
   "execution_count": 684,
   "metadata": {},
   "outputs": [
    {
     "data": {
      "text/plain": [
       "101 CIRCLE DRIVE,HILLSBORO,HILL,TX                 2\n",
       "47 SOUTH FOURTH ST,ROLLING FORK,SHARKEY,MS         2\n",
       "1500 S MAIN ST,FORT WORTH,TARRANT,TX               1\n",
       "751 NE BLAKELY DR,ISSAQUAH,KING,WA                 1\n",
       "3001 BROADMOOR BLVD NE,RIO RANCHO,SANDOVAL,NM      1\n",
       "                                                  ..\n",
       "172 KINSLEY ST,NASHUA,HILLSBOROUGH,NH              1\n",
       "501 NORTH LANSDOWNE AVE,DREXEL HILL,DELAWARE,PA    1\n",
       "1501 SOUTH DIXIE STREET,HORSE CAVE,HART,KY         1\n",
       "41 EAST POST R0AD,WHITE PLAINS,WESTCHESTER,NY      1\n",
       "9191 GRANT ST,THORNTON,ADAMS,CO                    1\n",
       "Name: Full_Address, Length: 4458, dtype: int64"
      ]
     },
     "execution_count": 684,
     "metadata": {},
     "output_type": "execute_result"
    }
   ],
   "source": [
    "# Check for duplicate hospitals\n",
    "hosp['Full_Address'].value_counts()"
   ]
  },
  {
   "cell_type": "code",
   "execution_count": 685,
   "metadata": {},
   "outputs": [
    {
     "data": {
      "text/html": [
       "<div>\n",
       "<style scoped>\n",
       "    .dataframe tbody tr th:only-of-type {\n",
       "        vertical-align: middle;\n",
       "    }\n",
       "\n",
       "    .dataframe tbody tr th {\n",
       "        vertical-align: top;\n",
       "    }\n",
       "\n",
       "    .dataframe thead th {\n",
       "        text-align: right;\n",
       "    }\n",
       "</style>\n",
       "<table border=\"1\" class=\"dataframe\">\n",
       "  <thead>\n",
       "    <tr style=\"text-align: right;\">\n",
       "      <th></th>\n",
       "      <th>County Name</th>\n",
       "      <th>Facility_Name</th>\n",
       "      <th>Full_Address</th>\n",
       "      <th>State</th>\n",
       "      <th>Total</th>\n",
       "      <th>latitudes</th>\n",
       "      <th>longitudes</th>\n",
       "    </tr>\n",
       "  </thead>\n",
       "  <tbody>\n",
       "    <tr>\n",
       "      <th>2158</th>\n",
       "      <td>SHARKEY</td>\n",
       "      <td>SHARKEY ISSAQUENA COMMUNITY HOSPITAL</td>\n",
       "      <td>47 SOUTH FOURTH ST,ROLLING FORK,SHARKEY,MS</td>\n",
       "      <td>MS</td>\n",
       "      <td>65</td>\n",
       "      <td>34.004727</td>\n",
       "      <td>-90.070306</td>\n",
       "    </tr>\n",
       "    <tr>\n",
       "      <th>2212</th>\n",
       "      <td>SHARKEY</td>\n",
       "      <td>SHARKEY ISSAQUENA COMMUNITY HOSPITAL</td>\n",
       "      <td>47 SOUTH FOURTH ST,ROLLING FORK,SHARKEY,MS</td>\n",
       "      <td>MS</td>\n",
       "      <td>65</td>\n",
       "      <td>34.004727</td>\n",
       "      <td>-90.070306</td>\n",
       "    </tr>\n",
       "  </tbody>\n",
       "</table>\n",
       "</div>"
      ],
      "text/plain": [
       "     County Name                         Facility_Name  \\\n",
       "2158     SHARKEY  SHARKEY ISSAQUENA COMMUNITY HOSPITAL   \n",
       "2212     SHARKEY  SHARKEY ISSAQUENA COMMUNITY HOSPITAL   \n",
       "\n",
       "                                    Full_Address State  Total  latitudes  \\\n",
       "2158  47 SOUTH FOURTH ST,ROLLING FORK,SHARKEY,MS    MS     65  34.004727   \n",
       "2212  47 SOUTH FOURTH ST,ROLLING FORK,SHARKEY,MS    MS     65  34.004727   \n",
       "\n",
       "      longitudes  \n",
       "2158  -90.070306  \n",
       "2212  -90.070306  "
      ]
     },
     "execution_count": 685,
     "metadata": {},
     "output_type": "execute_result"
    }
   ],
   "source": [
    "# Examine hospitals with more than one listing\n",
    "hosp[hosp['Full_Address'] == '47 SOUTH FOURTH ST,ROLLING FORK,SHARKEY,MS']"
   ]
  },
  {
   "cell_type": "code",
   "execution_count": 686,
   "metadata": {},
   "outputs": [
    {
     "data": {
      "text/html": [
       "<div>\n",
       "<style scoped>\n",
       "    .dataframe tbody tr th:only-of-type {\n",
       "        vertical-align: middle;\n",
       "    }\n",
       "\n",
       "    .dataframe tbody tr th {\n",
       "        vertical-align: top;\n",
       "    }\n",
       "\n",
       "    .dataframe thead th {\n",
       "        text-align: right;\n",
       "    }\n",
       "</style>\n",
       "<table border=\"1\" class=\"dataframe\">\n",
       "  <thead>\n",
       "    <tr style=\"text-align: right;\">\n",
       "      <th></th>\n",
       "      <th>County Name</th>\n",
       "      <th>Facility_Name</th>\n",
       "      <th>Full_Address</th>\n",
       "      <th>State</th>\n",
       "      <th>Total</th>\n",
       "      <th>latitudes</th>\n",
       "      <th>longitudes</th>\n",
       "    </tr>\n",
       "  </thead>\n",
       "  <tbody>\n",
       "    <tr>\n",
       "      <th>3725</th>\n",
       "      <td>HILL</td>\n",
       "      <td>HILL REGIONAL HOSPITAL</td>\n",
       "      <td>101 CIRCLE DRIVE,HILLSBORO,HILL,TX</td>\n",
       "      <td>TX</td>\n",
       "      <td>239</td>\n",
       "      <td>31.269893</td>\n",
       "      <td>-98.943568</td>\n",
       "    </tr>\n",
       "    <tr>\n",
       "      <th>3947</th>\n",
       "      <td>HILL</td>\n",
       "      <td>HILL REGIONAL HOSPITAL</td>\n",
       "      <td>101 CIRCLE DRIVE,HILLSBORO,HILL,TX</td>\n",
       "      <td>TX</td>\n",
       "      <td>239</td>\n",
       "      <td>31.269893</td>\n",
       "      <td>-98.943568</td>\n",
       "    </tr>\n",
       "  </tbody>\n",
       "</table>\n",
       "</div>"
      ],
      "text/plain": [
       "     County Name           Facility_Name                        Full_Address  \\\n",
       "3725        HILL  HILL REGIONAL HOSPITAL  101 CIRCLE DRIVE,HILLSBORO,HILL,TX   \n",
       "3947        HILL  HILL REGIONAL HOSPITAL  101 CIRCLE DRIVE,HILLSBORO,HILL,TX   \n",
       "\n",
       "     State  Total  latitudes  longitudes  \n",
       "3725    TX    239  31.269893  -98.943568  \n",
       "3947    TX    239  31.269893  -98.943568  "
      ]
     },
     "execution_count": 686,
     "metadata": {},
     "output_type": "execute_result"
    }
   ],
   "source": [
    "hosp[hosp['Full_Address'] == '101 CIRCLE DRIVE,HILLSBORO,HILL,TX']"
   ]
  },
  {
   "cell_type": "code",
   "execution_count": 687,
   "metadata": {},
   "outputs": [
    {
     "data": {
      "text/html": [
       "<div>\n",
       "<style scoped>\n",
       "    .dataframe tbody tr th:only-of-type {\n",
       "        vertical-align: middle;\n",
       "    }\n",
       "\n",
       "    .dataframe tbody tr th {\n",
       "        vertical-align: top;\n",
       "    }\n",
       "\n",
       "    .dataframe thead th {\n",
       "        text-align: right;\n",
       "    }\n",
       "</style>\n",
       "<table border=\"1\" class=\"dataframe\">\n",
       "  <thead>\n",
       "    <tr style=\"text-align: right;\">\n",
       "      <th></th>\n",
       "      <th>County Name</th>\n",
       "      <th>Facility_Name</th>\n",
       "      <th>Full_Address</th>\n",
       "      <th>State</th>\n",
       "      <th>Total</th>\n",
       "      <th>latitudes</th>\n",
       "      <th>longitudes</th>\n",
       "    </tr>\n",
       "  </thead>\n",
       "  <tbody>\n",
       "    <tr>\n",
       "      <th>2155</th>\n",
       "      <td>HINDS</td>\n",
       "      <td>MERIT HEALTH CENTRAL</td>\n",
       "      <td>1850 CHADWICK DR,JACKSON,HINDS,MS</td>\n",
       "      <td>MS</td>\n",
       "      <td>3691</td>\n",
       "      <td>32.287775</td>\n",
       "      <td>-90.254940</td>\n",
       "    </tr>\n",
       "    <tr>\n",
       "      <th>2156</th>\n",
       "      <td>WAYNE</td>\n",
       "      <td>WAYNE GENERAL HOSPITAL</td>\n",
       "      <td>950 MATTHEW DR,WAYNESBORO,WAYNE,MS</td>\n",
       "      <td>MS</td>\n",
       "      <td>29753</td>\n",
       "      <td>31.673138</td>\n",
       "      <td>-88.634152</td>\n",
       "    </tr>\n",
       "    <tr>\n",
       "      <th>2157</th>\n",
       "      <td>FORREST</td>\n",
       "      <td>FORREST GENERAL HOSPITAL</td>\n",
       "      <td>6051 US HIGHWAY 49,HATTIESBURG,FORREST,MS</td>\n",
       "      <td>MS</td>\n",
       "      <td>1197</td>\n",
       "      <td>33.079453</td>\n",
       "      <td>-89.858575</td>\n",
       "    </tr>\n",
       "    <tr>\n",
       "      <th>2158</th>\n",
       "      <td>SHARKEY</td>\n",
       "      <td>SHARKEY ISSAQUENA COMMUNITY HOSPITAL</td>\n",
       "      <td>47 SOUTH FOURTH ST,ROLLING FORK,SHARKEY,MS</td>\n",
       "      <td>MS</td>\n",
       "      <td>65</td>\n",
       "      <td>34.004727</td>\n",
       "      <td>-90.070306</td>\n",
       "    </tr>\n",
       "    <tr>\n",
       "      <th>2159</th>\n",
       "      <td>LAUDERDALE</td>\n",
       "      <td>ANDERSON REGIONAL MEDICAL CENTER SOUTH CAMPUS</td>\n",
       "      <td>1102 CONSTITUTION AVENUE,MERIDIAN,LAUDERDALE,MS</td>\n",
       "      <td>MS</td>\n",
       "      <td>2120</td>\n",
       "      <td>31.686577</td>\n",
       "      <td>-88.652958</td>\n",
       "    </tr>\n",
       "    <tr>\n",
       "      <th>2160</th>\n",
       "      <td>WASHINGTON</td>\n",
       "      <td>DELTA REGIONAL MEDICAL CENTER</td>\n",
       "      <td>1400 E UNION ST,GREENVILLE,WASHINGTON,MS</td>\n",
       "      <td>MS</td>\n",
       "      <td>17929</td>\n",
       "      <td>33.410527</td>\n",
       "      <td>-91.035356</td>\n",
       "    </tr>\n",
       "    <tr>\n",
       "      <th>2161</th>\n",
       "      <td>ADAMS</td>\n",
       "      <td>MERIT HEALTH NATCHEZ</td>\n",
       "      <td>52 SERGEANT PRENTISS DRIVE,NATCHEZ,ADAMS,MS</td>\n",
       "      <td>MS</td>\n",
       "      <td>7059</td>\n",
       "      <td>31.867069</td>\n",
       "      <td>-90.443150</td>\n",
       "    </tr>\n",
       "    <tr>\n",
       "      <th>2162</th>\n",
       "      <td>MARION</td>\n",
       "      <td>MARION GENERAL HOSPITAL</td>\n",
       "      <td>1560 SUMRALL RD,COLUMBIA,MARION,MS</td>\n",
       "      <td>MS</td>\n",
       "      <td>22462</td>\n",
       "      <td>31.255953</td>\n",
       "      <td>-89.805607</td>\n",
       "    </tr>\n",
       "  </tbody>\n",
       "</table>\n",
       "</div>"
      ],
      "text/plain": [
       "     County Name                                  Facility_Name  \\\n",
       "2155       HINDS                           MERIT HEALTH CENTRAL   \n",
       "2156       WAYNE                         WAYNE GENERAL HOSPITAL   \n",
       "2157     FORREST                       FORREST GENERAL HOSPITAL   \n",
       "2158     SHARKEY           SHARKEY ISSAQUENA COMMUNITY HOSPITAL   \n",
       "2159  LAUDERDALE  ANDERSON REGIONAL MEDICAL CENTER SOUTH CAMPUS   \n",
       "2160  WASHINGTON                  DELTA REGIONAL MEDICAL CENTER   \n",
       "2161       ADAMS                           MERIT HEALTH NATCHEZ   \n",
       "2162      MARION                        MARION GENERAL HOSPITAL   \n",
       "\n",
       "                                         Full_Address State  Total  latitudes  \\\n",
       "2155                1850 CHADWICK DR,JACKSON,HINDS,MS    MS   3691  32.287775   \n",
       "2156               950 MATTHEW DR,WAYNESBORO,WAYNE,MS    MS  29753  31.673138   \n",
       "2157        6051 US HIGHWAY 49,HATTIESBURG,FORREST,MS    MS   1197  33.079453   \n",
       "2158       47 SOUTH FOURTH ST,ROLLING FORK,SHARKEY,MS    MS     65  34.004727   \n",
       "2159  1102 CONSTITUTION AVENUE,MERIDIAN,LAUDERDALE,MS    MS   2120  31.686577   \n",
       "2160         1400 E UNION ST,GREENVILLE,WASHINGTON,MS    MS  17929  33.410527   \n",
       "2161      52 SERGEANT PRENTISS DRIVE,NATCHEZ,ADAMS,MS    MS   7059  31.867069   \n",
       "2162               1560 SUMRALL RD,COLUMBIA,MARION,MS    MS  22462  31.255953   \n",
       "\n",
       "      longitudes  \n",
       "2155  -90.254940  \n",
       "2156  -88.634152  \n",
       "2157  -89.858575  \n",
       "2158  -90.070306  \n",
       "2159  -88.652958  \n",
       "2160  -91.035356  \n",
       "2161  -90.443150  \n",
       "2162  -89.805607  "
      ]
     },
     "execution_count": 687,
     "metadata": {},
     "output_type": "execute_result"
    }
   ],
   "source": [
    "# Review areas around index to determine if there is an obvious order to hospital input\n",
    "hosp.iloc[2155:2163]"
   ]
  },
  {
   "cell_type": "code",
   "execution_count": 688,
   "metadata": {},
   "outputs": [],
   "source": [
    "# No obvious pattern found\n",
    "# Drop 2nd occurence of each duplicate\n",
    "hosp.drop([2212,3947], inplace=True)"
   ]
  },
  {
   "cell_type": "code",
   "execution_count": 689,
   "metadata": {},
   "outputs": [
    {
     "data": {
      "text/html": [
       "<div>\n",
       "<style scoped>\n",
       "    .dataframe tbody tr th:only-of-type {\n",
       "        vertical-align: middle;\n",
       "    }\n",
       "\n",
       "    .dataframe tbody tr th {\n",
       "        vertical-align: top;\n",
       "    }\n",
       "\n",
       "    .dataframe thead th {\n",
       "        text-align: right;\n",
       "    }\n",
       "</style>\n",
       "<table border=\"1\" class=\"dataframe\">\n",
       "  <thead>\n",
       "    <tr style=\"text-align: right;\">\n",
       "      <th></th>\n",
       "      <th>County Name</th>\n",
       "      <th>Facility_Name</th>\n",
       "      <th>Full_Address</th>\n",
       "      <th>State</th>\n",
       "      <th>Total</th>\n",
       "      <th>latitudes</th>\n",
       "      <th>longitudes</th>\n",
       "    </tr>\n",
       "  </thead>\n",
       "  <tbody>\n",
       "    <tr>\n",
       "      <th>2211</th>\n",
       "      <td>TIPPAH</td>\n",
       "      <td>TIPPAH COUNTY HOSPITAL</td>\n",
       "      <td>1005 CITY AVE NORTH,RIPLEY,TIPPAH,MS</td>\n",
       "      <td>MS</td>\n",
       "      <td>193</td>\n",
       "      <td>34.739039</td>\n",
       "      <td>-88.950607</td>\n",
       "    </tr>\n",
       "    <tr>\n",
       "      <th>2213</th>\n",
       "      <td>RANKIN</td>\n",
       "      <td>BRENTWOOD BEHAVIORAL HEALTHCARE OF MS</td>\n",
       "      <td>3531 EAST LAKELAND DRIVE,FLOWOOD,RANKIN,MS</td>\n",
       "      <td>MS</td>\n",
       "      <td>1459</td>\n",
       "      <td>32.357990</td>\n",
       "      <td>-90.011870</td>\n",
       "    </tr>\n",
       "  </tbody>\n",
       "</table>\n",
       "</div>"
      ],
      "text/plain": [
       "     County Name                          Facility_Name  \\\n",
       "2211      TIPPAH                 TIPPAH COUNTY HOSPITAL   \n",
       "2213      RANKIN  BRENTWOOD BEHAVIORAL HEALTHCARE OF MS   \n",
       "\n",
       "                                    Full_Address State  Total  latitudes  \\\n",
       "2211        1005 CITY AVE NORTH,RIPLEY,TIPPAH,MS    MS    193  34.739039   \n",
       "2213  3531 EAST LAKELAND DRIVE,FLOWOOD,RANKIN,MS    MS   1459  32.357990   \n",
       "\n",
       "      longitudes  \n",
       "2211  -88.950607  \n",
       "2213  -90.011870  "
      ]
     },
     "execution_count": 689,
     "metadata": {},
     "output_type": "execute_result"
    }
   ],
   "source": [
    "# Check rows have been dropped\n",
    "hosp.loc[2211:2213]"
   ]
  },
  {
   "cell_type": "code",
   "execution_count": 690,
   "metadata": {},
   "outputs": [
    {
     "data": {
      "text/html": [
       "<div>\n",
       "<style scoped>\n",
       "    .dataframe tbody tr th:only-of-type {\n",
       "        vertical-align: middle;\n",
       "    }\n",
       "\n",
       "    .dataframe tbody tr th {\n",
       "        vertical-align: top;\n",
       "    }\n",
       "\n",
       "    .dataframe thead th {\n",
       "        text-align: right;\n",
       "    }\n",
       "</style>\n",
       "<table border=\"1\" class=\"dataframe\">\n",
       "  <thead>\n",
       "    <tr style=\"text-align: right;\">\n",
       "      <th></th>\n",
       "      <th>County Name</th>\n",
       "      <th>Facility_Name</th>\n",
       "      <th>Full_Address</th>\n",
       "      <th>State</th>\n",
       "      <th>Total</th>\n",
       "      <th>latitudes</th>\n",
       "      <th>longitudes</th>\n",
       "    </tr>\n",
       "  </thead>\n",
       "  <tbody>\n",
       "    <tr>\n",
       "      <th>3945</th>\n",
       "      <td>HAMILTON</td>\n",
       "      <td>HAMILTON GENERAL HOSPITAL</td>\n",
       "      <td>400 N BROWN, BUILDING 1,HAMILTON,HAMILTON,TX</td>\n",
       "      <td>TX</td>\n",
       "      <td>15125</td>\n",
       "      <td>31.703875</td>\n",
       "      <td>-98.113448</td>\n",
       "    </tr>\n",
       "    <tr>\n",
       "      <th>3946</th>\n",
       "      <td>HOUSTON</td>\n",
       "      <td>CROCKETT MEDICAL CENTER</td>\n",
       "      <td>1100 E LOOP 304,CROCKETT,HOUSTON,TX</td>\n",
       "      <td>TX</td>\n",
       "      <td>2427</td>\n",
       "      <td>31.322152</td>\n",
       "      <td>-95.437114</td>\n",
       "    </tr>\n",
       "    <tr>\n",
       "      <th>3948</th>\n",
       "      <td>TARRANT</td>\n",
       "      <td>COOK CHILDRENS MEDICAL CENTER</td>\n",
       "      <td>801 SEVENTH AVENUE,FORT WORTH,TARRANT,TX</td>\n",
       "      <td>TX</td>\n",
       "      <td>21617</td>\n",
       "      <td>30.851827</td>\n",
       "      <td>-95.187186</td>\n",
       "    </tr>\n",
       "  </tbody>\n",
       "</table>\n",
       "</div>"
      ],
      "text/plain": [
       "     County Name                  Facility_Name  \\\n",
       "3945    HAMILTON      HAMILTON GENERAL HOSPITAL   \n",
       "3946     HOUSTON        CROCKETT MEDICAL CENTER   \n",
       "3948     TARRANT  COOK CHILDRENS MEDICAL CENTER   \n",
       "\n",
       "                                      Full_Address State  Total  latitudes  \\\n",
       "3945  400 N BROWN, BUILDING 1,HAMILTON,HAMILTON,TX    TX  15125  31.703875   \n",
       "3946           1100 E LOOP 304,CROCKETT,HOUSTON,TX    TX   2427  31.322152   \n",
       "3948      801 SEVENTH AVENUE,FORT WORTH,TARRANT,TX    TX  21617  30.851827   \n",
       "\n",
       "      longitudes  \n",
       "3945  -98.113448  \n",
       "3946  -95.437114  \n",
       "3948  -95.187186  "
      ]
     },
     "execution_count": 690,
     "metadata": {},
     "output_type": "execute_result"
    }
   ],
   "source": [
    "hosp.loc[3945:3948]\n",
    "# Notice that the index and iloc do not match anymore so we had to use loc\n",
    "# and now have to reset index"
   ]
  },
  {
   "cell_type": "code",
   "execution_count": 691,
   "metadata": {},
   "outputs": [
    {
     "data": {
      "text/html": [
       "<div>\n",
       "<style scoped>\n",
       "    .dataframe tbody tr th:only-of-type {\n",
       "        vertical-align: middle;\n",
       "    }\n",
       "\n",
       "    .dataframe tbody tr th {\n",
       "        vertical-align: top;\n",
       "    }\n",
       "\n",
       "    .dataframe thead th {\n",
       "        text-align: right;\n",
       "    }\n",
       "</style>\n",
       "<table border=\"1\" class=\"dataframe\">\n",
       "  <thead>\n",
       "    <tr style=\"text-align: right;\">\n",
       "      <th></th>\n",
       "      <th>County Name</th>\n",
       "      <th>Facility_Name</th>\n",
       "      <th>Full_Address</th>\n",
       "      <th>State</th>\n",
       "      <th>Total</th>\n",
       "      <th>latitudes</th>\n",
       "      <th>longitudes</th>\n",
       "    </tr>\n",
       "  </thead>\n",
       "  <tbody>\n",
       "    <tr>\n",
       "      <th>3945</th>\n",
       "      <td>KERR</td>\n",
       "      <td>KERRVILLE STATE HOSP</td>\n",
       "      <td>721 THOMPSON DR,KERRVILLE,KERR,TX</td>\n",
       "      <td>TX</td>\n",
       "      <td>255</td>\n",
       "      <td>30.045887</td>\n",
       "      <td>-99.157744</td>\n",
       "    </tr>\n",
       "    <tr>\n",
       "      <th>3946</th>\n",
       "      <td>WICHITA</td>\n",
       "      <td>RED RIVER HOSPITAL</td>\n",
       "      <td>1505 8TH ST,WICHITA FALLS,WICHITA,TX</td>\n",
       "      <td>TX</td>\n",
       "      <td>709</td>\n",
       "      <td>33.906316</td>\n",
       "      <td>-98.501335</td>\n",
       "    </tr>\n",
       "    <tr>\n",
       "      <th>3947</th>\n",
       "      <td>HARRIS</td>\n",
       "      <td>WEST OAKS HOSPITAL</td>\n",
       "      <td>6500 HORNWOOD,HOUSTON,HARRIS,TX</td>\n",
       "      <td>TX</td>\n",
       "      <td>56280</td>\n",
       "      <td>29.708962</td>\n",
       "      <td>-95.496980</td>\n",
       "    </tr>\n",
       "  </tbody>\n",
       "</table>\n",
       "</div>"
      ],
      "text/plain": [
       "     County Name         Facility_Name                          Full_Address  \\\n",
       "3945        KERR  KERRVILLE STATE HOSP     721 THOMPSON DR,KERRVILLE,KERR,TX   \n",
       "3946     WICHITA    RED RIVER HOSPITAL  1505 8TH ST,WICHITA FALLS,WICHITA,TX   \n",
       "3947      HARRIS    WEST OAKS HOSPITAL       6500 HORNWOOD,HOUSTON,HARRIS,TX   \n",
       "\n",
       "     State  Total  latitudes  longitudes  \n",
       "3945    TX    255  30.045887  -99.157744  \n",
       "3946    TX    709  33.906316  -98.501335  \n",
       "3947    TX  56280  29.708962  -95.496980  "
      ]
     },
     "execution_count": 691,
     "metadata": {},
     "output_type": "execute_result"
    }
   ],
   "source": [
    "# Reset index\n",
    "hosp.reset_index(drop=True, inplace=True)\n",
    "\n",
    "# Check index has been reset\n",
    "hosp.iloc[3945:3948]"
   ]
  },
  {
   "cell_type": "markdown",
   "metadata": {},
   "source": [
    "### 1.1.3 Add County and State FIPS\n",
    "This allows for common identifiers between dataframes and geodataframes, eventually allowing merges when necessary."
   ]
  },
  {
   "cell_type": "code",
   "execution_count": 692,
   "metadata": {},
   "outputs": [
    {
     "name": "stderr",
     "output_type": "stream",
     "text": [
      "<ipython-input-692-38e9f471ea41>:6: SettingWithCopyWarning: \n",
      "A value is trying to be set on a copy of a slice from a DataFrame\n",
      "\n",
      "See the caveats in the documentation: https://pandas.pydata.org/pandas-docs/stable/user_guide/indexing.html#returning-a-view-versus-a-copy\n",
      "  hosp['STATEFP'][i] = af.get_state_fips(hosp['State'][i])\n",
      "<ipython-input-692-38e9f471ea41>:7: SettingWithCopyWarning: \n",
      "A value is trying to be set on a copy of a slice from a DataFrame\n",
      "\n",
      "See the caveats in the documentation: https://pandas.pydata.org/pandas-docs/stable/user_guide/indexing.html#returning-a-view-versus-a-copy\n",
      "  hosp['COUNTYFP'][i] = af.get_county_fips(hosp['County Name'][i], state=hosp['State'][i])\n"
     ]
    }
   ],
   "source": [
    "hosp['STATEFP'] = \"\"\n",
    "hosp['COUNTYFP'] = \"\"\n",
    "\n",
    "af = addfips.AddFIPS()\n",
    "for i in range(len(hosp)):\n",
    "    hosp['STATEFP'][i] = af.get_state_fips(hosp['State'][i])\n",
    "    hosp['COUNTYFP'][i] = af.get_county_fips(hosp['County Name'][i], state=hosp['State'][i])"
   ]
  },
  {
   "cell_type": "code",
   "execution_count": 693,
   "metadata": {},
   "outputs": [
    {
     "data": {
      "text/html": [
       "<div>\n",
       "<style scoped>\n",
       "    .dataframe tbody tr th:only-of-type {\n",
       "        vertical-align: middle;\n",
       "    }\n",
       "\n",
       "    .dataframe tbody tr th {\n",
       "        vertical-align: top;\n",
       "    }\n",
       "\n",
       "    .dataframe thead th {\n",
       "        text-align: right;\n",
       "    }\n",
       "</style>\n",
       "<table border=\"1\" class=\"dataframe\">\n",
       "  <thead>\n",
       "    <tr style=\"text-align: right;\">\n",
       "      <th></th>\n",
       "      <th>County Name</th>\n",
       "      <th>Facility_Name</th>\n",
       "      <th>Full_Address</th>\n",
       "      <th>State</th>\n",
       "      <th>Total</th>\n",
       "      <th>latitudes</th>\n",
       "      <th>longitudes</th>\n",
       "      <th>STATEFP</th>\n",
       "      <th>COUNTYFP</th>\n",
       "    </tr>\n",
       "  </thead>\n",
       "  <tbody>\n",
       "    <tr>\n",
       "      <th>1143</th>\n",
       "      <td>LA SALLE</td>\n",
       "      <td>OTTAWA REGIONAL HOSPITAL DBA OSF SAINT ELIZABE...</td>\n",
       "      <td>1100 EAST NORRIS DRIVE,OTTAWA,LA SALLE,IL</td>\n",
       "      <td>IL</td>\n",
       "      <td>311</td>\n",
       "      <td>41.343242</td>\n",
       "      <td>-88.854734</td>\n",
       "      <td>17</td>\n",
       "      <td>None</td>\n",
       "    </tr>\n",
       "    <tr>\n",
       "      <th>1171</th>\n",
       "      <td>LA SALLE</td>\n",
       "      <td>ILLINOIS VALLEY COMMUNITY HOSPITAL</td>\n",
       "      <td>925 WEST ST,PERU,LA SALLE,IL</td>\n",
       "      <td>IL</td>\n",
       "      <td>311</td>\n",
       "      <td>41.333870</td>\n",
       "      <td>-89.105948</td>\n",
       "      <td>17</td>\n",
       "      <td>None</td>\n",
       "    </tr>\n",
       "    <tr>\n",
       "      <th>1190</th>\n",
       "      <td>LA SALLE</td>\n",
       "      <td>OSF SAINT PAUL MEDICAL CENTER</td>\n",
       "      <td>1401 E 12TH STREET,MENDOTA,LA SALLE,IL</td>\n",
       "      <td>IL</td>\n",
       "      <td>311</td>\n",
       "      <td>41.134772</td>\n",
       "      <td>-88.931537</td>\n",
       "      <td>17</td>\n",
       "      <td>None</td>\n",
       "    </tr>\n",
       "    <tr>\n",
       "      <th>1697</th>\n",
       "      <td>LASALLE</td>\n",
       "      <td>LASALLE GENERAL HOSPITAL</td>\n",
       "      <td>187 NINTH ST/HWY 84 WEST,JENA,LASALLE,LA</td>\n",
       "      <td>LA</td>\n",
       "      <td>343</td>\n",
       "      <td>29.975760</td>\n",
       "      <td>-91.947620</td>\n",
       "      <td>22</td>\n",
       "      <td>None</td>\n",
       "    </tr>\n",
       "    <tr>\n",
       "      <th>1718</th>\n",
       "      <td>LASALLE</td>\n",
       "      <td>HARDTNER MEDICAL CENTER</td>\n",
       "      <td>1102 N PINE ROAD,OLLA,LASALLE,LA</td>\n",
       "      <td>LA</td>\n",
       "      <td>343</td>\n",
       "      <td>29.975760</td>\n",
       "      <td>-91.947620</td>\n",
       "      <td>22</td>\n",
       "      <td>None</td>\n",
       "    </tr>\n",
       "    <tr>\n",
       "      <th>3773</th>\n",
       "      <td>DE WITT</td>\n",
       "      <td>CUERO REGIONAL HOSPITAL</td>\n",
       "      <td>2550 N ESPLANADE,CUERO,DE WITT,TX</td>\n",
       "      <td>TX</td>\n",
       "      <td>21</td>\n",
       "      <td>35.328255</td>\n",
       "      <td>-100.502868</td>\n",
       "      <td>48</td>\n",
       "      <td>None</td>\n",
       "    </tr>\n",
       "  </tbody>\n",
       "</table>\n",
       "</div>"
      ],
      "text/plain": [
       "     County Name                                      Facility_Name  \\\n",
       "1143    LA SALLE  OTTAWA REGIONAL HOSPITAL DBA OSF SAINT ELIZABE...   \n",
       "1171    LA SALLE                 ILLINOIS VALLEY COMMUNITY HOSPITAL   \n",
       "1190    LA SALLE                      OSF SAINT PAUL MEDICAL CENTER   \n",
       "1697     LASALLE                           LASALLE GENERAL HOSPITAL   \n",
       "1718     LASALLE                            HARDTNER MEDICAL CENTER   \n",
       "3773     DE WITT                            CUERO REGIONAL HOSPITAL   \n",
       "\n",
       "                                   Full_Address State  Total  latitudes  \\\n",
       "1143  1100 EAST NORRIS DRIVE,OTTAWA,LA SALLE,IL    IL    311  41.343242   \n",
       "1171               925 WEST ST,PERU,LA SALLE,IL    IL    311  41.333870   \n",
       "1190     1401 E 12TH STREET,MENDOTA,LA SALLE,IL    IL    311  41.134772   \n",
       "1697   187 NINTH ST/HWY 84 WEST,JENA,LASALLE,LA    LA    343  29.975760   \n",
       "1718           1102 N PINE ROAD,OLLA,LASALLE,LA    LA    343  29.975760   \n",
       "3773          2550 N ESPLANADE,CUERO,DE WITT,TX    TX     21  35.328255   \n",
       "\n",
       "      longitudes STATEFP COUNTYFP  \n",
       "1143  -88.854734      17     None  \n",
       "1171  -89.105948      17     None  \n",
       "1190  -88.931537      17     None  \n",
       "1697  -91.947620      22     None  \n",
       "1718  -91.947620      22     None  \n",
       "3773 -100.502868      48     None  "
      ]
     },
     "execution_count": 693,
     "metadata": {},
     "output_type": "execute_result"
    }
   ],
   "source": [
    "hosp[hosp.COUNTYFP.isnull()]"
   ]
  },
  {
   "cell_type": "code",
   "execution_count": 694,
   "metadata": {},
   "outputs": [
    {
     "name": "stderr",
     "output_type": "stream",
     "text": [
      "<ipython-input-694-dacfb161cdac>:3: SettingWithCopyWarning: \n",
      "A value is trying to be set on a copy of a slice from a DataFrame\n",
      "\n",
      "See the caveats in the documentation: https://pandas.pydata.org/pandas-docs/stable/user_guide/indexing.html#returning-a-view-versus-a-copy\n",
      "  hosp['COUNTYFP'][i] = 17099\n",
      "<ipython-input-694-dacfb161cdac>:7: SettingWithCopyWarning: \n",
      "A value is trying to be set on a copy of a slice from a DataFrame\n",
      "\n",
      "See the caveats in the documentation: https://pandas.pydata.org/pandas-docs/stable/user_guide/indexing.html#returning-a-view-versus-a-copy\n",
      "  hosp['COUNTYFP'][l] = 22059\n",
      "<ipython-input-694-dacfb161cdac>:9: SettingWithCopyWarning: \n",
      "A value is trying to be set on a copy of a slice from a DataFrame\n",
      "\n",
      "See the caveats in the documentation: https://pandas.pydata.org/pandas-docs/stable/user_guide/indexing.html#returning-a-view-versus-a-copy\n",
      "  hosp['COUNTYFP'][3773] = 48123\n"
     ]
    }
   ],
   "source": [
    "illinois = [1143, 1171, 1190]\n",
    "for i in illinois:\n",
    "    hosp['COUNTYFP'][i] = 17099\n",
    "\n",
    "louisiana = [1697, 1718]\n",
    "for l in louisiana:\n",
    "    hosp['COUNTYFP'][l] = 22059\n",
    "    \n",
    "hosp['COUNTYFP'][3773] = 48123\n"
   ]
  },
  {
   "cell_type": "code",
   "execution_count": 695,
   "metadata": {},
   "outputs": [
    {
     "data": {
      "text/plain": [
       "County Name      0\n",
       "Facility_Name    0\n",
       "Full_Address     0\n",
       "State            0\n",
       "Total            0\n",
       "latitudes        0\n",
       "longitudes       0\n",
       "STATEFP          0\n",
       "COUNTYFP         0\n",
       "dtype: int64"
      ]
     },
     "execution_count": 695,
     "metadata": {},
     "output_type": "execute_result"
    }
   ],
   "source": [
    "hosp.isnull().sum()"
   ]
  },
  {
   "cell_type": "markdown",
   "metadata": {},
   "source": [
    "### 1.1.3 Reduce Memory Usage of Hospital Data\n",
    "Change data types of columns"
   ]
  },
  {
   "cell_type": "code",
   "execution_count": 696,
   "metadata": {},
   "outputs": [
    {
     "data": {
      "text/plain": [
       "County Name       object\n",
       "Facility_Name     object\n",
       "Full_Address      object\n",
       "State             object\n",
       "Total              int64\n",
       "latitudes        float64\n",
       "longitudes       float64\n",
       "STATEFP           object\n",
       "COUNTYFP          object\n",
       "dtype: object"
      ]
     },
     "execution_count": 696,
     "metadata": {},
     "output_type": "execute_result"
    }
   ],
   "source": [
    "# Inspect the data types of each column\n",
    "hosp.dtypes"
   ]
  },
  {
   "cell_type": "code",
   "execution_count": 697,
   "metadata": {},
   "outputs": [
    {
     "data": {
      "text/plain": [
       "Index               128\n",
       "County Name      286237\n",
       "Facility_Name    381694\n",
       "Full_Address     432295\n",
       "State            263022\n",
       "Total             35664\n",
       "latitudes         35664\n",
       "longitudes        35664\n",
       "STATEFP          263022\n",
       "COUNTYFP         276240\n",
       "dtype: int64"
      ]
     },
     "execution_count": 697,
     "metadata": {},
     "output_type": "execute_result"
    }
   ],
   "source": [
    "# Find memory usage of each column\n",
    "original_mem = hosp.memory_usage(deep=True)\n",
    "original_mem"
   ]
  },
  {
   "cell_type": "code",
   "execution_count": 698,
   "metadata": {},
   "outputs": [
    {
     "data": {
      "text/plain": [
       "County Name      0.285554\n",
       "Facility_Name    0.969717\n",
       "Full_Address     1.000000\n",
       "State            0.011216\n",
       "STATEFP          0.011216\n",
       "COUNTYFP         0.465455\n",
       "dtype: float64"
      ]
     },
     "execution_count": 698,
     "metadata": {},
     "output_type": "execute_result"
    }
   ],
   "source": [
    "# We know from our examination above that State only has 50 unique values\n",
    "# It can be changed to a categorical variable\n",
    "# Can anything else? Find the percentage of unique values in each category\n",
    "hosp.select_dtypes(include=['object']).nunique()/hosp.select_dtypes(include=['object']).count()"
   ]
  },
  {
   "cell_type": "code",
   "execution_count": 699,
   "metadata": {},
   "outputs": [],
   "source": [
    "# We see that County Name has about 29% unique values,\n",
    "# Facility has 97%, Full_Address has 100%, and State has 1%\n",
    "# The best candidates for categorical are the State and STATEFP columns\n",
    "hosp['State'] = hosp['State'].astype('category')\n",
    "hosp['STATEFP'] = hosp['STATEFP'].astype('category')"
   ]
  },
  {
   "cell_type": "code",
   "execution_count": 700,
   "metadata": {},
   "outputs": [
    {
     "data": {
      "text/plain": [
       "County Name        object\n",
       "Facility_Name      object\n",
       "Full_Address       object\n",
       "State            category\n",
       "Total               int64\n",
       "latitudes         float64\n",
       "longitudes        float64\n",
       "STATEFP          category\n",
       "COUNTYFP            int64\n",
       "dtype: object"
      ]
     },
     "execution_count": 700,
     "metadata": {},
     "output_type": "execute_result"
    }
   ],
   "source": [
    "hosp['COUNTYFP'] = pd.to_numeric(hosp['COUNTYFP'])\n",
    "hosp.dtypes"
   ]
  },
  {
   "cell_type": "code",
   "execution_count": 701,
   "metadata": {},
   "outputs": [
    {
     "data": {
      "text/plain": [
       "Index               128\n",
       "County Name      286237\n",
       "Facility_Name    381694\n",
       "Full_Address     432295\n",
       "State              9968\n",
       "Total             35664\n",
       "latitudes         35664\n",
       "longitudes        35664\n",
       "STATEFP            9968\n",
       "COUNTYFP          35664\n",
       "dtype: int64"
      ]
     },
     "execution_count": 701,
     "metadata": {},
     "output_type": "execute_result"
    }
   ],
   "source": [
    "# compute new memory usage\n",
    "new_mem = hosp.memory_usage(deep=True)\n",
    "new_mem"
   ]
  },
  {
   "cell_type": "code",
   "execution_count": 702,
   "metadata": {},
   "outputs": [
    {
     "data": {
      "text/plain": [
       "Index            1.000000\n",
       "County Name      1.000000\n",
       "Facility_Name    1.000000\n",
       "Full_Address     1.000000\n",
       "State            0.037898\n",
       "Total            1.000000\n",
       "latitudes        1.000000\n",
       "longitudes       1.000000\n",
       "STATEFP          0.037898\n",
       "COUNTYFP         0.129105\n",
       "dtype: float64"
      ]
     },
     "execution_count": 702,
     "metadata": {},
     "output_type": "execute_result"
    }
   ],
   "source": [
    "# Compare original with updated memory usage\n",
    "new_mem/original_mem"
   ]
  },
  {
   "cell_type": "markdown",
   "metadata": {},
   "source": [
    "State has shrunk to 3.8% of its original size.<br>\n",
    "STATEFP has shrunk to 4% of its original size.<br>\n",
    "COUNTYFP has shrunk to 13% of its original size."
   ]
  },
  {
   "cell_type": "markdown",
   "metadata": {},
   "source": [
    "### 1.1.4 Visualize Hospital Data Statistics"
   ]
  },
  {
   "cell_type": "code",
   "execution_count": 703,
   "metadata": {},
   "outputs": [
    {
     "data": {
      "image/png": "[encoded data removed]",
      "text/plain": [
       "<Figure size 1008x576 with 1 Axes>"
      ]
     },
     "metadata": {
      "needs_background": "light"
     },
     "output_type": "display_data"
    }
   ],
   "source": [
    "# Now that the dataframe is clean, let's vizualize the statistics to see if anything else needs to be done\n",
    "# Histogram of Hospital Frequency\n",
    "_ = plt.figure(figsize=(14,8))\n",
    "_ = plt.hist(hosp['State'], bins=hosp['State'].nunique(), align='left')\n",
    "_ = plt.xlabel('States')\n",
    "_ = plt.ylabel('Counts of Hospitals')\n",
    "_ = plt.title('Hospital Counts by State with Covid Cases')\n",
    "plt.show()"
   ]
  },
  {
   "cell_type": "code",
   "execution_count": 704,
   "metadata": {},
   "outputs": [
    {
     "data": {
      "image/png": "[encoded data removed]",
      "text/plain": [
       "<Figure size 1008x576 with 1 Axes>"
      ]
     },
     "metadata": {
      "needs_background": "light"
     },
     "output_type": "display_data"
    }
   ],
   "source": [
    "# Boxplot of hospital total cases\n",
    "plt.figure(figsize=(14,8))\n",
    "sns.boxplot(x=hosp['State'], y= hosp['Total'], data=hosp)\n",
    "plt.show()"
   ]
  },
  {
   "cell_type": "code",
   "execution_count": 705,
   "metadata": {},
   "outputs": [
    {
     "data": {
      "image/png": "[encoded data removed]",
      "text/plain": [
       "<Figure size 1440x576 with 1 Axes>"
      ]
     },
     "metadata": {
      "needs_background": "light"
     },
     "output_type": "display_data"
    }
   ],
   "source": [
    "# Swarmplot to see how often values occur\n",
    "plt.figure(figsize=(20,8))\n",
    "sns.swarmplot(x=hosp['State'], y= hosp['Total'], data=hosp)\n",
    "plt.show()"
   ]
  },
  {
   "cell_type": "markdown",
   "metadata": {},
   "source": [
    "### 1.1.5 Convert Hospital DataFrame to GeoDataFrame for Plotting"
   ]
  },
  {
   "cell_type": "code",
   "execution_count": 706,
   "metadata": {},
   "outputs": [
    {
     "data": {
      "text/html": [
       "<div>\n",
       "<style scoped>\n",
       "    .dataframe tbody tr th:only-of-type {\n",
       "        vertical-align: middle;\n",
       "    }\n",
       "\n",
       "    .dataframe tbody tr th {\n",
       "        vertical-align: top;\n",
       "    }\n",
       "\n",
       "    .dataframe thead th {\n",
       "        text-align: right;\n",
       "    }\n",
       "</style>\n",
       "<table border=\"1\" class=\"dataframe\">\n",
       "  <thead>\n",
       "    <tr style=\"text-align: right;\">\n",
       "      <th></th>\n",
       "      <th>County Name</th>\n",
       "      <th>Facility_Name</th>\n",
       "      <th>Full_Address</th>\n",
       "      <th>State</th>\n",
       "      <th>Total</th>\n",
       "      <th>latitudes</th>\n",
       "      <th>longitudes</th>\n",
       "      <th>STATEFP</th>\n",
       "      <th>COUNTYFP</th>\n",
       "      <th>geometry</th>\n",
       "    </tr>\n",
       "  </thead>\n",
       "  <tbody>\n",
       "    <tr>\n",
       "      <th>0</th>\n",
       "      <td>HOUSTON</td>\n",
       "      <td>SOUTHEAST ALABAMA MEDICAL CENTER</td>\n",
       "      <td>1108 ROSS CLARK CIRCLE,DOTHAN,HOUSTON,AL</td>\n",
       "      <td>AL</td>\n",
       "      <td>2427</td>\n",
       "      <td>31.215827</td>\n",
       "      <td>-85.363433</td>\n",
       "      <td>01</td>\n",
       "      <td>1069</td>\n",
       "      <td>POINT (-85.36343 31.21583)</td>\n",
       "    </tr>\n",
       "    <tr>\n",
       "      <th>1</th>\n",
       "      <td>MARSHALL</td>\n",
       "      <td>MARSHALL MEDICAL CENTERS</td>\n",
       "      <td>2505 U S HIGHWAY 431 NORTH,BOAZ,MARSHALL,AL</td>\n",
       "      <td>AL</td>\n",
       "      <td>5104</td>\n",
       "      <td>34.601233</td>\n",
       "      <td>-87.123343</td>\n",
       "      <td>01</td>\n",
       "      <td>1095</td>\n",
       "      <td>POINT (-87.12334 34.60123)</td>\n",
       "    </tr>\n",
       "    <tr>\n",
       "      <th>2</th>\n",
       "      <td>LAUDERDALE</td>\n",
       "      <td>NORTH ALABAMA MEDICAL CENTER</td>\n",
       "      <td>1701 VETERANS DRIVE,FLORENCE,LAUDERDALE,AL</td>\n",
       "      <td>AL</td>\n",
       "      <td>2120</td>\n",
       "      <td>34.805043</td>\n",
       "      <td>-87.650814</td>\n",
       "      <td>01</td>\n",
       "      <td>1077</td>\n",
       "      <td>POINT (-87.65081 34.80504)</td>\n",
       "    </tr>\n",
       "    <tr>\n",
       "      <th>3</th>\n",
       "      <td>JEFFERSON</td>\n",
       "      <td>ST. VINCENT'S EAST</td>\n",
       "      <td>50 MEDICAL PARK EAST DRIVE,BIRMINGHAM,JEFFERSO...</td>\n",
       "      <td>AL</td>\n",
       "      <td>26142</td>\n",
       "      <td>33.564772</td>\n",
       "      <td>-86.760155</td>\n",
       "      <td>01</td>\n",
       "      <td>1073</td>\n",
       "      <td>POINT (-86.76016 33.56477)</td>\n",
       "    </tr>\n",
       "    <tr>\n",
       "      <th>4</th>\n",
       "      <td>SHELBY</td>\n",
       "      <td>SHELBY BAPTIST MEDICAL CENTER</td>\n",
       "      <td>1000 FIRST STREET NORTH,ALABASTER,SHELBY,AL</td>\n",
       "      <td>AL</td>\n",
       "      <td>20720</td>\n",
       "      <td>33.075378</td>\n",
       "      <td>-86.519100</td>\n",
       "      <td>01</td>\n",
       "      <td>1117</td>\n",
       "      <td>POINT (-86.51910 33.07538)</td>\n",
       "    </tr>\n",
       "  </tbody>\n",
       "</table>\n",
       "</div>"
      ],
      "text/plain": [
       "  County Name                     Facility_Name  \\\n",
       "0     HOUSTON  SOUTHEAST ALABAMA MEDICAL CENTER   \n",
       "1    MARSHALL          MARSHALL MEDICAL CENTERS   \n",
       "2  LAUDERDALE      NORTH ALABAMA MEDICAL CENTER   \n",
       "3   JEFFERSON                ST. VINCENT'S EAST   \n",
       "4      SHELBY     SHELBY BAPTIST MEDICAL CENTER   \n",
       "\n",
       "                                        Full_Address State  Total  latitudes  \\\n",
       "0           1108 ROSS CLARK CIRCLE,DOTHAN,HOUSTON,AL    AL   2427  31.215827   \n",
       "1        2505 U S HIGHWAY 431 NORTH,BOAZ,MARSHALL,AL    AL   5104  34.601233   \n",
       "2         1701 VETERANS DRIVE,FLORENCE,LAUDERDALE,AL    AL   2120  34.805043   \n",
       "3  50 MEDICAL PARK EAST DRIVE,BIRMINGHAM,JEFFERSO...    AL  26142  33.564772   \n",
       "4        1000 FIRST STREET NORTH,ALABASTER,SHELBY,AL    AL  20720  33.075378   \n",
       "\n",
       "   longitudes STATEFP  COUNTYFP                    geometry  \n",
       "0  -85.363433      01      1069  POINT (-85.36343 31.21583)  \n",
       "1  -87.123343      01      1095  POINT (-87.12334 34.60123)  \n",
       "2  -87.650814      01      1077  POINT (-87.65081 34.80504)  \n",
       "3  -86.760155      01      1073  POINT (-86.76016 33.56477)  \n",
       "4  -86.519100      01      1117  POINT (-86.51910 33.07538)  "
      ]
     },
     "execution_count": 706,
     "metadata": {},
     "output_type": "execute_result"
    }
   ],
   "source": [
    "# convert hosp dataframe into geodataframe to allow for plotting of hospitals in a later step\n",
    "geometry = [Point(xy) for xy in zip(hosp.longitudes, hosp.latitudes)]\n",
    "gdf_hosp = gpd.GeoDataFrame(hosp, crs='EPSG:4326', geometry=geometry)\n",
    "gdf_hosp.head()"
   ]
  },
  {
   "cell_type": "markdown",
   "metadata": {},
   "source": [
    "### 1.2.1 Import and Examine USA County Population Data\n",
    "Import dataset as a pandas DataFrame. Examine metadata and univariate descriptive statistics.<br>\n",
    "Data obtained from Census.gov<br>\n",
    "https://www2.census.gov/programs-surveys/popest/datasets/2010-2019/counties/totals/"
   ]
  },
  {
   "cell_type": "code",
   "execution_count": 707,
   "metadata": {},
   "outputs": [],
   "source": [
    "# co-est2019-alldata.csv --> contains US population estimates by county\n",
    "# Put into dataframe\n",
    "pop = pd.read_csv('../data/raw/co-est2019-alldata.csv', sep=',', encoding='latin-1')"
   ]
  },
  {
   "cell_type": "code",
   "execution_count": 708,
   "metadata": {},
   "outputs": [
    {
     "data": {
      "text/html": [
       "<div>\n",
       "<style scoped>\n",
       "    .dataframe tbody tr th:only-of-type {\n",
       "        vertical-align: middle;\n",
       "    }\n",
       "\n",
       "    .dataframe tbody tr th {\n",
       "        vertical-align: top;\n",
       "    }\n",
       "\n",
       "    .dataframe thead th {\n",
       "        text-align: right;\n",
       "    }\n",
       "</style>\n",
       "<table border=\"1\" class=\"dataframe\">\n",
       "  <thead>\n",
       "    <tr style=\"text-align: right;\">\n",
       "      <th></th>\n",
       "      <th>SUMLEV</th>\n",
       "      <th>REGION</th>\n",
       "      <th>DIVISION</th>\n",
       "      <th>STATE</th>\n",
       "      <th>COUNTY</th>\n",
       "      <th>STNAME</th>\n",
       "      <th>CTYNAME</th>\n",
       "      <th>CENSUS2010POP</th>\n",
       "      <th>ESTIMATESBASE2010</th>\n",
       "      <th>POPESTIMATE2010</th>\n",
       "      <th>...</th>\n",
       "      <th>RDOMESTICMIG2019</th>\n",
       "      <th>RNETMIG2011</th>\n",
       "      <th>RNETMIG2012</th>\n",
       "      <th>RNETMIG2013</th>\n",
       "      <th>RNETMIG2014</th>\n",
       "      <th>RNETMIG2015</th>\n",
       "      <th>RNETMIG2016</th>\n",
       "      <th>RNETMIG2017</th>\n",
       "      <th>RNETMIG2018</th>\n",
       "      <th>RNETMIG2019</th>\n",
       "    </tr>\n",
       "  </thead>\n",
       "  <tbody>\n",
       "    <tr>\n",
       "      <th>0</th>\n",
       "      <td>40</td>\n",
       "      <td>3</td>\n",
       "      <td>6</td>\n",
       "      <td>1</td>\n",
       "      <td>0</td>\n",
       "      <td>Alabama</td>\n",
       "      <td>Alabama</td>\n",
       "      <td>4779736</td>\n",
       "      <td>4780125</td>\n",
       "      <td>4785437</td>\n",
       "      <td>...</td>\n",
       "      <td>1.917501</td>\n",
       "      <td>0.578434</td>\n",
       "      <td>1.186314</td>\n",
       "      <td>1.522549</td>\n",
       "      <td>0.563489</td>\n",
       "      <td>0.626357</td>\n",
       "      <td>0.745172</td>\n",
       "      <td>1.090366</td>\n",
       "      <td>1.773786</td>\n",
       "      <td>2.483744</td>\n",
       "    </tr>\n",
       "    <tr>\n",
       "      <th>1</th>\n",
       "      <td>50</td>\n",
       "      <td>3</td>\n",
       "      <td>6</td>\n",
       "      <td>1</td>\n",
       "      <td>1</td>\n",
       "      <td>Alabama</td>\n",
       "      <td>Autauga County</td>\n",
       "      <td>54571</td>\n",
       "      <td>54597</td>\n",
       "      <td>54773</td>\n",
       "      <td>...</td>\n",
       "      <td>4.847310</td>\n",
       "      <td>6.018182</td>\n",
       "      <td>-6.226119</td>\n",
       "      <td>-3.902226</td>\n",
       "      <td>1.970443</td>\n",
       "      <td>-1.712875</td>\n",
       "      <td>4.777171</td>\n",
       "      <td>0.849656</td>\n",
       "      <td>0.540916</td>\n",
       "      <td>4.560062</td>\n",
       "    </tr>\n",
       "    <tr>\n",
       "      <th>2</th>\n",
       "      <td>50</td>\n",
       "      <td>3</td>\n",
       "      <td>6</td>\n",
       "      <td>1</td>\n",
       "      <td>3</td>\n",
       "      <td>Alabama</td>\n",
       "      <td>Baldwin County</td>\n",
       "      <td>182265</td>\n",
       "      <td>182265</td>\n",
       "      <td>183112</td>\n",
       "      <td>...</td>\n",
       "      <td>24.017829</td>\n",
       "      <td>16.641870</td>\n",
       "      <td>17.488579</td>\n",
       "      <td>22.751474</td>\n",
       "      <td>20.184334</td>\n",
       "      <td>17.725964</td>\n",
       "      <td>21.279291</td>\n",
       "      <td>22.398256</td>\n",
       "      <td>24.727215</td>\n",
       "      <td>24.380567</td>\n",
       "    </tr>\n",
       "    <tr>\n",
       "      <th>3</th>\n",
       "      <td>50</td>\n",
       "      <td>3</td>\n",
       "      <td>6</td>\n",
       "      <td>1</td>\n",
       "      <td>5</td>\n",
       "      <td>Alabama</td>\n",
       "      <td>Barbour County</td>\n",
       "      <td>27457</td>\n",
       "      <td>27455</td>\n",
       "      <td>27327</td>\n",
       "      <td>...</td>\n",
       "      <td>-5.690302</td>\n",
       "      <td>0.292676</td>\n",
       "      <td>-6.897817</td>\n",
       "      <td>-8.132185</td>\n",
       "      <td>-5.140431</td>\n",
       "      <td>-15.724575</td>\n",
       "      <td>-18.238016</td>\n",
       "      <td>-24.998528</td>\n",
       "      <td>-8.754922</td>\n",
       "      <td>-5.165664</td>\n",
       "    </tr>\n",
       "    <tr>\n",
       "      <th>4</th>\n",
       "      <td>50</td>\n",
       "      <td>3</td>\n",
       "      <td>6</td>\n",
       "      <td>1</td>\n",
       "      <td>7</td>\n",
       "      <td>Alabama</td>\n",
       "      <td>Bibb County</td>\n",
       "      <td>22915</td>\n",
       "      <td>22915</td>\n",
       "      <td>22870</td>\n",
       "      <td>...</td>\n",
       "      <td>1.385134</td>\n",
       "      <td>-4.998356</td>\n",
       "      <td>-3.787545</td>\n",
       "      <td>-5.797999</td>\n",
       "      <td>1.331144</td>\n",
       "      <td>1.329817</td>\n",
       "      <td>-0.708717</td>\n",
       "      <td>-3.234669</td>\n",
       "      <td>-6.857092</td>\n",
       "      <td>1.831952</td>\n",
       "    </tr>\n",
       "  </tbody>\n",
       "</table>\n",
       "<p>5 rows × 164 columns</p>\n",
       "</div>"
      ],
      "text/plain": [
       "   SUMLEV  REGION  DIVISION  STATE  COUNTY   STNAME         CTYNAME  \\\n",
       "0      40       3         6      1       0  Alabama         Alabama   \n",
       "1      50       3         6      1       1  Alabama  Autauga County   \n",
       "2      50       3         6      1       3  Alabama  Baldwin County   \n",
       "3      50       3         6      1       5  Alabama  Barbour County   \n",
       "4      50       3         6      1       7  Alabama     Bibb County   \n",
       "\n",
       "   CENSUS2010POP  ESTIMATESBASE2010  POPESTIMATE2010  ...  RDOMESTICMIG2019  \\\n",
       "0        4779736            4780125          4785437  ...          1.917501   \n",
       "1          54571              54597            54773  ...          4.847310   \n",
       "2         182265             182265           183112  ...         24.017829   \n",
       "3          27457              27455            27327  ...         -5.690302   \n",
       "4          22915              22915            22870  ...          1.385134   \n",
       "\n",
       "   RNETMIG2011  RNETMIG2012  RNETMIG2013  RNETMIG2014  RNETMIG2015  \\\n",
       "0     0.578434     1.186314     1.522549     0.563489     0.626357   \n",
       "1     6.018182    -6.226119    -3.902226     1.970443    -1.712875   \n",
       "2    16.641870    17.488579    22.751474    20.184334    17.725964   \n",
       "3     0.292676    -6.897817    -8.132185    -5.140431   -15.724575   \n",
       "4    -4.998356    -3.787545    -5.797999     1.331144     1.329817   \n",
       "\n",
       "   RNETMIG2016  RNETMIG2017  RNETMIG2018  RNETMIG2019  \n",
       "0     0.745172     1.090366     1.773786     2.483744  \n",
       "1     4.777171     0.849656     0.540916     4.560062  \n",
       "2    21.279291    22.398256    24.727215    24.380567  \n",
       "3   -18.238016   -24.998528    -8.754922    -5.165664  \n",
       "4    -0.708717    -3.234669    -6.857092     1.831952  \n",
       "\n",
       "[5 rows x 164 columns]"
      ]
     },
     "execution_count": 708,
     "metadata": {},
     "output_type": "execute_result"
    }
   ],
   "source": [
    "pop.head()"
   ]
  },
  {
   "cell_type": "markdown",
   "metadata": {},
   "source": [
    "### 1.2.2 Simplify Population Data & Reduce Memory"
   ]
  },
  {
   "cell_type": "code",
   "execution_count": 709,
   "metadata": {},
   "outputs": [
    {
     "data": {
      "text/html": [
       "<div>\n",
       "<style scoped>\n",
       "    .dataframe tbody tr th:only-of-type {\n",
       "        vertical-align: middle;\n",
       "    }\n",
       "\n",
       "    .dataframe tbody tr th {\n",
       "        vertical-align: top;\n",
       "    }\n",
       "\n",
       "    .dataframe thead th {\n",
       "        text-align: right;\n",
       "    }\n",
       "</style>\n",
       "<table border=\"1\" class=\"dataframe\">\n",
       "  <thead>\n",
       "    <tr style=\"text-align: right;\">\n",
       "      <th></th>\n",
       "      <th>SUMLEV</th>\n",
       "      <th>REGION</th>\n",
       "      <th>DIVISION</th>\n",
       "      <th>STATE</th>\n",
       "      <th>COUNTY</th>\n",
       "      <th>STNAME</th>\n",
       "      <th>CTYNAME</th>\n",
       "      <th>POPESTIMATE2019</th>\n",
       "    </tr>\n",
       "  </thead>\n",
       "  <tbody>\n",
       "    <tr>\n",
       "      <th>3188</th>\n",
       "      <td>50</td>\n",
       "      <td>4</td>\n",
       "      <td>8</td>\n",
       "      <td>56</td>\n",
       "      <td>37</td>\n",
       "      <td>Wyoming</td>\n",
       "      <td>Sweetwater County</td>\n",
       "      <td>42343</td>\n",
       "    </tr>\n",
       "    <tr>\n",
       "      <th>3189</th>\n",
       "      <td>50</td>\n",
       "      <td>4</td>\n",
       "      <td>8</td>\n",
       "      <td>56</td>\n",
       "      <td>39</td>\n",
       "      <td>Wyoming</td>\n",
       "      <td>Teton County</td>\n",
       "      <td>23464</td>\n",
       "    </tr>\n",
       "    <tr>\n",
       "      <th>3190</th>\n",
       "      <td>50</td>\n",
       "      <td>4</td>\n",
       "      <td>8</td>\n",
       "      <td>56</td>\n",
       "      <td>41</td>\n",
       "      <td>Wyoming</td>\n",
       "      <td>Uinta County</td>\n",
       "      <td>20226</td>\n",
       "    </tr>\n",
       "    <tr>\n",
       "      <th>3191</th>\n",
       "      <td>50</td>\n",
       "      <td>4</td>\n",
       "      <td>8</td>\n",
       "      <td>56</td>\n",
       "      <td>43</td>\n",
       "      <td>Wyoming</td>\n",
       "      <td>Washakie County</td>\n",
       "      <td>7805</td>\n",
       "    </tr>\n",
       "    <tr>\n",
       "      <th>3192</th>\n",
       "      <td>50</td>\n",
       "      <td>4</td>\n",
       "      <td>8</td>\n",
       "      <td>56</td>\n",
       "      <td>45</td>\n",
       "      <td>Wyoming</td>\n",
       "      <td>Weston County</td>\n",
       "      <td>6927</td>\n",
       "    </tr>\n",
       "  </tbody>\n",
       "</table>\n",
       "</div>"
      ],
      "text/plain": [
       "      SUMLEV  REGION  DIVISION  STATE  COUNTY   STNAME            CTYNAME  \\\n",
       "3188      50       4         8     56      37  Wyoming  Sweetwater County   \n",
       "3189      50       4         8     56      39  Wyoming       Teton County   \n",
       "3190      50       4         8     56      41  Wyoming       Uinta County   \n",
       "3191      50       4         8     56      43  Wyoming    Washakie County   \n",
       "3192      50       4         8     56      45  Wyoming      Weston County   \n",
       "\n",
       "      POPESTIMATE2019  \n",
       "3188            42343  \n",
       "3189            23464  \n",
       "3190            20226  \n",
       "3191             7805  \n",
       "3192             6927  "
      ]
     },
     "execution_count": 709,
     "metadata": {},
     "output_type": "execute_result"
    }
   ],
   "source": [
    "# Only Region, Division, State, County, State Name, CIty Name, and 2019 Census are needed\n",
    "pop = pop[['SUMLEV','REGION','DIVISION','STATE','COUNTY','STNAME','CTYNAME','POPESTIMATE2019']]\n",
    "pop.tail()"
   ]
  },
  {
   "cell_type": "code",
   "execution_count": 710,
   "metadata": {},
   "outputs": [
    {
     "data": {
      "text/plain": [
       "(3193, 8)"
      ]
     },
     "execution_count": 710,
     "metadata": {},
     "output_type": "execute_result"
    }
   ],
   "source": [
    "pop.shape"
   ]
  },
  {
   "cell_type": "code",
   "execution_count": 711,
   "metadata": {},
   "outputs": [
    {
     "name": "stdout",
     "output_type": "stream",
     "text": [
      "<class 'pandas.core.frame.DataFrame'>\n",
      "RangeIndex: 3193 entries, 0 to 3192\n",
      "Data columns (total 8 columns):\n",
      " #   Column           Non-Null Count  Dtype \n",
      "---  ------           --------------  ----- \n",
      " 0   SUMLEV           3193 non-null   int64 \n",
      " 1   REGION           3193 non-null   int64 \n",
      " 2   DIVISION         3193 non-null   int64 \n",
      " 3   STATE            3193 non-null   int64 \n",
      " 4   COUNTY           3193 non-null   int64 \n",
      " 5   STNAME           3193 non-null   object\n",
      " 6   CTYNAME          3193 non-null   object\n",
      " 7   POPESTIMATE2019  3193 non-null   int64 \n",
      "dtypes: int64(6), object(2)\n",
      "memory usage: 199.7+ KB\n"
     ]
    }
   ],
   "source": [
    "pop.info()"
   ]
  },
  {
   "cell_type": "code",
   "execution_count": 712,
   "metadata": {},
   "outputs": [
    {
     "data": {
      "text/plain": [
       "0"
      ]
     },
     "execution_count": 712,
     "metadata": {},
     "output_type": "execute_result"
    }
   ],
   "source": [
    "# Appears to be no null values, double check by counting\n",
    "pop.isnull().sum().sum()"
   ]
  },
  {
   "cell_type": "code",
   "execution_count": 713,
   "metadata": {},
   "outputs": [
    {
     "data": {
      "text/html": [
       "<div>\n",
       "<style scoped>\n",
       "    .dataframe tbody tr th:only-of-type {\n",
       "        vertical-align: middle;\n",
       "    }\n",
       "\n",
       "    .dataframe tbody tr th {\n",
       "        vertical-align: top;\n",
       "    }\n",
       "\n",
       "    .dataframe thead th {\n",
       "        text-align: right;\n",
       "    }\n",
       "</style>\n",
       "<table border=\"1\" class=\"dataframe\">\n",
       "  <thead>\n",
       "    <tr style=\"text-align: right;\">\n",
       "      <th></th>\n",
       "      <th>count</th>\n",
       "      <th>mean</th>\n",
       "      <th>std</th>\n",
       "      <th>min</th>\n",
       "      <th>25%</th>\n",
       "      <th>50%</th>\n",
       "      <th>75%</th>\n",
       "      <th>max</th>\n",
       "    </tr>\n",
       "  </thead>\n",
       "  <tbody>\n",
       "    <tr>\n",
       "      <th>SUMLEV</th>\n",
       "      <td>3193.0</td>\n",
       "      <td>49.840276</td>\n",
       "      <td>1.253884e+00</td>\n",
       "      <td>40.0</td>\n",
       "      <td>50.0</td>\n",
       "      <td>50.0</td>\n",
       "      <td>50.0</td>\n",
       "      <td>50.0</td>\n",
       "    </tr>\n",
       "    <tr>\n",
       "      <th>REGION</th>\n",
       "      <td>3193.0</td>\n",
       "      <td>2.668650</td>\n",
       "      <td>8.075133e-01</td>\n",
       "      <td>1.0</td>\n",
       "      <td>2.0</td>\n",
       "      <td>3.0</td>\n",
       "      <td>3.0</td>\n",
       "      <td>4.0</td>\n",
       "    </tr>\n",
       "    <tr>\n",
       "      <th>DIVISION</th>\n",
       "      <td>3193.0</td>\n",
       "      <td>5.191356</td>\n",
       "      <td>1.973991e+00</td>\n",
       "      <td>1.0</td>\n",
       "      <td>4.0</td>\n",
       "      <td>5.0</td>\n",
       "      <td>7.0</td>\n",
       "      <td>9.0</td>\n",
       "    </tr>\n",
       "    <tr>\n",
       "      <th>STATE</th>\n",
       "      <td>3193.0</td>\n",
       "      <td>30.259004</td>\n",
       "      <td>1.515390e+01</td>\n",
       "      <td>1.0</td>\n",
       "      <td>18.0</td>\n",
       "      <td>29.0</td>\n",
       "      <td>45.0</td>\n",
       "      <td>56.0</td>\n",
       "    </tr>\n",
       "    <tr>\n",
       "      <th>COUNTY</th>\n",
       "      <td>3193.0</td>\n",
       "      <td>101.918572</td>\n",
       "      <td>1.076266e+02</td>\n",
       "      <td>0.0</td>\n",
       "      <td>33.0</td>\n",
       "      <td>77.0</td>\n",
       "      <td>133.0</td>\n",
       "      <td>840.0</td>\n",
       "    </tr>\n",
       "    <tr>\n",
       "      <th>POPESTIMATE2019</th>\n",
       "      <td>3193.0</td>\n",
       "      <td>205599.450673</td>\n",
       "      <td>1.260310e+06</td>\n",
       "      <td>86.0</td>\n",
       "      <td>11128.0</td>\n",
       "      <td>26516.0</td>\n",
       "      <td>73309.0</td>\n",
       "      <td>39512223.0</td>\n",
       "    </tr>\n",
       "  </tbody>\n",
       "</table>\n",
       "</div>"
      ],
      "text/plain": [
       "                  count           mean           std   min      25%      50%  \\\n",
       "SUMLEV           3193.0      49.840276  1.253884e+00  40.0     50.0     50.0   \n",
       "REGION           3193.0       2.668650  8.075133e-01   1.0      2.0      3.0   \n",
       "DIVISION         3193.0       5.191356  1.973991e+00   1.0      4.0      5.0   \n",
       "STATE            3193.0      30.259004  1.515390e+01   1.0     18.0     29.0   \n",
       "COUNTY           3193.0     101.918572  1.076266e+02   0.0     33.0     77.0   \n",
       "POPESTIMATE2019  3193.0  205599.450673  1.260310e+06  86.0  11128.0  26516.0   \n",
       "\n",
       "                     75%         max  \n",
       "SUMLEV              50.0        50.0  \n",
       "REGION               3.0         4.0  \n",
       "DIVISION             7.0         9.0  \n",
       "STATE               45.0        56.0  \n",
       "COUNTY             133.0       840.0  \n",
       "POPESTIMATE2019  73309.0  39512223.0  "
      ]
     },
     "execution_count": 713,
     "metadata": {},
     "output_type": "execute_result"
    }
   ],
   "source": [
    "# Get summary statistics of numerical columns\n",
    "pop.describe(include=[np.number]).T"
   ]
  },
  {
   "cell_type": "code",
   "execution_count": 714,
   "metadata": {},
   "outputs": [
    {
     "data": {
      "text/html": [
       "<div>\n",
       "<style scoped>\n",
       "    .dataframe tbody tr th:only-of-type {\n",
       "        vertical-align: middle;\n",
       "    }\n",
       "\n",
       "    .dataframe tbody tr th {\n",
       "        vertical-align: top;\n",
       "    }\n",
       "\n",
       "    .dataframe thead th {\n",
       "        text-align: right;\n",
       "    }\n",
       "</style>\n",
       "<table border=\"1\" class=\"dataframe\">\n",
       "  <thead>\n",
       "    <tr style=\"text-align: right;\">\n",
       "      <th></th>\n",
       "      <th>count</th>\n",
       "      <th>unique</th>\n",
       "      <th>top</th>\n",
       "      <th>freq</th>\n",
       "    </tr>\n",
       "  </thead>\n",
       "  <tbody>\n",
       "    <tr>\n",
       "      <th>STNAME</th>\n",
       "      <td>3193</td>\n",
       "      <td>51</td>\n",
       "      <td>Texas</td>\n",
       "      <td>255</td>\n",
       "    </tr>\n",
       "    <tr>\n",
       "      <th>CTYNAME</th>\n",
       "      <td>3193</td>\n",
       "      <td>1927</td>\n",
       "      <td>Washington County</td>\n",
       "      <td>30</td>\n",
       "    </tr>\n",
       "  </tbody>\n",
       "</table>\n",
       "</div>"
      ],
      "text/plain": [
       "        count unique                top freq\n",
       "STNAME   3193     51              Texas  255\n",
       "CTYNAME  3193   1927  Washington County   30"
      ]
     },
     "execution_count": 714,
     "metadata": {},
     "output_type": "execute_result"
    }
   ],
   "source": [
    "# Get summary statistics of object columns\n",
    "pop.describe(include=[np.object]).T"
   ]
  },
  {
   "cell_type": "code",
   "execution_count": 715,
   "metadata": {},
   "outputs": [
    {
     "data": {
      "text/plain": [
       "SUMLEV                int64\n",
       "REGION                int64\n",
       "DIVISION              int64\n",
       "STATE                 int64\n",
       "COUNTY                int64\n",
       "STNAME             category\n",
       "CTYNAME              object\n",
       "POPESTIMATE2019       int64\n",
       "dtype: object"
      ]
     },
     "execution_count": 715,
     "metadata": {},
     "output_type": "execute_result"
    }
   ],
   "source": [
    "# State name can be categorical\n",
    "pop['STNAME'] = pop['STNAME'].astype('category')\n",
    "pop.dtypes"
   ]
  },
  {
   "cell_type": "code",
   "execution_count": 716,
   "metadata": {},
   "outputs": [
    {
     "name": "stdout",
     "output_type": "stream",
     "text": [
      "Alabama\n",
      "Alaska\n",
      "Arizona\n",
      "Arkansas\n",
      "California\n",
      "Colorado\n",
      "Connecticut\n",
      "Delaware\n",
      "District of Columbia\n",
      "Florida\n",
      "Georgia\n",
      "Hawaii\n",
      "Idaho\n",
      "Illinois\n",
      "Indiana\n",
      "Iowa\n",
      "Kansas\n",
      "Kentucky\n",
      "Louisiana\n",
      "Maine\n",
      "Maryland\n",
      "Massachusetts\n",
      "Michigan\n",
      "Minnesota\n",
      "Mississippi\n",
      "Missouri\n",
      "Montana\n",
      "Nebraska\n",
      "Nevada\n",
      "New Hampshire\n",
      "New Jersey\n",
      "New Mexico\n",
      "New York\n",
      "North Carolina\n",
      "North Dakota\n",
      "Ohio\n",
      "Oklahoma\n",
      "Oregon\n",
      "Pennsylvania\n",
      "Rhode Island\n",
      "South Carolina\n",
      "South Dakota\n",
      "Tennessee\n",
      "Texas\n",
      "Utah\n",
      "Vermont\n",
      "Virginia\n",
      "Washington\n",
      "West Virginia\n",
      "Wisconsin\n",
      "Wyoming\n"
     ]
    }
   ],
   "source": [
    "# List states to determine why there are 51\n",
    "states = pop.STNAME.unique()\n",
    "for i in states:\n",
    "    print(i)\n",
    "    \n",
    "# states includes the District of Columbia"
   ]
  },
  {
   "cell_type": "code",
   "execution_count": 717,
   "metadata": {},
   "outputs": [
    {
     "data": {
      "text/plain": [
       "SUMLEV                2\n",
       "REGION                4\n",
       "DIVISION              9\n",
       "STATE                51\n",
       "COUNTY              325\n",
       "STNAME               51\n",
       "CTYNAME            1927\n",
       "POPESTIMATE2019    3138\n",
       "dtype: int64"
      ]
     },
     "execution_count": 717,
     "metadata": {},
     "output_type": "execute_result"
    }
   ],
   "source": [
    "# Count number of unique for all columns\n",
    "pop.nunique()"
   ]
  },
  {
   "cell_type": "markdown",
   "metadata": {},
   "source": [
    "### 1.2.3 Visualize Population Data"
   ]
  },
  {
   "cell_type": "code",
   "execution_count": 718,
   "metadata": {},
   "outputs": [
    {
     "data": {
      "image/png": "[encoded data removed]",
      "text/plain": [
       "<Figure size 1008x576 with 1 Axes>"
      ]
     },
     "metadata": {
      "needs_background": "light"
     },
     "output_type": "display_data"
    }
   ],
   "source": [
    "_ = plt.figure(figsize=(14,8))\n",
    "_ = plt.hist(pop['STNAME'], bins=50, align='left')\n",
    "_ = plt.xticks(rotation=90)\n",
    "_ = plt.xlabel('States')\n",
    "_ = plt.ylabel('Count of Counties')\n",
    "plt.show()"
   ]
  },
  {
   "cell_type": "code",
   "execution_count": 719,
   "metadata": {},
   "outputs": [
    {
     "data": {
      "image/png": "[encoded data removed]",
      "text/plain": [
       "<Figure size 1008x576 with 1 Axes>"
      ]
     },
     "metadata": {
      "needs_background": "light"
     },
     "output_type": "display_data"
    }
   ],
   "source": [
    "plt.figure(figsize=(14,8))\n",
    "sns.boxplot(x=pop['STNAME'], y=pop['POPESTIMATE2019'], data=pop)\n",
    "plt.xticks(rotation=90)\n",
    "plt.show()"
   ]
  },
  {
   "cell_type": "markdown",
   "metadata": {},
   "source": [
    "### 1.3.1 Import and Examine USA County Shapefile\n",
    "Class Codes and Definitions For Reference<br>\n",
    "https://www.census.gov/library/reference/code-lists/class-codes.html#:~:text=The%20class%20(CLASSFP)%20code%20defines,gazetteer%20files%2C%20and%20other%20products."
   ]
  },
  {
   "cell_type": "code",
   "execution_count": 720,
   "metadata": {},
   "outputs": [
    {
     "name": "stdout",
     "output_type": "stream",
     "text": [
      "Shape of dataframe: (3233, 18)\n",
      "Projection of dataframe: epsg:4269\n"
     ]
    },
    {
     "data": {
      "text/html": [
       "<div>\n",
       "<style scoped>\n",
       "    .dataframe tbody tr th:only-of-type {\n",
       "        vertical-align: middle;\n",
       "    }\n",
       "\n",
       "    .dataframe tbody tr th {\n",
       "        vertical-align: top;\n",
       "    }\n",
       "\n",
       "    .dataframe thead th {\n",
       "        text-align: right;\n",
       "    }\n",
       "</style>\n",
       "<table border=\"1\" class=\"dataframe\">\n",
       "  <thead>\n",
       "    <tr style=\"text-align: right;\">\n",
       "      <th></th>\n",
       "      <th>STATEFP</th>\n",
       "      <th>COUNTYFP</th>\n",
       "      <th>COUNTYNS</th>\n",
       "      <th>GEOID</th>\n",
       "      <th>NAME</th>\n",
       "      <th>NAMELSAD</th>\n",
       "      <th>LSAD</th>\n",
       "      <th>CLASSFP</th>\n",
       "      <th>MTFCC</th>\n",
       "      <th>CSAFP</th>\n",
       "      <th>CBSAFP</th>\n",
       "      <th>METDIVFP</th>\n",
       "      <th>FUNCSTAT</th>\n",
       "      <th>ALAND</th>\n",
       "      <th>AWATER</th>\n",
       "      <th>INTPTLAT</th>\n",
       "      <th>INTPTLON</th>\n",
       "      <th>geometry</th>\n",
       "    </tr>\n",
       "  </thead>\n",
       "  <tbody>\n",
       "    <tr>\n",
       "      <th>3228</th>\n",
       "      <td>13</td>\n",
       "      <td>123</td>\n",
       "      <td>00351260</td>\n",
       "      <td>13123</td>\n",
       "      <td>Gilmer</td>\n",
       "      <td>Gilmer County</td>\n",
       "      <td>06</td>\n",
       "      <td>H1</td>\n",
       "      <td>G4020</td>\n",
       "      <td>None</td>\n",
       "      <td>None</td>\n",
       "      <td>None</td>\n",
       "      <td>A</td>\n",
       "      <td>1103942496</td>\n",
       "      <td>12227724</td>\n",
       "      <td>+34.6905055</td>\n",
       "      <td>-084.4546244</td>\n",
       "      <td>POLYGON ((-84.65478 34.66559, -84.65488 34.669...</td>\n",
       "    </tr>\n",
       "    <tr>\n",
       "      <th>3229</th>\n",
       "      <td>27</td>\n",
       "      <td>135</td>\n",
       "      <td>00659513</td>\n",
       "      <td>27135</td>\n",
       "      <td>Roseau</td>\n",
       "      <td>Roseau County</td>\n",
       "      <td>06</td>\n",
       "      <td>H1</td>\n",
       "      <td>G4020</td>\n",
       "      <td>None</td>\n",
       "      <td>None</td>\n",
       "      <td>None</td>\n",
       "      <td>A</td>\n",
       "      <td>4329471930</td>\n",
       "      <td>16913419</td>\n",
       "      <td>+48.7610683</td>\n",
       "      <td>-095.8215042</td>\n",
       "      <td>POLYGON ((-96.40466 48.80528, -96.40467 48.813...</td>\n",
       "    </tr>\n",
       "    <tr>\n",
       "      <th>3230</th>\n",
       "      <td>28</td>\n",
       "      <td>089</td>\n",
       "      <td>00695768</td>\n",
       "      <td>28089</td>\n",
       "      <td>Madison</td>\n",
       "      <td>Madison County</td>\n",
       "      <td>06</td>\n",
       "      <td>H1</td>\n",
       "      <td>G4020</td>\n",
       "      <td>298</td>\n",
       "      <td>27140</td>\n",
       "      <td>None</td>\n",
       "      <td>A</td>\n",
       "      <td>1850209209</td>\n",
       "      <td>71667634</td>\n",
       "      <td>+32.6343703</td>\n",
       "      <td>-090.0341603</td>\n",
       "      <td>POLYGON ((-90.09363 32.70763, -90.09360 32.707...</td>\n",
       "    </tr>\n",
       "    <tr>\n",
       "      <th>3231</th>\n",
       "      <td>48</td>\n",
       "      <td>227</td>\n",
       "      <td>01383899</td>\n",
       "      <td>48227</td>\n",
       "      <td>Howard</td>\n",
       "      <td>Howard County</td>\n",
       "      <td>06</td>\n",
       "      <td>H1</td>\n",
       "      <td>G4020</td>\n",
       "      <td>None</td>\n",
       "      <td>13700</td>\n",
       "      <td>None</td>\n",
       "      <td>A</td>\n",
       "      <td>2333039139</td>\n",
       "      <td>8841781</td>\n",
       "      <td>+32.3034712</td>\n",
       "      <td>-101.4387720</td>\n",
       "      <td>POLYGON ((-101.69227 32.27106, -101.69221 32.2...</td>\n",
       "    </tr>\n",
       "    <tr>\n",
       "      <th>3232</th>\n",
       "      <td>54</td>\n",
       "      <td>099</td>\n",
       "      <td>01550056</td>\n",
       "      <td>54099</td>\n",
       "      <td>Wayne</td>\n",
       "      <td>Wayne County</td>\n",
       "      <td>06</td>\n",
       "      <td>H1</td>\n",
       "      <td>G4020</td>\n",
       "      <td>170</td>\n",
       "      <td>26580</td>\n",
       "      <td>None</td>\n",
       "      <td>A</td>\n",
       "      <td>1310504124</td>\n",
       "      <td>15860720</td>\n",
       "      <td>+38.1455413</td>\n",
       "      <td>-082.4196812</td>\n",
       "      <td>POLYGON ((-82.59529 38.36978, -82.59515 38.369...</td>\n",
       "    </tr>\n",
       "  </tbody>\n",
       "</table>\n",
       "</div>"
      ],
      "text/plain": [
       "     STATEFP COUNTYFP  COUNTYNS  GEOID     NAME        NAMELSAD LSAD CLASSFP  \\\n",
       "3228      13      123  00351260  13123   Gilmer   Gilmer County   06      H1   \n",
       "3229      27      135  00659513  27135   Roseau   Roseau County   06      H1   \n",
       "3230      28      089  00695768  28089  Madison  Madison County   06      H1   \n",
       "3231      48      227  01383899  48227   Howard   Howard County   06      H1   \n",
       "3232      54      099  01550056  54099    Wayne    Wayne County   06      H1   \n",
       "\n",
       "      MTFCC CSAFP CBSAFP METDIVFP FUNCSTAT       ALAND    AWATER     INTPTLAT  \\\n",
       "3228  G4020  None   None     None        A  1103942496  12227724  +34.6905055   \n",
       "3229  G4020  None   None     None        A  4329471930  16913419  +48.7610683   \n",
       "3230  G4020   298  27140     None        A  1850209209  71667634  +32.6343703   \n",
       "3231  G4020  None  13700     None        A  2333039139   8841781  +32.3034712   \n",
       "3232  G4020   170  26580     None        A  1310504124  15860720  +38.1455413   \n",
       "\n",
       "          INTPTLON                                           geometry  \n",
       "3228  -084.4546244  POLYGON ((-84.65478 34.66559, -84.65488 34.669...  \n",
       "3229  -095.8215042  POLYGON ((-96.40466 48.80528, -96.40467 48.813...  \n",
       "3230  -090.0341603  POLYGON ((-90.09363 32.70763, -90.09360 32.707...  \n",
       "3231  -101.4387720  POLYGON ((-101.69227 32.27106, -101.69221 32.2...  \n",
       "3232  -082.4196812  POLYGON ((-82.59529 38.36978, -82.59515 38.369...  "
      ]
     },
     "execution_count": 720,
     "metadata": {},
     "output_type": "execute_result"
    }
   ],
   "source": [
    "# Read_file method of importing data when it's saved to raw folder\n",
    "# Refer to list of files in raw data directory listed in section 1.0.1\n",
    "raw_path = '../data/raw/'\n",
    "\n",
    "dbf = 'tl_2017_us_county.dbf'\n",
    "prj = 'tl_2017_us_county.prj'\n",
    "shp = 'tl_2017_us_county.shp'\n",
    "shx = 'tl_2017_us_county.shx'\n",
    "\n",
    "usa_counties = gpd.read_file(raw_path + shp)\n",
    "print('Shape of dataframe: {}'.format(usa_counties.shape))\n",
    "print('Projection of dataframe: {}'.format(usa_counties.crs))\n",
    "usa_counties.tail()"
   ]
  },
  {
   "cell_type": "code",
   "execution_count": 721,
   "metadata": {},
   "outputs": [
    {
     "name": "stdout",
     "output_type": "stream",
     "text": [
      "<class 'geopandas.geodataframe.GeoDataFrame'>\n",
      "RangeIndex: 3233 entries, 0 to 3232\n",
      "Data columns (total 18 columns):\n",
      " #   Column    Non-Null Count  Dtype   \n",
      "---  ------    --------------  -----   \n",
      " 0   STATEFP   3233 non-null   object  \n",
      " 1   COUNTYFP  3233 non-null   object  \n",
      " 2   COUNTYNS  3233 non-null   object  \n",
      " 3   GEOID     3233 non-null   object  \n",
      " 4   NAME      3233 non-null   object  \n",
      " 5   NAMELSAD  3233 non-null   object  \n",
      " 6   LSAD      3233 non-null   object  \n",
      " 7   CLASSFP   3233 non-null   object  \n",
      " 8   MTFCC     3233 non-null   object  \n",
      " 9   CSAFP     1231 non-null   object  \n",
      " 10  CBSAFP    1899 non-null   object  \n",
      " 11  METDIVFP  113 non-null    object  \n",
      " 12  FUNCSTAT  3233 non-null   object  \n",
      " 13  ALAND     3233 non-null   int64   \n",
      " 14  AWATER    3233 non-null   int64   \n",
      " 15  INTPTLAT  3233 non-null   object  \n",
      " 16  INTPTLON  3233 non-null   object  \n",
      " 17  geometry  3233 non-null   geometry\n",
      "dtypes: geometry(1), int64(2), object(15)\n",
      "memory usage: 454.8+ KB\n"
     ]
    }
   ],
   "source": [
    "# Examine information about dataframe\n",
    "usa_counties.info()"
   ]
  },
  {
   "cell_type": "code",
   "execution_count": 722,
   "metadata": {},
   "outputs": [
    {
     "data": {
      "text/html": [
       "<div>\n",
       "<style scoped>\n",
       "    .dataframe tbody tr th:only-of-type {\n",
       "        vertical-align: middle;\n",
       "    }\n",
       "\n",
       "    .dataframe tbody tr th {\n",
       "        vertical-align: top;\n",
       "    }\n",
       "\n",
       "    .dataframe thead th {\n",
       "        text-align: right;\n",
       "    }\n",
       "</style>\n",
       "<table border=\"1\" class=\"dataframe\">\n",
       "  <thead>\n",
       "    <tr style=\"text-align: right;\">\n",
       "      <th></th>\n",
       "      <th>count</th>\n",
       "      <th>unique</th>\n",
       "      <th>top</th>\n",
       "      <th>freq</th>\n",
       "    </tr>\n",
       "  </thead>\n",
       "  <tbody>\n",
       "    <tr>\n",
       "      <th>STATEFP</th>\n",
       "      <td>3233</td>\n",
       "      <td>56</td>\n",
       "      <td>48</td>\n",
       "      <td>254</td>\n",
       "    </tr>\n",
       "    <tr>\n",
       "      <th>COUNTYFP</th>\n",
       "      <td>3233</td>\n",
       "      <td>329</td>\n",
       "      <td>005</td>\n",
       "      <td>50</td>\n",
       "    </tr>\n",
       "    <tr>\n",
       "      <th>COUNTYNS</th>\n",
       "      <td>3233</td>\n",
       "      <td>3233</td>\n",
       "      <td>00558077</td>\n",
       "      <td>1</td>\n",
       "    </tr>\n",
       "    <tr>\n",
       "      <th>GEOID</th>\n",
       "      <td>3233</td>\n",
       "      <td>3233</td>\n",
       "      <td>48425</td>\n",
       "      <td>1</td>\n",
       "    </tr>\n",
       "    <tr>\n",
       "      <th>NAME</th>\n",
       "      <td>3233</td>\n",
       "      <td>1922</td>\n",
       "      <td>Washington</td>\n",
       "      <td>31</td>\n",
       "    </tr>\n",
       "    <tr>\n",
       "      <th>NAMELSAD</th>\n",
       "      <td>3233</td>\n",
       "      <td>1968</td>\n",
       "      <td>Washington County</td>\n",
       "      <td>30</td>\n",
       "    </tr>\n",
       "    <tr>\n",
       "      <th>LSAD</th>\n",
       "      <td>3233</td>\n",
       "      <td>11</td>\n",
       "      <td>06</td>\n",
       "      <td>3007</td>\n",
       "    </tr>\n",
       "    <tr>\n",
       "      <th>CLASSFP</th>\n",
       "      <td>3233</td>\n",
       "      <td>5</td>\n",
       "      <td>H1</td>\n",
       "      <td>3115</td>\n",
       "    </tr>\n",
       "    <tr>\n",
       "      <th>MTFCC</th>\n",
       "      <td>3233</td>\n",
       "      <td>1</td>\n",
       "      <td>G4020</td>\n",
       "      <td>3233</td>\n",
       "    </tr>\n",
       "    <tr>\n",
       "      <th>CSAFP</th>\n",
       "      <td>1231</td>\n",
       "      <td>174</td>\n",
       "      <td>490</td>\n",
       "      <td>48</td>\n",
       "    </tr>\n",
       "    <tr>\n",
       "      <th>CBSAFP</th>\n",
       "      <td>1899</td>\n",
       "      <td>945</td>\n",
       "      <td>41980</td>\n",
       "      <td>40</td>\n",
       "    </tr>\n",
       "    <tr>\n",
       "      <th>METDIVFP</th>\n",
       "      <td>113</td>\n",
       "      <td>31</td>\n",
       "      <td>47894</td>\n",
       "      <td>22</td>\n",
       "    </tr>\n",
       "    <tr>\n",
       "      <th>FUNCSTAT</th>\n",
       "      <td>3233</td>\n",
       "      <td>7</td>\n",
       "      <td>A</td>\n",
       "      <td>3116</td>\n",
       "    </tr>\n",
       "    <tr>\n",
       "      <th>INTPTLAT</th>\n",
       "      <td>3233</td>\n",
       "      <td>3233</td>\n",
       "      <td>+18.2275938</td>\n",
       "      <td>1</td>\n",
       "    </tr>\n",
       "    <tr>\n",
       "      <th>INTPTLON</th>\n",
       "      <td>3233</td>\n",
       "      <td>3233</td>\n",
       "      <td>-097.7189200</td>\n",
       "      <td>1</td>\n",
       "    </tr>\n",
       "  </tbody>\n",
       "</table>\n",
       "</div>"
      ],
      "text/plain": [
       "         count unique                top  freq\n",
       "STATEFP   3233     56                 48   254\n",
       "COUNTYFP  3233    329                005    50\n",
       "COUNTYNS  3233   3233           00558077     1\n",
       "GEOID     3233   3233              48425     1\n",
       "NAME      3233   1922         Washington    31\n",
       "NAMELSAD  3233   1968  Washington County    30\n",
       "LSAD      3233     11                 06  3007\n",
       "CLASSFP   3233      5                 H1  3115\n",
       "MTFCC     3233      1              G4020  3233\n",
       "CSAFP     1231    174                490    48\n",
       "CBSAFP    1899    945              41980    40\n",
       "METDIVFP   113     31              47894    22\n",
       "FUNCSTAT  3233      7                  A  3116\n",
       "INTPTLAT  3233   3233        +18.2275938     1\n",
       "INTPTLON  3233   3233       -097.7189200     1"
      ]
     },
     "execution_count": 722,
     "metadata": {},
     "output_type": "execute_result"
    }
   ],
   "source": [
    "# Get summary statistics of objects\n",
    "usa_counties.describe(include=[np.object]).T"
   ]
  },
  {
   "cell_type": "markdown",
   "metadata": {},
   "source": [
    "### 1.3.2 Reduce Memory Usage of County Data\n",
    "We notice there are quite a few columns that can be typecasted as category or numeric."
   ]
  },
  {
   "cell_type": "code",
   "execution_count": 723,
   "metadata": {},
   "outputs": [
    {
     "data": {
      "text/plain": [
       "Index          128\n",
       "STATEFP     190747\n",
       "COUNTYFP    193980\n",
       "COUNTYNS    210145\n",
       "GEOID       200446\n",
       "NAME        207450\n",
       "NAMELSAD    230345\n",
       "LSAD        190747\n",
       "CLASSFP     190747\n",
       "MTFCC       200446\n",
       "CSAFP       121908\n",
       "CBSAFP      149754\n",
       "METDIVFP     81886\n",
       "FUNCSTAT    213378\n",
       "ALAND        25864\n",
       "AWATER       25864\n",
       "INTPTLAT    219844\n",
       "INTPTLON    223077\n",
       "geometry     25864\n",
       "dtype: int64"
      ]
     },
     "execution_count": 723,
     "metadata": {},
     "output_type": "execute_result"
    }
   ],
   "source": [
    "orig_mem = usa_counties.memory_usage(deep=True)\n",
    "orig_mem"
   ]
  },
  {
   "cell_type": "code",
   "execution_count": 724,
   "metadata": {},
   "outputs": [
    {
     "data": {
      "text/plain": [
       "STATEFP     category\n",
       "COUNTYFP    category\n",
       "COUNTYNS       int64\n",
       "GEOID          int64\n",
       "NAME          object\n",
       "NAMELSAD      object\n",
       "LSAD        category\n",
       "CLASSFP     category\n",
       "MTFCC       category\n",
       "CSAFP        float64\n",
       "CBSAFP       float64\n",
       "METDIVFP     float64\n",
       "FUNCSTAT    category\n",
       "ALAND          int64\n",
       "AWATER         int64\n",
       "INTPTLAT      object\n",
       "INTPTLON      object\n",
       "geometry    geometry\n",
       "dtype: object"
      ]
     },
     "execution_count": 724,
     "metadata": {},
     "output_type": "execute_result"
    }
   ],
   "source": [
    "# Change data type to categorical\n",
    "usa_counties['STATEFP'] = usa_counties['STATEFP'].astype('category')\n",
    "usa_counties['COUNTYFP'] = usa_counties['COUNTYFP'].astype('category')\n",
    "usa_counties['LSAD'] = usa_counties['LSAD'].astype('category')\n",
    "usa_counties['CLASSFP'] = usa_counties['CLASSFP'].astype('category')\n",
    "usa_counties['MTFCC'] = usa_counties['MTFCC'].astype('category')\n",
    "usa_counties['FUNCSTAT'] = usa_counties['FUNCSTAT'].astype('category')\n",
    "\n",
    "# Change data type to numeric\n",
    "usa_counties['COUNTYNS'] = pd.to_numeric(usa_counties['COUNTYNS'])\n",
    "usa_counties['GEOID'] = pd.to_numeric(usa_counties['GEOID'])\n",
    "usa_counties['CSAFP'] = pd.to_numeric(usa_counties['CSAFP'])\n",
    "usa_counties['CBSAFP'] = pd.to_numeric(usa_counties['CBSAFP'])\n",
    "usa_counties['METDIVFP'] = pd.to_numeric(usa_counties['METDIVFP'])\n",
    "\n",
    "usa_counties.dtypes"
   ]
  },
  {
   "cell_type": "code",
   "execution_count": 725,
   "metadata": {},
   "outputs": [
    {
     "data": {
      "text/plain": [
       "Index       1.000000\n",
       "STATEFP     0.047691\n",
       "COUNTYFP    0.187885\n",
       "COUNTYNS    0.123077\n",
       "GEOID       0.129032\n",
       "NAME        1.000000\n",
       "NAMELSAD    1.000000\n",
       "LSAD        0.022029\n",
       "CLASSFP     0.019335\n",
       "MTFCC       0.016837\n",
       "CSAFP       0.212160\n",
       "CBSAFP      0.172710\n",
       "METDIVFP    0.315854\n",
       "FUNCSTAT    0.018816\n",
       "ALAND       1.000000\n",
       "AWATER      1.000000\n",
       "INTPTLAT    1.000000\n",
       "INTPTLON    1.000000\n",
       "geometry    1.000000\n",
       "dtype: float64"
      ]
     },
     "execution_count": 725,
     "metadata": {},
     "output_type": "execute_result"
    }
   ],
   "source": [
    "new_mem = usa_counties.memory_usage(deep=True)\n",
    "new_mem/orig_mem"
   ]
  },
  {
   "cell_type": "markdown",
   "metadata": {},
   "source": [
    "### 1.3.3 Consolidate County Data\n",
    "GeoDataFrame to include the 50 states and D.C."
   ]
  },
  {
   "cell_type": "code",
   "execution_count": 726,
   "metadata": {},
   "outputs": [
    {
     "data": {
      "text/plain": [
       "56"
      ]
     },
     "execution_count": 726,
     "metadata": {},
     "output_type": "execute_result"
    }
   ],
   "source": [
    "# Check out FIPS Codes in dataset to see number of unique States\n",
    "# https://www.nrcs.usda.gov/wps/portal/nrcs/detail/?cid=nrcs143_013696\n",
    "usa_counties.STATEFP.nunique()"
   ]
  },
  {
   "cell_type": "code",
   "execution_count": 727,
   "metadata": {},
   "outputs": [
    {
     "name": "stdout",
     "output_type": "stream",
     "text": [
      "(3142, 18)\n",
      "(3108, 18)\n"
     ]
    }
   ],
   "source": [
    "# 56 tells us that we are including more than just the 50 states\n",
    "# We want a dataframe that is just the contiguous USA\n",
    "# and one that includes the 50 states (plus DC)\n",
    "\n",
    "# American Samoa (60), Guam (66), Northern Mariana Islands (69)\n",
    "# Puerto Rico (72), Virgin Islands (78), Alaska (02), Hawaii (15)\n",
    "\n",
    "# USA States\n",
    "usa_state_counties = usa_counties[~usa_counties.STATEFP.isin(['60','66','69','72','78'])]\n",
    "print(usa_state_counties.shape)\n",
    "\n",
    "# Contiguous USA\n",
    "usa_cont_counties = usa_state_counties[~usa_state_counties.STATEFP.isin(['02','15'])]\n",
    "print(usa_cont_counties.shape)"
   ]
  },
  {
   "cell_type": "code",
   "execution_count": 728,
   "metadata": {},
   "outputs": [
    {
     "data": {
      "text/plain": [
       "(3233, 18)"
      ]
     },
     "execution_count": 728,
     "metadata": {},
     "output_type": "execute_result"
    }
   ],
   "source": [
    "# Compare to original\n",
    "usa_counties.shape"
   ]
  },
  {
   "cell_type": "markdown",
   "metadata": {},
   "source": [
    "### 1.4.1 Import and Examine USA State Shapefile"
   ]
  },
  {
   "cell_type": "code",
   "execution_count": 729,
   "metadata": {},
   "outputs": [
    {
     "name": "stdout",
     "output_type": "stream",
     "text": [
      "Shape of dataframe: (56, 15)\n",
      "Projection of dataframe: epsg:4269\n"
     ]
    },
    {
     "data": {
      "text/html": [
       "<div>\n",
       "<style scoped>\n",
       "    .dataframe tbody tr th:only-of-type {\n",
       "        vertical-align: middle;\n",
       "    }\n",
       "\n",
       "    .dataframe tbody tr th {\n",
       "        vertical-align: top;\n",
       "    }\n",
       "\n",
       "    .dataframe thead th {\n",
       "        text-align: right;\n",
       "    }\n",
       "</style>\n",
       "<table border=\"1\" class=\"dataframe\">\n",
       "  <thead>\n",
       "    <tr style=\"text-align: right;\">\n",
       "      <th></th>\n",
       "      <th>REGION</th>\n",
       "      <th>DIVISION</th>\n",
       "      <th>STATEFP</th>\n",
       "      <th>STATENS</th>\n",
       "      <th>GEOID</th>\n",
       "      <th>STUSPS</th>\n",
       "      <th>NAME</th>\n",
       "      <th>LSAD</th>\n",
       "      <th>MTFCC</th>\n",
       "      <th>FUNCSTAT</th>\n",
       "      <th>ALAND</th>\n",
       "      <th>AWATER</th>\n",
       "      <th>INTPTLAT</th>\n",
       "      <th>INTPTLON</th>\n",
       "      <th>geometry</th>\n",
       "    </tr>\n",
       "  </thead>\n",
       "  <tbody>\n",
       "    <tr>\n",
       "      <th>51</th>\n",
       "      <td>1</td>\n",
       "      <td>1</td>\n",
       "      <td>25</td>\n",
       "      <td>00606926</td>\n",
       "      <td>25</td>\n",
       "      <td>MA</td>\n",
       "      <td>Massachusetts</td>\n",
       "      <td>00</td>\n",
       "      <td>G4000</td>\n",
       "      <td>A</td>\n",
       "      <td>20204387828</td>\n",
       "      <td>7130663019</td>\n",
       "      <td>+42.1565196</td>\n",
       "      <td>-071.4895915</td>\n",
       "      <td>POLYGON ((-71.49826 42.01727, -71.49907 42.017...</td>\n",
       "    </tr>\n",
       "    <tr>\n",
       "      <th>52</th>\n",
       "      <td>3</td>\n",
       "      <td>5</td>\n",
       "      <td>51</td>\n",
       "      <td>01779803</td>\n",
       "      <td>51</td>\n",
       "      <td>VA</td>\n",
       "      <td>Virginia</td>\n",
       "      <td>00</td>\n",
       "      <td>G4000</td>\n",
       "      <td>A</td>\n",
       "      <td>102258306285</td>\n",
       "      <td>8527942672</td>\n",
       "      <td>+37.5222512</td>\n",
       "      <td>-078.6681938</td>\n",
       "      <td>POLYGON ((-77.32832 39.05768, -77.32830 39.057...</td>\n",
       "    </tr>\n",
       "    <tr>\n",
       "      <th>53</th>\n",
       "      <td>3</td>\n",
       "      <td>5</td>\n",
       "      <td>11</td>\n",
       "      <td>01702382</td>\n",
       "      <td>11</td>\n",
       "      <td>DC</td>\n",
       "      <td>District of Columbia</td>\n",
       "      <td>00</td>\n",
       "      <td>G4000</td>\n",
       "      <td>A</td>\n",
       "      <td>158340389</td>\n",
       "      <td>18687196</td>\n",
       "      <td>+38.9042474</td>\n",
       "      <td>-077.0165167</td>\n",
       "      <td>POLYGON ((-77.11975 38.93435, -77.11886 38.935...</td>\n",
       "    </tr>\n",
       "    <tr>\n",
       "      <th>54</th>\n",
       "      <td>2</td>\n",
       "      <td>4</td>\n",
       "      <td>19</td>\n",
       "      <td>01779785</td>\n",
       "      <td>19</td>\n",
       "      <td>IA</td>\n",
       "      <td>Iowa</td>\n",
       "      <td>00</td>\n",
       "      <td>G4000</td>\n",
       "      <td>A</td>\n",
       "      <td>144660467237</td>\n",
       "      <td>1084981626</td>\n",
       "      <td>+42.0700243</td>\n",
       "      <td>-093.4933473</td>\n",
       "      <td>POLYGON ((-96.49878 42.56104, -96.48707 42.572...</td>\n",
       "    </tr>\n",
       "    <tr>\n",
       "      <th>55</th>\n",
       "      <td>4</td>\n",
       "      <td>8</td>\n",
       "      <td>04</td>\n",
       "      <td>01779777</td>\n",
       "      <td>04</td>\n",
       "      <td>AZ</td>\n",
       "      <td>Arizona</td>\n",
       "      <td>00</td>\n",
       "      <td>G4000</td>\n",
       "      <td>A</td>\n",
       "      <td>294360282618</td>\n",
       "      <td>859561204</td>\n",
       "      <td>+34.2039355</td>\n",
       "      <td>-111.6063565</td>\n",
       "      <td>POLYGON ((-114.51684 33.02789, -114.51699 33.0...</td>\n",
       "    </tr>\n",
       "  </tbody>\n",
       "</table>\n",
       "</div>"
      ],
      "text/plain": [
       "   REGION DIVISION STATEFP   STATENS GEOID STUSPS                  NAME LSAD  \\\n",
       "51      1        1      25  00606926    25     MA         Massachusetts   00   \n",
       "52      3        5      51  01779803    51     VA              Virginia   00   \n",
       "53      3        5      11  01702382    11     DC  District of Columbia   00   \n",
       "54      2        4      19  01779785    19     IA                  Iowa   00   \n",
       "55      4        8      04  01779777    04     AZ               Arizona   00   \n",
       "\n",
       "    MTFCC FUNCSTAT         ALAND      AWATER     INTPTLAT      INTPTLON  \\\n",
       "51  G4000        A   20204387828  7130663019  +42.1565196  -071.4895915   \n",
       "52  G4000        A  102258306285  8527942672  +37.5222512  -078.6681938   \n",
       "53  G4000        A     158340389    18687196  +38.9042474  -077.0165167   \n",
       "54  G4000        A  144660467237  1084981626  +42.0700243  -093.4933473   \n",
       "55  G4000        A  294360282618   859561204  +34.2039355  -111.6063565   \n",
       "\n",
       "                                             geometry  \n",
       "51  POLYGON ((-71.49826 42.01727, -71.49907 42.017...  \n",
       "52  POLYGON ((-77.32832 39.05768, -77.32830 39.057...  \n",
       "53  POLYGON ((-77.11975 38.93435, -77.11886 38.935...  \n",
       "54  POLYGON ((-96.49878 42.56104, -96.48707 42.572...  \n",
       "55  POLYGON ((-114.51684 33.02789, -114.51699 33.0...  "
      ]
     },
     "execution_count": 729,
     "metadata": {},
     "output_type": "execute_result"
    }
   ],
   "source": [
    "# Read_file method of importing data when it's saved to raw folder\n",
    "# Source: https://www.census.gov/cgi-bin/geo/shapefiles/index.php?year=2019&layergroup=States+%28and+equivalent%29\n",
    "# Refer to list of files in raw data directory listed in section 1.0.1\n",
    "raw_path = '../data/raw/'\n",
    "\n",
    "dbf = 'tl_2019_us_state.dbf'\n",
    "prj = 'tl_2019_us_state.prj'\n",
    "shp = 'tl_2019_us_state.shp'\n",
    "shx = 'tl_2019_us_state.shx'\n",
    "\n",
    "usa_states = gpd.read_file(raw_path + shp)\n",
    "print('Shape of dataframe: {}'.format(usa_states.shape))\n",
    "print('Projection of dataframe: {}'.format(usa_states.crs))\n",
    "usa_states.tail()"
   ]
  },
  {
   "cell_type": "code",
   "execution_count": 730,
   "metadata": {},
   "outputs": [
    {
     "name": "stdout",
     "output_type": "stream",
     "text": [
      "<class 'geopandas.geodataframe.GeoDataFrame'>\n",
      "RangeIndex: 56 entries, 0 to 55\n",
      "Data columns (total 15 columns):\n",
      " #   Column    Non-Null Count  Dtype   \n",
      "---  ------    --------------  -----   \n",
      " 0   REGION    56 non-null     object  \n",
      " 1   DIVISION  56 non-null     object  \n",
      " 2   STATEFP   56 non-null     object  \n",
      " 3   STATENS   56 non-null     object  \n",
      " 4   GEOID     56 non-null     object  \n",
      " 5   STUSPS    56 non-null     object  \n",
      " 6   NAME      56 non-null     object  \n",
      " 7   LSAD      56 non-null     object  \n",
      " 8   MTFCC     56 non-null     object  \n",
      " 9   FUNCSTAT  56 non-null     object  \n",
      " 10  ALAND     56 non-null     int64   \n",
      " 11  AWATER    56 non-null     int64   \n",
      " 12  INTPTLAT  56 non-null     object  \n",
      " 13  INTPTLON  56 non-null     object  \n",
      " 14  geometry  56 non-null     geometry\n",
      "dtypes: geometry(1), int64(2), object(12)\n",
      "memory usage: 6.7+ KB\n"
     ]
    }
   ],
   "source": [
    "usa_states.info()"
   ]
  },
  {
   "cell_type": "code",
   "execution_count": 731,
   "metadata": {},
   "outputs": [
    {
     "data": {
      "text/html": [
       "<div>\n",
       "<style scoped>\n",
       "    .dataframe tbody tr th:only-of-type {\n",
       "        vertical-align: middle;\n",
       "    }\n",
       "\n",
       "    .dataframe tbody tr th {\n",
       "        vertical-align: top;\n",
       "    }\n",
       "\n",
       "    .dataframe thead th {\n",
       "        text-align: right;\n",
       "    }\n",
       "</style>\n",
       "<table border=\"1\" class=\"dataframe\">\n",
       "  <thead>\n",
       "    <tr style=\"text-align: right;\">\n",
       "      <th></th>\n",
       "      <th>count</th>\n",
       "      <th>unique</th>\n",
       "      <th>top</th>\n",
       "      <th>freq</th>\n",
       "    </tr>\n",
       "  </thead>\n",
       "  <tbody>\n",
       "    <tr>\n",
       "      <th>REGION</th>\n",
       "      <td>56</td>\n",
       "      <td>5</td>\n",
       "      <td>3</td>\n",
       "      <td>17</td>\n",
       "    </tr>\n",
       "    <tr>\n",
       "      <th>DIVISION</th>\n",
       "      <td>56</td>\n",
       "      <td>10</td>\n",
       "      <td>5</td>\n",
       "      <td>9</td>\n",
       "    </tr>\n",
       "    <tr>\n",
       "      <th>STATEFP</th>\n",
       "      <td>56</td>\n",
       "      <td>56</td>\n",
       "      <td>47</td>\n",
       "      <td>1</td>\n",
       "    </tr>\n",
       "    <tr>\n",
       "      <th>STATENS</th>\n",
       "      <td>56</td>\n",
       "      <td>56</td>\n",
       "      <td>01779777</td>\n",
       "      <td>1</td>\n",
       "    </tr>\n",
       "    <tr>\n",
       "      <th>GEOID</th>\n",
       "      <td>56</td>\n",
       "      <td>56</td>\n",
       "      <td>47</td>\n",
       "      <td>1</td>\n",
       "    </tr>\n",
       "    <tr>\n",
       "      <th>STUSPS</th>\n",
       "      <td>56</td>\n",
       "      <td>56</td>\n",
       "      <td>UT</td>\n",
       "      <td>1</td>\n",
       "    </tr>\n",
       "    <tr>\n",
       "      <th>NAME</th>\n",
       "      <td>56</td>\n",
       "      <td>56</td>\n",
       "      <td>West Virginia</td>\n",
       "      <td>1</td>\n",
       "    </tr>\n",
       "    <tr>\n",
       "      <th>LSAD</th>\n",
       "      <td>56</td>\n",
       "      <td>1</td>\n",
       "      <td>00</td>\n",
       "      <td>56</td>\n",
       "    </tr>\n",
       "    <tr>\n",
       "      <th>MTFCC</th>\n",
       "      <td>56</td>\n",
       "      <td>1</td>\n",
       "      <td>G4000</td>\n",
       "      <td>56</td>\n",
       "    </tr>\n",
       "    <tr>\n",
       "      <th>FUNCSTAT</th>\n",
       "      <td>56</td>\n",
       "      <td>1</td>\n",
       "      <td>A</td>\n",
       "      <td>56</td>\n",
       "    </tr>\n",
       "    <tr>\n",
       "      <th>INTPTLAT</th>\n",
       "      <td>56</td>\n",
       "      <td>56</td>\n",
       "      <td>+18.3267480</td>\n",
       "      <td>1</td>\n",
       "    </tr>\n",
       "    <tr>\n",
       "      <th>INTPTLON</th>\n",
       "      <td>56</td>\n",
       "      <td>56</td>\n",
       "      <td>-076.6744939</td>\n",
       "      <td>1</td>\n",
       "    </tr>\n",
       "  </tbody>\n",
       "</table>\n",
       "</div>"
      ],
      "text/plain": [
       "         count unique            top freq\n",
       "REGION      56      5              3   17\n",
       "DIVISION    56     10              5    9\n",
       "STATEFP     56     56             47    1\n",
       "STATENS     56     56       01779777    1\n",
       "GEOID       56     56             47    1\n",
       "STUSPS      56     56             UT    1\n",
       "NAME        56     56  West Virginia    1\n",
       "LSAD        56      1             00   56\n",
       "MTFCC       56      1          G4000   56\n",
       "FUNCSTAT    56      1              A   56\n",
       "INTPTLAT    56     56    +18.3267480    1\n",
       "INTPTLON    56     56   -076.6744939    1"
      ]
     },
     "execution_count": 731,
     "metadata": {},
     "output_type": "execute_result"
    }
   ],
   "source": [
    "# Review summary statistics for objects\n",
    "usa_states.describe(include=[np.object]).T"
   ]
  },
  {
   "cell_type": "code",
   "execution_count": 732,
   "metadata": {},
   "outputs": [
    {
     "data": {
      "text/plain": [
       "REGION       5\n",
       "DIVISION    10\n",
       "STATEFP     56\n",
       "STATENS     56\n",
       "GEOID       56\n",
       "STUSPS      56\n",
       "NAME        56\n",
       "LSAD         1\n",
       "MTFCC        1\n",
       "FUNCSTAT     1\n",
       "ALAND       56\n",
       "AWATER      56\n",
       "INTPTLAT    56\n",
       "INTPTLON    56\n",
       "geometry    56\n",
       "dtype: int64"
      ]
     },
     "execution_count": 732,
     "metadata": {},
     "output_type": "execute_result"
    }
   ],
   "source": [
    "# Determine which columns to drop\n",
    "usa_states.nunique()"
   ]
  },
  {
   "cell_type": "code",
   "execution_count": 733,
   "metadata": {},
   "outputs": [
    {
     "data": {
      "text/html": [
       "<div>\n",
       "<style scoped>\n",
       "    .dataframe tbody tr th:only-of-type {\n",
       "        vertical-align: middle;\n",
       "    }\n",
       "\n",
       "    .dataframe tbody tr th {\n",
       "        vertical-align: top;\n",
       "    }\n",
       "\n",
       "    .dataframe thead th {\n",
       "        text-align: right;\n",
       "    }\n",
       "</style>\n",
       "<table border=\"1\" class=\"dataframe\">\n",
       "  <thead>\n",
       "    <tr style=\"text-align: right;\">\n",
       "      <th></th>\n",
       "      <th>REGION</th>\n",
       "      <th>DIVISION</th>\n",
       "      <th>STATEFP</th>\n",
       "      <th>STATENS</th>\n",
       "      <th>STUSPS</th>\n",
       "      <th>NAME</th>\n",
       "      <th>ALAND</th>\n",
       "      <th>AWATER</th>\n",
       "      <th>INTPTLAT</th>\n",
       "      <th>INTPTLON</th>\n",
       "      <th>geometry</th>\n",
       "    </tr>\n",
       "  </thead>\n",
       "  <tbody>\n",
       "    <tr>\n",
       "      <th>0</th>\n",
       "      <td>3</td>\n",
       "      <td>5</td>\n",
       "      <td>54</td>\n",
       "      <td>01779805</td>\n",
       "      <td>WV</td>\n",
       "      <td>West Virginia</td>\n",
       "      <td>62266231560</td>\n",
       "      <td>489271086</td>\n",
       "      <td>+38.6472854</td>\n",
       "      <td>-080.6183274</td>\n",
       "      <td>POLYGON ((-81.74725 39.09538, -81.74635 39.096...</td>\n",
       "    </tr>\n",
       "    <tr>\n",
       "      <th>1</th>\n",
       "      <td>3</td>\n",
       "      <td>5</td>\n",
       "      <td>12</td>\n",
       "      <td>00294478</td>\n",
       "      <td>FL</td>\n",
       "      <td>Florida</td>\n",
       "      <td>138947364717</td>\n",
       "      <td>31362872853</td>\n",
       "      <td>+28.4574302</td>\n",
       "      <td>-082.4091477</td>\n",
       "      <td>MULTIPOLYGON (((-86.38865 30.99418, -86.38385 ...</td>\n",
       "    </tr>\n",
       "    <tr>\n",
       "      <th>2</th>\n",
       "      <td>2</td>\n",
       "      <td>3</td>\n",
       "      <td>17</td>\n",
       "      <td>01779784</td>\n",
       "      <td>IL</td>\n",
       "      <td>Illinois</td>\n",
       "      <td>143779863817</td>\n",
       "      <td>6215723896</td>\n",
       "      <td>+40.1028754</td>\n",
       "      <td>-089.1526108</td>\n",
       "      <td>POLYGON ((-91.18529 40.63780, -91.17510 40.643...</td>\n",
       "    </tr>\n",
       "    <tr>\n",
       "      <th>3</th>\n",
       "      <td>2</td>\n",
       "      <td>4</td>\n",
       "      <td>27</td>\n",
       "      <td>00662849</td>\n",
       "      <td>MN</td>\n",
       "      <td>Minnesota</td>\n",
       "      <td>206230065476</td>\n",
       "      <td>18942261495</td>\n",
       "      <td>+46.3159573</td>\n",
       "      <td>-094.1996043</td>\n",
       "      <td>POLYGON ((-96.78438 46.63050, -96.78434 46.630...</td>\n",
       "    </tr>\n",
       "    <tr>\n",
       "      <th>4</th>\n",
       "      <td>3</td>\n",
       "      <td>5</td>\n",
       "      <td>24</td>\n",
       "      <td>01714934</td>\n",
       "      <td>MD</td>\n",
       "      <td>Maryland</td>\n",
       "      <td>25151726296</td>\n",
       "      <td>6979340970</td>\n",
       "      <td>+38.9466584</td>\n",
       "      <td>-076.6744939</td>\n",
       "      <td>POLYGON ((-77.45881 39.22027, -77.45866 39.220...</td>\n",
       "    </tr>\n",
       "  </tbody>\n",
       "</table>\n",
       "</div>"
      ],
      "text/plain": [
       "  REGION DIVISION STATEFP   STATENS STUSPS           NAME         ALAND  \\\n",
       "0      3        5      54  01779805     WV  West Virginia   62266231560   \n",
       "1      3        5      12  00294478     FL        Florida  138947364717   \n",
       "2      2        3      17  01779784     IL       Illinois  143779863817   \n",
       "3      2        4      27  00662849     MN      Minnesota  206230065476   \n",
       "4      3        5      24  01714934     MD       Maryland   25151726296   \n",
       "\n",
       "        AWATER     INTPTLAT      INTPTLON  \\\n",
       "0    489271086  +38.6472854  -080.6183274   \n",
       "1  31362872853  +28.4574302  -082.4091477   \n",
       "2   6215723896  +40.1028754  -089.1526108   \n",
       "3  18942261495  +46.3159573  -094.1996043   \n",
       "4   6979340970  +38.9466584  -076.6744939   \n",
       "\n",
       "                                            geometry  \n",
       "0  POLYGON ((-81.74725 39.09538, -81.74635 39.096...  \n",
       "1  MULTIPOLYGON (((-86.38865 30.99418, -86.38385 ...  \n",
       "2  POLYGON ((-91.18529 40.63780, -91.17510 40.643...  \n",
       "3  POLYGON ((-96.78438 46.63050, -96.78434 46.630...  \n",
       "4  POLYGON ((-77.45881 39.22027, -77.45866 39.220...  "
      ]
     },
     "execution_count": 733,
     "metadata": {},
     "output_type": "execute_result"
    }
   ],
   "source": [
    "# Drop columns with single value & duplicate columns\n",
    "columns = ['LSAD','MTFCC','FUNCSTAT','GEOID']\n",
    "usa_states.drop(columns, axis=1, inplace=True)\n",
    "usa_states.head()"
   ]
  },
  {
   "cell_type": "markdown",
   "metadata": {},
   "source": [
    "### 1.4.2 Reduce Memory Usage of State Data"
   ]
  },
  {
   "cell_type": "code",
   "execution_count": 734,
   "metadata": {},
   "outputs": [
    {
     "data": {
      "text/plain": [
       "REGION        object\n",
       "DIVISION      object\n",
       "STATEFP       object\n",
       "STATENS       object\n",
       "STUSPS        object\n",
       "NAME          object\n",
       "ALAND          int64\n",
       "AWATER         int64\n",
       "INTPTLAT      object\n",
       "INTPTLON      object\n",
       "geometry    geometry\n",
       "dtype: object"
      ]
     },
     "execution_count": 734,
     "metadata": {},
     "output_type": "execute_result"
    }
   ],
   "source": [
    "usa_states.dtypes"
   ]
  },
  {
   "cell_type": "code",
   "execution_count": 735,
   "metadata": {},
   "outputs": [
    {
     "data": {
      "text/plain": [
       "REGION         int64\n",
       "DIVISION       int64\n",
       "STATEFP        int64\n",
       "STATENS        int64\n",
       "STUSPS        object\n",
       "NAME          object\n",
       "ALAND          int64\n",
       "AWATER         int64\n",
       "INTPTLAT      object\n",
       "INTPTLON      object\n",
       "geometry    geometry\n",
       "dtype: object"
      ]
     },
     "execution_count": 735,
     "metadata": {},
     "output_type": "execute_result"
    }
   ],
   "source": [
    "# Convert to numeric\n",
    "num_cols = ['REGION','DIVISION','STATEFP','STATENS','ALAND','AWATER']\n",
    "\n",
    "for col in num_cols:\n",
    "    usa_states[col] = pd.to_numeric(usa_states[col])\n",
    "\n",
    "usa_states.dtypes"
   ]
  },
  {
   "cell_type": "markdown",
   "metadata": {},
   "source": [
    "### 1.4.3 Consolidate State Data\n",
    "GeoDataFrame to include the 50 states and D.C."
   ]
  },
  {
   "cell_type": "code",
   "execution_count": 736,
   "metadata": {},
   "outputs": [
    {
     "data": {
      "text/plain": [
       "56"
      ]
     },
     "execution_count": 736,
     "metadata": {},
     "output_type": "execute_result"
    }
   ],
   "source": [
    "usa_states['STATEFP'].nunique()"
   ]
  },
  {
   "cell_type": "code",
   "execution_count": 737,
   "metadata": {},
   "outputs": [
    {
     "name": "stdout",
     "output_type": "stream",
     "text": [
      "(51, 11)\n",
      "(49, 11)\n"
     ]
    }
   ],
   "source": [
    "# USA States\n",
    "usa_states = usa_states[~usa_states.STATEFP.isin(['60','66','69','72','78'])]\n",
    "print(usa_states.shape)\n",
    "\n",
    "# Contiguous USA\n",
    "usa_cont_states = usa_states[~usa_states.STATEFP.isin(['02','15'])]\n",
    "print(usa_cont_states.shape)"
   ]
  },
  {
   "cell_type": "markdown",
   "metadata": {},
   "source": [
    "### 1.5.1 Combine Visuals"
   ]
  },
  {
   "cell_type": "code",
   "execution_count": 738,
   "metadata": {
    "scrolled": true
   },
   "outputs": [
    {
     "data": {
      "text/plain": [
       "(17.86546, 72.439786)"
      ]
     },
     "execution_count": 738,
     "metadata": {},
     "output_type": "execute_result"
    },
    {
     "data": {
      "image/png": "[encoded data removed]",
      "text/plain": [
       "<Figure size 1008x864 with 1 Axes>"
      ]
     },
     "metadata": {
      "needs_background": "light"
     },
     "output_type": "display_data"
    }
   ],
   "source": [
    "# Plot all counties with hospital data\n",
    "fig, ax = plt.subplots(figsize=(14,12))\n",
    "ax.set(title='Hospitals with Covid Cases in the USA')\n",
    "\n",
    "# plot states\n",
    "usa_states.plot(ax=ax, edgecolor='black', facecolor='none')\n",
    "# plot counties\n",
    "usa_state_counties.plot(ax=ax)\n",
    "# plot hospitals\n",
    "gdf_hosp.plot(markersize=0.2, color='red', ax=ax)\n",
    "\n",
    "xlim = ([usa_states.total_bounds[0]-1,  usa_states.total_bounds[2]+1])\n",
    "ylim = ([usa_states.total_bounds[1]-1,  usa_states.total_bounds[3]+1])\n",
    "\n",
    "ax.set_xlim(xlim)\n",
    "ax.set_ylim(ylim)"
   ]
  },
  {
   "cell_type": "code",
   "execution_count": 739,
   "metadata": {},
   "outputs": [
    {
     "data": {
      "text/plain": [
       "(23.396307999999998, 50.384479)"
      ]
     },
     "execution_count": 739,
     "metadata": {},
     "output_type": "execute_result"
    },
    {
     "data": {
      "image/png": "[encoded data removed]",
      "text/plain": [
       "<Figure size 1008x864 with 1 Axes>"
      ]
     },
     "metadata": {
      "needs_background": "light"
     },
     "output_type": "display_data"
    }
   ],
   "source": [
    "# Overlay maps to show hospitals with Covid cases in the contiguous USA\n",
    "\n",
    "fig, ax = plt.subplots(figsize=(14,12))\n",
    "ax.set(title='Hospitals with Covid Cases in the Contiguous USA')\n",
    "\n",
    "\n",
    "# Plot counties\n",
    "usa_cont_counties.plot(ax=ax)\n",
    "# Plot states\n",
    "usa_cont_states.plot(ax=ax, edgecolor='black', facecolor='none')\n",
    "# Plot hospitals\n",
    "gdf_hosp.plot(markersize=0.5, color='red', ax=ax)\n",
    "\n",
    "# Limit to the contiguous USA\n",
    "xlim = ([usa_cont_states.total_bounds[0]-1,  usa_cont_states.total_bounds[2]+1])\n",
    "ylim = ([usa_cont_states.total_bounds[1]-1,  usa_cont_states.total_bounds[3]+1])\n",
    "\n",
    "ax.set_xlim(xlim)\n",
    "ax.set_ylim(ylim)"
   ]
  },
  {
   "cell_type": "markdown",
   "metadata": {},
   "source": [
    "### 1.5.2 Relationship Between DataFrames"
   ]
  },
  {
   "cell_type": "markdown",
   "metadata": {},
   "source": [
    "***Hospital Data and GeoData***\n",
    "The <i>hosp</i> GeoDataFrame includes the total number of cases per hospital with Covid patients. Includes county name and state name.\n",
    "\n",
    "***Population Data***\n",
    "The <i>pop</i> dataframe includes state and county FP identifiers, along with county name and state name.\n",
    "\n",
    "***County GeoData***\n",
    "The <i>usa_state_counties</i> and <i>usa_cont_counties</i> GeoDataFrames include state FP, county FP, and county name. \n",
    "\n",
    "***State GeoData***\n",
    "The <i>usa_states</i> and <i>usa_cont_states</i> GeoDataFrames include state FP and state name."
   ]
  },
  {
   "cell_type": "markdown",
   "metadata": {},
   "source": [
    "### 1.6.1 Save Datasets"
   ]
  },
  {
   "cell_type": "code",
   "execution_count": null,
   "metadata": {},
   "outputs": [],
   "source": [
    "'''# Save geodf of USA hospitals (hosp) --> ../data/interim\n",
    "# 1_1_usa_hosp.gpkg\n",
    "hosp.to_file('../data/interim/1_1_usa_hosp.gpkg', layer='hospitals', driver='GPKG')\n",
    "\n",
    "\n",
    "# Save df of US Census by county (pop) --> ../data/interim\n",
    "# 1_1_usa_pop.csv\n",
    "pop.to_csv('../data/interim/1_1_usa_pop.csv')\n",
    "\n",
    "\n",
    "# Save geodf of all USA state counties (usa_state_counties) --> ../data/interim\n",
    "# 1_1_usa_counties_geo.gpkg\n",
    "usa_state_counties.to_file('../data/interim/1_1_usa_counties_geo.gpkg', layer='USA counties', driver='GPKG')\n",
    "\n",
    "\n",
    "# Save geodf of contiguous USA counties (usa_cont_counties) --> ../data/interim\n",
    "# 1_1_usa_cont_counties_geo.shp\n",
    "usa_cont_counties.to_file('../data/interim/1_1_usa_cont_counties_geo.gpkg', layer='USA counties contiguous', driver='GPKG')\n",
    "\n",
    "\n",
    "# Save geodf of USA states (usa_states) --> ../data/interim\n",
    "# 1_1_usa_states_geo\n",
    "usa_states.to_file('../data/interim/1_1_usa_states_geo.gpkg')\n",
    "\n",
    "# Save geodf of USA cont states (usa_cont_states)\n",
    "# 1_1_usa_cont_states_geo\n",
    "usa_cont_states.to_file('../data/interim/1_1_usa_cont_states_geo.gpkg')\n",
    "\n",
    "# Using geopackage format due to faster rendering and contained in single file\n",
    "'''"
   ]
  }
 ],
 "metadata": {
  "kernelspec": {
   "display_name": "CovHosEnv",
   "language": "python",
   "name": "covhosenv"
  },
  "language_info": {
   "codemirror_mode": {
    "name": "ipython",
    "version": 3
   },
   "file_extension": ".py",
   "mimetype": "text/x-python",
   "name": "python",
   "nbconvert_exporter": "python",
   "pygments_lexer": "ipython3",
   "version": "3.8.2"
  }
 },
 "nbformat": 4,
 "nbformat_minor": 4
}
